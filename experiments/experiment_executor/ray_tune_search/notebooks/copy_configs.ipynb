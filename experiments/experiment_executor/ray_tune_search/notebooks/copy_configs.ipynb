{
 "cells": [
  {
   "cell_type": "code",
   "execution_count": 4,
   "id": "945663a6-b80f-4ccc-a0a0-5a2010a6de5a",
   "metadata": {},
   "outputs": [
    {
     "name": "stdout",
     "output_type": "stream",
     "text": [
      "../experiments/simclr_all2/all_transformations/simclr_full/tem_transf/kuhar/simclr_full_kuhar_P75/base_config.yaml\n",
      "../experiments/simclr_all2/all_transformations/simclr_full/tem_transf/kuhar/simclr_full_kuhar_P200/base_config.yaml\n",
      "../experiments/simclr_all2/all_transformations/simclr_full/tem_transf/kuhar/simclr_full_kuhar_P100/base_config.yaml\n",
      "../experiments/simclr_all2/all_transformations/simclr_full/tem_transf/kuhar/simclr_full_kuhar_P25/base_config.yaml\n",
      "../experiments/simclr_all2/all_transformations/simclr_full/tem_transf/kuhar/simclr_full_kuhar_P50/base_config.yaml\n",
      "Copiado de archivos completado.\n",
      "../experiments/simclr_all2/all_transformations/simclr_full/tem_transf/motionsense/simclr_full_motionsense_P75/base_config.yaml\n",
      "../experiments/simclr_all2/all_transformations/simclr_full/tem_transf/motionsense/simclr_full_motionsense_P200/base_config.yaml\n",
      "../experiments/simclr_all2/all_transformations/simclr_full/tem_transf/motionsense/simclr_full_motionsense_P100/base_config.yaml\n",
      "../experiments/simclr_all2/all_transformations/simclr_full/tem_transf/motionsense/simclr_full_motionsense_P25/base_config.yaml\n",
      "../experiments/simclr_all2/all_transformations/simclr_full/tem_transf/motionsense/simclr_full_motionsense_P50/base_config.yaml\n",
      "Copiado de archivos completado.\n",
      "../experiments/simclr_all2/all_transformations/simclr_full/tem_transf/wisdm/simclr_full_wisdm_P75/base_config.yaml\n",
      "../experiments/simclr_all2/all_transformations/simclr_full/tem_transf/wisdm/simclr_full_wisdm_P200/base_config.yaml\n",
      "../experiments/simclr_all2/all_transformations/simclr_full/tem_transf/wisdm/simclr_full_wisdm_P100/base_config.yaml\n",
      "../experiments/simclr_all2/all_transformations/simclr_full/tem_transf/wisdm/simclr_full_wisdm_P25/base_config.yaml\n",
      "../experiments/simclr_all2/all_transformations/simclr_full/tem_transf/wisdm/simclr_full_wisdm_P50/base_config.yaml\n",
      "Copiado de archivos completado.\n",
      "../experiments/simclr_all2/all_transformations/simclr_full/tem_transf/realworld_thigh/simclr_full_realworld_thigh_P75/base_config.yaml\n",
      "../experiments/simclr_all2/all_transformations/simclr_full/tem_transf/realworld_thigh/simclr_full_realworld_thigh_P200/base_config.yaml\n",
      "../experiments/simclr_all2/all_transformations/simclr_full/tem_transf/realworld_thigh/simclr_full_realworld_thigh_P100/base_config.yaml\n",
      "../experiments/simclr_all2/all_transformations/simclr_full/tem_transf/realworld_thigh/simclr_full_realworld_thigh_P25/base_config.yaml\n",
      "../experiments/simclr_all2/all_transformations/simclr_full/tem_transf/realworld_thigh/simclr_full_realworld_thigh_P50/base_config.yaml\n",
      "Copiado de archivos completado.\n",
      "../experiments/simclr_all2/all_transformations/simclr_full/tem_transf/realworld_waist/simclr_full_realworld_waist_P75/base_config.yaml\n",
      "../experiments/simclr_all2/all_transformations/simclr_full/tem_transf/realworld_waist/simclr_full_realworld_waist_P200/base_config.yaml\n",
      "../experiments/simclr_all2/all_transformations/simclr_full/tem_transf/realworld_waist/simclr_full_realworld_waist_P100/base_config.yaml\n",
      "../experiments/simclr_all2/all_transformations/simclr_full/tem_transf/realworld_waist/simclr_full_realworld_waist_P25/base_config.yaml\n",
      "../experiments/simclr_all2/all_transformations/simclr_full/tem_transf/realworld_waist/simclr_full_realworld_waist_P50/base_config.yaml\n",
      "Copiado de archivos completado.\n"
     ]
    }
   ],
   "source": [
    "import os\n",
    "import shutil\n",
    "\n",
    "def criar_exp(dataset_base,dataset_dest):\n",
    "    root_directory = '../experiments/simclr_all/all_transformations/simclr_full/tem_transf/'+dataset_base\n",
    "    destination_directory = '../experiments/simclr_all2/all_transformations/simclr_full/tem_transf/'+dataset_dest\n",
    "    \n",
    "    \n",
    "    for root, dirs, files in os.walk(root_directory):\n",
    "        for directory in dirs:\n",
    "            current_directory = os.path.join(root, directory)\n",
    "            directory = directory.replace(dataset_base, dataset_dest)\n",
    "    \n",
    "            dest_subfolder = os.path.join(destination_directory, directory)\n",
    "            os.makedirs(dest_subfolder, exist_ok=True)\n",
    "    \n",
    "            # Copia los archivos 'exploration_config.yaml' y 'base_config.yaml' si existen\n",
    "            for filename in ['exploration_config.yaml', 'base_config.yaml']:\n",
    "                source_file = os.path.join(current_directory, filename)\n",
    "                if os.path.isfile(source_file):\n",
    "                    dest_file = os.path.join(dest_subfolder, filename)\n",
    "                    shutil.copy(source_file, dest_file)\n",
    "                    if(filename=='base_config.yaml'):\n",
    "                        print(dest_file)\n",
    "                        with open(dest_file, 'r') as file:\n",
    "                            config_data = file.read()\n",
    "                        config_data = config_data.replace(dataset_base,dataset_dest)\n",
    "    \n",
    "                        with open(dest_file, 'w') as file:\n",
    "                            file.write(config_data)\n",
    "            \n",
    "    \n",
    "    \n",
    "    print(\"Copiado de archivos completado.\")\n",
    "    \n",
    "datasets = ['kuhar', 'motionsense',  'wisdm', 'realworld_thigh', 'realworld_waist']\n",
    "for dataset in datasets:\n",
    "    criar_exp('uci', dataset)    \n"
   ]
  },
  {
   "cell_type": "code",
   "execution_count": null,
   "id": "237fb918-a90d-4e16-89db-21da62a3a403",
   "metadata": {},
   "outputs": [],
   "source": []
  }
 ],
 "metadata": {
  "kernelspec": {
   "display_name": "Python 3 (ipykernel)",
   "language": "python",
   "name": "python3"
  },
  "language_info": {
   "codemirror_mode": {
    "name": "ipython",
    "version": 3
   },
   "file_extension": ".py",
   "mimetype": "text/x-python",
   "name": "python",
   "nbconvert_exporter": "python",
   "pygments_lexer": "ipython3",
   "version": "3.10.13"
  }
 },
 "nbformat": 4,
 "nbformat_minor": 5
}
