{
 "cells": [
  {
   "cell_type": "code",
   "execution_count": 1,
   "id": "606f4676-cf7f-4f58-aaf7-d2c96c30d748",
   "metadata": {},
   "outputs": [],
   "source": [
    "import pandas as pd\n",
    "import numpy as np\n",
    "import matplotlib.pyplot as plt\n",
    "import yaml\n",
    "import pandas as pd\n",
    "import matplotlib.pyplot as plt\n",
    "from ipywidgets import interact, widgets\n",
    "import numpy as np\n",
    "import plotly.express as px\n",
    "import pandas as pd\n",
    "import matplotlib.pyplot as plt\n",
    "import yaml\n",
    "\n",
    "    "
   ]
  },
  {
   "cell_type": "code",
   "execution_count": 2,
   "id": "63360d8c-f5fc-4332-92f3-e3c5ec1e509c",
   "metadata": {},
   "outputs": [],
   "source": [
    "def read_csv(dataset,type_simclr,n_transformations,percentage):\n",
    "    try:\n",
    "        \n",
    "        data = pd.read_csv(f'../experiments/simclr_all/by_n_transformations/{type_simclr}/{dataset}/{type_simclr}_{n_transformations}T_{dataset}_P{percentage}/data.csv')\n",
    "        data.loc[data['score'] < 0,'score'] = 0\n",
    "    except:\n",
    "        print(f'experiments/simclr_all/{type_simclr}/{dataset}/{type_simclr}_{n_transformations}T_{dataset}_P{percentage}/data.csv')\n",
    "        data = pd.DataFrame({'Unnamed: 0': [], 'score': []})\n",
    "    return data\n",
    "\n",
    "def get_no_reducer_score(dataset):\n",
    "    with open(f'../TV_sb_no_reducer/scores/no_reducer_{dataset}.yaml') as f:\n",
    "        score = yaml.load(f, Loader=yaml.FullLoader)\n",
    "        score = score['score']\n",
    "        #print(score)\n",
    "    return score"
   ]
  },
  {
   "cell_type": "code",
   "execution_count": 3,
   "id": "e4b4a955-cd07-4fd4-b69a-2503dadef80e",
   "metadata": {},
   "outputs": [
    {
     "data": {
      "text/plain": [
       "0.8470588235294118"
      ]
     },
     "execution_count": 3,
     "metadata": {},
     "output_type": "execute_result"
    }
   ],
   "source": [
    "dataset_default = 'uci'\n",
    "type_simclr_default='simclr_full'\n",
    "percentage_default=100\n",
    "n_transformations_default=2\n",
    "data=read_csv(dataset_default,type_simclr_default,n_transformations_default,percentage_default)\n",
    "score_no_reducer=get_no_reducer_score(dataset_default)\n",
    "score_no_reducer"
   ]
  },
  {
   "cell_type": "code",
   "execution_count": 4,
   "id": "59e6359e-4588-44f0-82b0-22200c696c69",
   "metadata": {},
   "outputs": [
    {
     "data": {
      "text/html": [
       "<div>\n",
       "<style scoped>\n",
       "    .dataframe tbody tr th:only-of-type {\n",
       "        vertical-align: middle;\n",
       "    }\n",
       "\n",
       "    .dataframe tbody tr th {\n",
       "        vertical-align: top;\n",
       "    }\n",
       "\n",
       "    .dataframe thead th {\n",
       "        text-align: right;\n",
       "    }\n",
       "</style>\n",
       "<table border=\"1\" class=\"dataframe\">\n",
       "  <thead>\n",
       "    <tr style=\"text-align: right;\">\n",
       "      <th></th>\n",
       "      <th>Unnamed: 0</th>\n",
       "      <th>score</th>\n",
       "      <th>randomforest-100-accuracy (mean)</th>\n",
       "      <th>randomforest-100-accuracy (std)</th>\n",
       "      <th>randomforest-100-f1-score macro (mean)</th>\n",
       "      <th>randomforest-100-f1-score macro (std)</th>\n",
       "      <th>randomforest-100-f1-score weighted (mean)</th>\n",
       "      <th>randomforest-100-f1-score weighted (std)</th>\n",
       "      <th>KNN-5-accuracy (mean)</th>\n",
       "      <th>KNN-5-accuracy (std)</th>\n",
       "      <th>...</th>\n",
       "      <th>hostname</th>\n",
       "      <th>node_ip</th>\n",
       "      <th>time_since_restore</th>\n",
       "      <th>iterations_since_restore</th>\n",
       "      <th>checkpoint_dir_name</th>\n",
       "      <th>config/temperature_head</th>\n",
       "      <th>config/latent_dim</th>\n",
       "      <th>config/batch_size</th>\n",
       "      <th>config/transform_funcs</th>\n",
       "      <th>logdir</th>\n",
       "    </tr>\n",
       "  </thead>\n",
       "  <tbody>\n",
       "    <tr>\n",
       "      <th>0</th>\n",
       "      <td>0</td>\n",
       "      <td>0.809412</td>\n",
       "      <td>0.809412</td>\n",
       "      <td>0.005228</td>\n",
       "      <td>0.806950</td>\n",
       "      <td>0.005033</td>\n",
       "      <td>0.806950</td>\n",
       "      <td>0.005033</td>\n",
       "      <td>0.791176</td>\n",
       "      <td>0.0</td>\n",
       "      <td>...</td>\n",
       "      <td>6758e5a243b0</td>\n",
       "      <td>172.17.0.4</td>\n",
       "      <td>24.336546</td>\n",
       "      <td>1</td>\n",
       "      <td>NaN</td>\n",
       "      <td>0.5</td>\n",
       "      <td>289</td>\n",
       "      <td>221</td>\n",
       "      <td>(6, 9)</td>\n",
       "      <td>854d0b2c</td>\n",
       "    </tr>\n",
       "    <tr>\n",
       "      <th>1</th>\n",
       "      <td>1</td>\n",
       "      <td>0.820882</td>\n",
       "      <td>0.820882</td>\n",
       "      <td>0.009343</td>\n",
       "      <td>0.819430</td>\n",
       "      <td>0.009289</td>\n",
       "      <td>0.819430</td>\n",
       "      <td>0.009289</td>\n",
       "      <td>0.814706</td>\n",
       "      <td>0.0</td>\n",
       "      <td>...</td>\n",
       "      <td>6758e5a243b0</td>\n",
       "      <td>172.17.0.4</td>\n",
       "      <td>20.855156</td>\n",
       "      <td>1</td>\n",
       "      <td>NaN</td>\n",
       "      <td>0.3</td>\n",
       "      <td>281</td>\n",
       "      <td>479</td>\n",
       "      <td>(4, 9)</td>\n",
       "      <td>577be83a</td>\n",
       "    </tr>\n",
       "    <tr>\n",
       "      <th>2</th>\n",
       "      <td>2</td>\n",
       "      <td>0.785294</td>\n",
       "      <td>0.780000</td>\n",
       "      <td>0.008504</td>\n",
       "      <td>0.778605</td>\n",
       "      <td>0.008486</td>\n",
       "      <td>0.778605</td>\n",
       "      <td>0.008486</td>\n",
       "      <td>0.785294</td>\n",
       "      <td>0.0</td>\n",
       "      <td>...</td>\n",
       "      <td>6758e5a243b0</td>\n",
       "      <td>172.17.0.4</td>\n",
       "      <td>25.099134</td>\n",
       "      <td>1</td>\n",
       "      <td>NaN</td>\n",
       "      <td>0.4</td>\n",
       "      <td>331</td>\n",
       "      <td>506</td>\n",
       "      <td>(3, 4)</td>\n",
       "      <td>57e37c16</td>\n",
       "    </tr>\n",
       "    <tr>\n",
       "      <th>3</th>\n",
       "      <td>3</td>\n",
       "      <td>0.798235</td>\n",
       "      <td>0.798235</td>\n",
       "      <td>0.004201</td>\n",
       "      <td>0.797480</td>\n",
       "      <td>0.004256</td>\n",
       "      <td>0.797480</td>\n",
       "      <td>0.004256</td>\n",
       "      <td>0.785294</td>\n",
       "      <td>0.0</td>\n",
       "      <td>...</td>\n",
       "      <td>6758e5a243b0</td>\n",
       "      <td>172.17.0.4</td>\n",
       "      <td>10.771970</td>\n",
       "      <td>1</td>\n",
       "      <td>NaN</td>\n",
       "      <td>1.0</td>\n",
       "      <td>15</td>\n",
       "      <td>368</td>\n",
       "      <td>(0, 5)</td>\n",
       "      <td>0a47e7d5</td>\n",
       "    </tr>\n",
       "    <tr>\n",
       "      <th>4</th>\n",
       "      <td>4</td>\n",
       "      <td>0.776176</td>\n",
       "      <td>0.776176</td>\n",
       "      <td>0.005495</td>\n",
       "      <td>0.774930</td>\n",
       "      <td>0.005491</td>\n",
       "      <td>0.774930</td>\n",
       "      <td>0.005491</td>\n",
       "      <td>0.767647</td>\n",
       "      <td>0.0</td>\n",
       "      <td>...</td>\n",
       "      <td>6758e5a243b0</td>\n",
       "      <td>172.17.0.4</td>\n",
       "      <td>15.543819</td>\n",
       "      <td>1</td>\n",
       "      <td>NaN</td>\n",
       "      <td>0.8</td>\n",
       "      <td>84</td>\n",
       "      <td>215</td>\n",
       "      <td>(3, 6)</td>\n",
       "      <td>86b293c0</td>\n",
       "    </tr>\n",
       "    <tr>\n",
       "      <th>...</th>\n",
       "      <td>...</td>\n",
       "      <td>...</td>\n",
       "      <td>...</td>\n",
       "      <td>...</td>\n",
       "      <td>...</td>\n",
       "      <td>...</td>\n",
       "      <td>...</td>\n",
       "      <td>...</td>\n",
       "      <td>...</td>\n",
       "      <td>...</td>\n",
       "      <td>...</td>\n",
       "      <td>...</td>\n",
       "      <td>...</td>\n",
       "      <td>...</td>\n",
       "      <td>...</td>\n",
       "      <td>...</td>\n",
       "      <td>...</td>\n",
       "      <td>...</td>\n",
       "      <td>...</td>\n",
       "      <td>...</td>\n",
       "      <td>...</td>\n",
       "    </tr>\n",
       "    <tr>\n",
       "      <th>996</th>\n",
       "      <td>996</td>\n",
       "      <td>0.844118</td>\n",
       "      <td>0.825294</td>\n",
       "      <td>0.005912</td>\n",
       "      <td>0.824248</td>\n",
       "      <td>0.006025</td>\n",
       "      <td>0.824248</td>\n",
       "      <td>0.006025</td>\n",
       "      <td>0.844118</td>\n",
       "      <td>0.0</td>\n",
       "      <td>...</td>\n",
       "      <td>6758e5a243b0</td>\n",
       "      <td>172.17.0.4</td>\n",
       "      <td>18.812583</td>\n",
       "      <td>1</td>\n",
       "      <td>NaN</td>\n",
       "      <td>0.9</td>\n",
       "      <td>273</td>\n",
       "      <td>165</td>\n",
       "      <td>(1, 10)</td>\n",
       "      <td>2af1b49a</td>\n",
       "    </tr>\n",
       "    <tr>\n",
       "      <th>997</th>\n",
       "      <td>997</td>\n",
       "      <td>0.804118</td>\n",
       "      <td>0.804118</td>\n",
       "      <td>0.003767</td>\n",
       "      <td>0.802275</td>\n",
       "      <td>0.003841</td>\n",
       "      <td>0.802275</td>\n",
       "      <td>0.003841</td>\n",
       "      <td>0.791176</td>\n",
       "      <td>0.0</td>\n",
       "      <td>...</td>\n",
       "      <td>6758e5a243b0</td>\n",
       "      <td>172.17.0.4</td>\n",
       "      <td>18.862502</td>\n",
       "      <td>1</td>\n",
       "      <td>NaN</td>\n",
       "      <td>0.5</td>\n",
       "      <td>251</td>\n",
       "      <td>187</td>\n",
       "      <td>(6, 10)</td>\n",
       "      <td>ec703457</td>\n",
       "    </tr>\n",
       "    <tr>\n",
       "      <th>998</th>\n",
       "      <td>998</td>\n",
       "      <td>0.808824</td>\n",
       "      <td>0.795000</td>\n",
       "      <td>0.008730</td>\n",
       "      <td>0.793847</td>\n",
       "      <td>0.008719</td>\n",
       "      <td>0.793847</td>\n",
       "      <td>0.008719</td>\n",
       "      <td>0.808824</td>\n",
       "      <td>0.0</td>\n",
       "      <td>...</td>\n",
       "      <td>6758e5a243b0</td>\n",
       "      <td>172.17.0.4</td>\n",
       "      <td>19.598082</td>\n",
       "      <td>1</td>\n",
       "      <td>NaN</td>\n",
       "      <td>1.0</td>\n",
       "      <td>290</td>\n",
       "      <td>209</td>\n",
       "      <td>(2, 11)</td>\n",
       "      <td>9ebe2b51</td>\n",
       "    </tr>\n",
       "    <tr>\n",
       "      <th>999</th>\n",
       "      <td>999</td>\n",
       "      <td>0.764706</td>\n",
       "      <td>0.747353</td>\n",
       "      <td>0.009526</td>\n",
       "      <td>0.746095</td>\n",
       "      <td>0.009624</td>\n",
       "      <td>0.746095</td>\n",
       "      <td>0.009624</td>\n",
       "      <td>0.764706</td>\n",
       "      <td>0.0</td>\n",
       "      <td>...</td>\n",
       "      <td>6758e5a243b0</td>\n",
       "      <td>172.17.0.4</td>\n",
       "      <td>20.297359</td>\n",
       "      <td>1</td>\n",
       "      <td>NaN</td>\n",
       "      <td>0.3</td>\n",
       "      <td>197</td>\n",
       "      <td>129</td>\n",
       "      <td>(0, 2)</td>\n",
       "      <td>5ac014c2</td>\n",
       "    </tr>\n",
       "    <tr>\n",
       "      <th>1000</th>\n",
       "      <td>1000</td>\n",
       "      <td>0.817647</td>\n",
       "      <td>0.816176</td>\n",
       "      <td>0.004788</td>\n",
       "      <td>0.814380</td>\n",
       "      <td>0.004795</td>\n",
       "      <td>0.814380</td>\n",
       "      <td>0.004795</td>\n",
       "      <td>0.817647</td>\n",
       "      <td>0.0</td>\n",
       "      <td>...</td>\n",
       "      <td>6758e5a243b0</td>\n",
       "      <td>172.17.0.4</td>\n",
       "      <td>21.751478</td>\n",
       "      <td>1</td>\n",
       "      <td>NaN</td>\n",
       "      <td>0.2</td>\n",
       "      <td>203</td>\n",
       "      <td>155</td>\n",
       "      <td>(2, 5)</td>\n",
       "      <td>c4f29867</td>\n",
       "    </tr>\n",
       "  </tbody>\n",
       "</table>\n",
       "<p>1001 rows × 38 columns</p>\n",
       "</div>"
      ],
      "text/plain": [
       "      Unnamed: 0     score  randomforest-100-accuracy (mean)  \\\n",
       "0              0  0.809412                          0.809412   \n",
       "1              1  0.820882                          0.820882   \n",
       "2              2  0.785294                          0.780000   \n",
       "3              3  0.798235                          0.798235   \n",
       "4              4  0.776176                          0.776176   \n",
       "...          ...       ...                               ...   \n",
       "996          996  0.844118                          0.825294   \n",
       "997          997  0.804118                          0.804118   \n",
       "998          998  0.808824                          0.795000   \n",
       "999          999  0.764706                          0.747353   \n",
       "1000        1000  0.817647                          0.816176   \n",
       "\n",
       "      randomforest-100-accuracy (std)  randomforest-100-f1-score macro (mean)  \\\n",
       "0                            0.005228                                0.806950   \n",
       "1                            0.009343                                0.819430   \n",
       "2                            0.008504                                0.778605   \n",
       "3                            0.004201                                0.797480   \n",
       "4                            0.005495                                0.774930   \n",
       "...                               ...                                     ...   \n",
       "996                          0.005912                                0.824248   \n",
       "997                          0.003767                                0.802275   \n",
       "998                          0.008730                                0.793847   \n",
       "999                          0.009526                                0.746095   \n",
       "1000                         0.004788                                0.814380   \n",
       "\n",
       "      randomforest-100-f1-score macro (std)  \\\n",
       "0                                  0.005033   \n",
       "1                                  0.009289   \n",
       "2                                  0.008486   \n",
       "3                                  0.004256   \n",
       "4                                  0.005491   \n",
       "...                                     ...   \n",
       "996                                0.006025   \n",
       "997                                0.003841   \n",
       "998                                0.008719   \n",
       "999                                0.009624   \n",
       "1000                               0.004795   \n",
       "\n",
       "      randomforest-100-f1-score weighted (mean)  \\\n",
       "0                                      0.806950   \n",
       "1                                      0.819430   \n",
       "2                                      0.778605   \n",
       "3                                      0.797480   \n",
       "4                                      0.774930   \n",
       "...                                         ...   \n",
       "996                                    0.824248   \n",
       "997                                    0.802275   \n",
       "998                                    0.793847   \n",
       "999                                    0.746095   \n",
       "1000                                   0.814380   \n",
       "\n",
       "      randomforest-100-f1-score weighted (std)  KNN-5-accuracy (mean)  \\\n",
       "0                                     0.005033               0.791176   \n",
       "1                                     0.009289               0.814706   \n",
       "2                                     0.008486               0.785294   \n",
       "3                                     0.004256               0.785294   \n",
       "4                                     0.005491               0.767647   \n",
       "...                                        ...                    ...   \n",
       "996                                   0.006025               0.844118   \n",
       "997                                   0.003841               0.791176   \n",
       "998                                   0.008719               0.808824   \n",
       "999                                   0.009624               0.764706   \n",
       "1000                                  0.004795               0.817647   \n",
       "\n",
       "      KNN-5-accuracy (std)  ...      hostname     node_ip  time_since_restore  \\\n",
       "0                      0.0  ...  6758e5a243b0  172.17.0.4           24.336546   \n",
       "1                      0.0  ...  6758e5a243b0  172.17.0.4           20.855156   \n",
       "2                      0.0  ...  6758e5a243b0  172.17.0.4           25.099134   \n",
       "3                      0.0  ...  6758e5a243b0  172.17.0.4           10.771970   \n",
       "4                      0.0  ...  6758e5a243b0  172.17.0.4           15.543819   \n",
       "...                    ...  ...           ...         ...                 ...   \n",
       "996                    0.0  ...  6758e5a243b0  172.17.0.4           18.812583   \n",
       "997                    0.0  ...  6758e5a243b0  172.17.0.4           18.862502   \n",
       "998                    0.0  ...  6758e5a243b0  172.17.0.4           19.598082   \n",
       "999                    0.0  ...  6758e5a243b0  172.17.0.4           20.297359   \n",
       "1000                   0.0  ...  6758e5a243b0  172.17.0.4           21.751478   \n",
       "\n",
       "      iterations_since_restore  checkpoint_dir_name  config/temperature_head  \\\n",
       "0                            1                  NaN                      0.5   \n",
       "1                            1                  NaN                      0.3   \n",
       "2                            1                  NaN                      0.4   \n",
       "3                            1                  NaN                      1.0   \n",
       "4                            1                  NaN                      0.8   \n",
       "...                        ...                  ...                      ...   \n",
       "996                          1                  NaN                      0.9   \n",
       "997                          1                  NaN                      0.5   \n",
       "998                          1                  NaN                      1.0   \n",
       "999                          1                  NaN                      0.3   \n",
       "1000                         1                  NaN                      0.2   \n",
       "\n",
       "      config/latent_dim  config/batch_size  config/transform_funcs    logdir  \n",
       "0                   289                221                  (6, 9)  854d0b2c  \n",
       "1                   281                479                  (4, 9)  577be83a  \n",
       "2                   331                506                  (3, 4)  57e37c16  \n",
       "3                    15                368                  (0, 5)  0a47e7d5  \n",
       "4                    84                215                  (3, 6)  86b293c0  \n",
       "...                 ...                ...                     ...       ...  \n",
       "996                 273                165                 (1, 10)  2af1b49a  \n",
       "997                 251                187                 (6, 10)  ec703457  \n",
       "998                 290                209                 (2, 11)  9ebe2b51  \n",
       "999                 197                129                  (0, 2)  5ac014c2  \n",
       "1000                203                155                  (2, 5)  c4f29867  \n",
       "\n",
       "[1001 rows x 38 columns]"
      ]
     },
     "execution_count": 4,
     "metadata": {},
     "output_type": "execute_result"
    }
   ],
   "source": [
    "data"
   ]
  },
  {
   "cell_type": "code",
   "execution_count": 5,
   "id": "98992cc6-7aca-4886-b2c2-73a550174a88",
   "metadata": {},
   "outputs": [],
   "source": [
    "datasets = ['kuhar', 'motionsense', 'uci', 'wisdm', 'realworld_thigh', 'realworld_waist']\n",
    "transformations = ['1', '2', '3', '4']\n",
    "percentages = [25, 50, 75, 100, 200]\n",
    "type_simclr_options=['simclr_full','simclr_linear','simclr']\n"
   ]
  },
  {
   "cell_type": "code",
   "execution_count": 6,
   "id": "e3080d95-109c-45ef-baf4-3923c3447118",
   "metadata": {},
   "outputs": [
    {
     "data": {
      "application/vnd.jupyter.widget-view+json": {
       "model_id": "807a2b068caa405e9a4b6f5e347de22c",
       "version_major": 2,
       "version_minor": 0
      },
      "text/plain": [
       "interactive(children=(Dropdown(description='dataset', index=2, options=('kuhar', 'motionsense', 'uci', 'wisdm'…"
      ]
     },
     "metadata": {},
     "output_type": "display_data"
    },
    {
     "data": {
      "text/plain": [
       "<function __main__.plot_best_score(dataset, type_simclr)>"
      ]
     },
     "execution_count": 6,
     "metadata": {},
     "output_type": "execute_result"
    }
   ],
   "source": [
    "import plotly.express as px\n",
    "import plotly.graph_objects as go\n",
    "best_transformation={}\n",
    "def plot_best_score(dataset, type_simclr):\n",
    "    fig = go.Figure() \n",
    "\n",
    "    for percentage in percentages:\n",
    "        best_scores = []  \n",
    "        \n",
    "        max_score = -1  \n",
    "        for i, n_transformations in enumerate(transformations):\n",
    "            data = read_csv(dataset, type_simclr, n_transformations, percentage)\n",
    "            score_no_reducer = get_no_reducer_score(dataset)                \n",
    "            max_dataset_score = data['score'].max()\n",
    "            \n",
    "            if max_dataset_score > max_score:\n",
    "                max_score = max_dataset_score \n",
    "                max_dataset_score_ = data['score'].cummax()\n",
    "                n_transformations_ = n_transformations\n",
    "                \n",
    "            best_scores.append(max_score)\n",
    "        #best_transformation[percentage]=n_transformations_\n",
    "\n",
    "        fig.add_trace(go.Scatter(x=max_dataset_score_.index, y=max_dataset_score_, mode='lines', name=f': {percentage}% {n_transformations_} T'))\n",
    "\n",
    "    fig.add_trace(go.Scatter(x=max_dataset_score_.index, y=[score_no_reducer] * len(max_dataset_score_), mode='lines', line=dict(dash='dash'), name='No reducer'))\n",
    "\n",
    "    fig.update_layout(\n",
    "        title=f'{dataset} Best Scores for Different Transformations',\n",
    "        xaxis_title='Iterations',\n",
    "        yaxis_title='Best accuracy',\n",
    "        showlegend=True\n",
    "    )\n",
    "\n",
    "    fig.show()\n",
    "interact(plot_best_score, dataset=widgets.Dropdown(options=datasets, value=dataset_default), type_simclr=widgets.Dropdown(options=type_simclr_options, value=type_simclr_default))\n"
   ]
  },
  {
   "cell_type": "code",
   "execution_count": 7,
   "id": "32c81f18-9e0c-4d47-93a3-880dd594dfee",
   "metadata": {},
   "outputs": [
    {
     "data": {
      "text/plain": [
       "{}"
      ]
     },
     "execution_count": 7,
     "metadata": {},
     "output_type": "execute_result"
    }
   ],
   "source": [
    "best_transformation"
   ]
  },
  {
   "cell_type": "code",
   "execution_count": 8,
   "id": "844881ed-22c0-4646-970b-480e7a83fdd5",
   "metadata": {},
   "outputs": [
    {
     "data": {
      "application/vnd.jupyter.widget-view+json": {
       "model_id": "75837e6b2d4745778e16b48e9ea1f154",
       "version_major": 2,
       "version_minor": 0
      },
      "text/plain": [
       "interactive(children=(Dropdown(description='dataset', index=2, options=('kuhar', 'motionsense', 'uci', 'wisdm'…"
      ]
     },
     "metadata": {},
     "output_type": "display_data"
    },
    {
     "data": {
      "text/plain": [
       "<function __main__.update_hyperparameters_plot(dataset, type_simclr, transformation, percentage)>"
      ]
     },
     "execution_count": 8,
     "metadata": {},
     "output_type": "execute_result"
    }
   ],
   "source": [
    "\n",
    "def update_hyperparameters_plot(dataset, type_simclr, transformation, percentage):\n",
    "    data = read_csv(dataset, type_simclr, transformation, percentage)\n",
    "    score_no_reducer=get_no_reducer_score(dataset)\n",
    "    fig = px.scatter(data, x='Unnamed: 0', y='score', title=f'{dataset} - hyperparameters exploration', labels={'score': 'Scores'})\n",
    "    fig.update_xaxes(title_text='', showticklabels=False)\n",
    "    fig.update_yaxes(title_text='', showticklabels=False)\n",
    "    fig.add_scatter(x=data['Unnamed: 0'], y=data['score'].cummax(), mode='lines', line=dict(color='blue', width=4), name='MAX (KNN, SVC, RF)')\n",
    "    fig.add_scatter(x=data['Unnamed: 0'], y=[score_no_reducer] * len(data), mode='lines', line=dict(color='red', width=4), name='No reducer')\n",
    "    fig.update_traces(marker=dict(size=4), selector=dict(mode='markers'))\n",
    "\n",
    "    fig.show()\n",
    "\n",
    "\n",
    "# Crear widget interactivo\n",
    "interact(update_hyperparameters_plot, dataset=widgets.Dropdown(options=datasets, value=dataset_default), type_simclr=widgets.Dropdown(options=type_simclr_options, value=type_simclr_default), transformation=widgets.Dropdown(options=transformations, value=transformations[0]), percentage=widgets.Dropdown(options=percentages, value=percentages[0]))\n"
   ]
  },
  {
   "cell_type": "code",
   "execution_count": null,
   "id": "5b982c29-7026-493d-b2b4-ce96700679ee",
   "metadata": {},
   "outputs": [],
   "source": []
  },
  {
   "cell_type": "code",
   "execution_count": 9,
   "id": "152e0a58-c317-4ff2-8c24-cda159248014",
   "metadata": {},
   "outputs": [
    {
     "data": {
      "application/vnd.jupyter.widget-view+json": {
       "model_id": "ddb8f7d497304441859ba01640c3a93b",
       "version_major": 2,
       "version_minor": 0
      },
      "text/plain": [
       "interactive(children=(Dropdown(description='dataset', index=2, options=('kuhar', 'motionsense', 'uci', 'wisdm'…"
      ]
     },
     "metadata": {},
     "output_type": "display_data"
    },
    {
     "data": {
      "text/plain": [
       "<function __main__.plot_all_perc(dataset, type_simclr)>"
      ]
     },
     "execution_count": 9,
     "metadata": {},
     "output_type": "execute_result"
    }
   ],
   "source": [
    "def get_perc(fig,axs,dataset,percentage,type_simclr,indice_plot,n_transformations):\n",
    "    \n",
    "    data=read_csv(dataset,type_simclr,n_transformations,percentage)\n",
    "    score_no_reducer=get_no_reducer_score(dataset)\n",
    "    axs[indice_plot].set_title(f'Up to  {percentage}% of orig. dim.')\n",
    "    axs[indice_plot].plot(data['Unnamed: 0'], data['score'], '.', color='lightgray', label='scores')\n",
    "    axs[indice_plot].plot(data['score'].cummax(), color='blue', label='MAX (KNN, SVC, RF)')\n",
    "    axs[indice_plot].plot(data['Unnamed: 0'], [score_no_reducer]*len(data), color='red', label='No reducer')\n",
    "    axs[indice_plot].legend(loc='lower center')\n",
    "    axs[indice_plot].set_ylabel(f'Best accuracy on {dataset}_{n_transformations}T')\n",
    "    axs[0].grid()\n",
    "\n",
    "def plot_all_perc(dataset,type_simclr):\n",
    "    plot_per=True\n",
    "    for i, transf in enumerate(transformations):\n",
    "        fig, axs = plt.subplots(1, 5, figsize=(15, 5))\n",
    "    \n",
    "        # Subplots for each dataset\n",
    "        for j, percentage in enumerate(percentages):\n",
    "            get_perc(fig,axs,dataset,percentage,type_simclr,j,transf)\n",
    "\n",
    "interact(plot_all_perc, dataset=widgets.Dropdown(options=datasets, value=dataset_default), type_simclr=widgets.Dropdown(options=type_simclr_options, value=type_simclr_default))\n"
   ]
  },
  {
   "cell_type": "code",
   "execution_count": null,
   "id": "302e37ea-a859-42c3-9359-6de8f493b5a8",
   "metadata": {},
   "outputs": [],
   "source": []
  },
  {
   "cell_type": "code",
   "execution_count": 10,
   "id": "33fbc857-df56-4b48-a565-626a66e55863",
   "metadata": {},
   "outputs": [
    {
     "data": {
      "application/vnd.jupyter.widget-view+json": {
       "model_id": "16ed6c32db4148b5abe23c5f0fd8f304",
       "version_major": 2,
       "version_minor": 0
      },
      "text/plain": [
       "interactive(children=(Dropdown(description='dataset', index=2, options=('kuhar', 'motionsense', 'uci', 'wisdm'…"
      ]
     },
     "metadata": {},
     "output_type": "display_data"
    },
    {
     "data": {
      "text/plain": [
       "<function __main__.plot_best_acc_by_transf(dataset, type_simclr)>"
      ]
     },
     "execution_count": 10,
     "metadata": {},
     "output_type": "execute_result"
    }
   ],
   "source": [
    "def plot_best_acc_by_transf(dataset,type_simclr):\n",
    "    colors = ['green', 'blue', 'orange', 'gray', 'purple', 'brown']\n",
    "    best_score_all={}\n",
    "    \n",
    "    for i, n_transformations in enumerate(transformations):\n",
    "        best_score_all[n_transformations]=[]\n",
    "        for percentage in percentages:\n",
    "            data=read_csv(dataset,type_simclr,n_transformations,percentage)\n",
    "            score_no_reducer=get_no_reducer_score(dataset)\n",
    "            best_score_all[n_transformations].append(data['score'].max())\n",
    "            plt.plot(data['score'].cummax(), label=f'Percentage: {percentage}%')\n",
    "        plt.plot(data['Unnamed: 0'], [score_no_reducer]*len(data['Unnamed: 0']), '--',color='red', label='No reducer')\n",
    "        \n",
    "        \n",
    "        plt.title(f'{dataset}_{n_transformations}T - hyperparameters exploration')\n",
    "        plt.ylabel('Best accuracy')\n",
    "        plt.xlabel('Iterations')\n",
    "        plt.legend()\n",
    "        plt.grid()\n",
    "        plt.show()\n",
    "    \n",
    "\n",
    "interact(plot_best_acc_by_transf, dataset=widgets.Dropdown(options=datasets, value=dataset_default), type_simclr=widgets.Dropdown(options=type_simclr_options, value=type_simclr_default))\n"
   ]
  },
  {
   "cell_type": "code",
   "execution_count": 11,
   "id": "f4f2e432-2a53-49b7-aa85-7b2d705b2c5d",
   "metadata": {},
   "outputs": [
    {
     "data": {
      "application/vnd.jupyter.widget-view+json": {
       "model_id": "c3cfd866be9d470ba76639ada6610037",
       "version_major": 2,
       "version_minor": 0
      },
      "text/plain": [
       "interactive(children=(Dropdown(description='dataset', index=2, options=('kuhar', 'motionsense', 'uci', 'wisdm'…"
      ]
     },
     "metadata": {},
     "output_type": "display_data"
    },
    {
     "data": {
      "text/plain": [
       "<function __main__.plot_best_score(dataset, type_simclr)>"
      ]
     },
     "execution_count": 11,
     "metadata": {},
     "output_type": "execute_result"
    }
   ],
   "source": [
    "def plot_best_score(dataset,type_simclr):\n",
    "    for percentage in percentages:\n",
    "        best_scores = []  \n",
    "        max_score = -1  # Initialize with a negative value to ensure any score is an improvement\n",
    "\n",
    "        for i, n_transformations in enumerate(transformations):\n",
    "            data=read_csv(dataset,type_simclr,n_transformations,percentage)\n",
    "            score_no_reducer=get_no_reducer_score(dataset)                \n",
    "            max_dataset_score = data['score'].max()\n",
    "            \n",
    "            if max_dataset_score > max_score:\n",
    "                max_score = max_dataset_score \n",
    "                max_dataset_score_=data['score'].cummax()\n",
    "                n_transformations_=n_transformations\n",
    "                \n",
    "                \n",
    "            best_scores.append(max_score)        \n",
    "        plt.plot(max_dataset_score_, label=f'Percentage: {percentage}% {n_transformations_}')\n",
    "    \n",
    "    \n",
    "    plt.plot( [score_no_reducer] * len(max_dataset_score_), '--', color='red', label='No reducer')\n",
    "    plt.title(f'{dataset} Best Scores for Different Transformations')\n",
    "    plt.ylabel('Best accuracy')\n",
    "    plt.xlabel('Iterations')\n",
    "    plt.legend()\n",
    "    plt.grid()\n",
    "    plt.show()\n",
    "\n",
    "interact(plot_best_score, dataset=widgets.Dropdown(options=datasets, value=dataset_default), type_simclr=widgets.Dropdown(options=type_simclr_options, value=type_simclr_default))\n"
   ]
  },
  {
   "cell_type": "code",
   "execution_count": 12,
   "id": "e593d6ec-124c-4f7a-ba1c-cb793ae95b39",
   "metadata": {},
   "outputs": [
    {
     "data": {
      "application/vnd.jupyter.widget-view+json": {
       "model_id": "df93f444986d48e78a24a82c2cb7103f",
       "version_major": 2,
       "version_minor": 0
      },
      "text/plain": [
       "interactive(children=(Dropdown(description='dataset', index=2, options=('kuhar', 'motionsense', 'uci', 'wisdm'…"
      ]
     },
     "metadata": {},
     "output_type": "display_data"
    },
    {
     "data": {
      "text/plain": [
       "<function __main__.plot_by_percentage(dataset, type_simclr)>"
      ]
     },
     "execution_count": 12,
     "metadata": {},
     "output_type": "execute_result"
    }
   ],
   "source": [
    "def plot_by_percentage(dataset,type_simclr):\n",
    "    colors = ['darkgreen', 'blue', 'orange', 'red', 'lightgreen', 'brown']\n",
    "    for i, n_transformations in enumerate(transformations):\n",
    "        best_scores = []\n",
    "        for percentage in percentages:\n",
    "            try:\n",
    "                data=read_csv(dataset,type_simclr,n_transformations,percentage)\n",
    "                score_no_reducer=get_no_reducer_score(dataset)\n",
    "                best_scores.append(data['score'].max())\n",
    "            except:\n",
    "                best_scores.append(0)\n",
    "        plt.plot(percentages, best_scores, 'x', color=colors[i])\n",
    "        plt.plot(percentages, best_scores, '-', label=f'{n_transformations}T', color=colors[i])\n",
    "        \n",
    "    \n",
    "    plt.plot(percentages, [score_no_reducer]*len(percentages), '--', color=colors[i])\n",
    "    plt.plot(np.NaN, np.NaN, '--', color=[0, 0, 0], label='No reducer' )\n",
    "    \n",
    "    plt.title(f'SIMCLR -{dataset} Hyperparameters exploration in percentage of original dimensionality')\n",
    "    plt.ylabel('Best accuracy')\n",
    "    plt.xlabel('Percentages of original dimensionality')\n",
    "    plt.legend(bbox_to_anchor=(1.0, 0.5), fancybox=True, shadow=True, ncol=1, title='Datasets')\n",
    "    plt.grid()\n",
    "    plt.show()\n",
    "\n",
    "interact(plot_by_percentage, dataset=widgets.Dropdown(options=datasets, value=dataset_default), type_simclr=widgets.Dropdown(options=type_simclr_options, value=type_simclr_default))\n"
   ]
  },
  {
   "cell_type": "code",
   "execution_count": 13,
   "id": "de49b272-040a-4a07-ad3e-6eeca2215b2f",
   "metadata": {},
   "outputs": [
    {
     "data": {
      "application/vnd.jupyter.widget-view+json": {
       "model_id": "789880a3b6cd42959ab2c3e4ad41af05",
       "version_major": 2,
       "version_minor": 0
      },
      "text/plain": [
       "interactive(children=(Dropdown(description='dataset', index=2, options=('kuhar', 'motionsense', 'uci', 'wisdm'…"
      ]
     },
     "metadata": {},
     "output_type": "display_data"
    },
    {
     "data": {
      "text/plain": [
       "<function __main__.plot_bar(dataset, type_simclr)>"
      ]
     },
     "execution_count": 13,
     "metadata": {},
     "output_type": "execute_result"
    }
   ],
   "source": [
    "import plotly.graph_objects as go\n",
    "import pandas as pd\n",
    "\n",
    "def plot_bar(dataset,type_simclr):\n",
    "    best_scores = []\n",
    "    \n",
    "    for n_transformations in transformations:\n",
    "        scores = []\n",
    "        for percentage in percentages:\n",
    "            try:\n",
    "                data=read_csv(dataset,type_simclr,n_transformations,percentage)\n",
    "                score_no_reducer=get_no_reducer_score(dataset)        \n",
    "                data = data.loc[data['score'] > 0]\n",
    "                scores.append(data['score'].max())\n",
    "                \n",
    "\n",
    "            except:\n",
    "                scores.append(0)\n",
    "        \n",
    "        best_scores.append(scores)\n",
    "    \n",
    "    data = []\n",
    "    for i, p in enumerate(percentages):\n",
    "        scores_for_percentage = [scores[i] for scores in best_scores]\n",
    "        trace = go.Bar(\n",
    "            x=transformations,\n",
    "            y=scores_for_percentage,\n",
    "            name=f'Percentage: {p}%'\n",
    "        )\n",
    "        data.append(trace)\n",
    "    \n",
    "    print(best_scores)\n",
    "    layout = go.Layout(\n",
    "        title='Comparison of Transformations by Percentage',\n",
    "        xaxis=dict(title='Transformation'),\n",
    "        yaxis=dict(title='Best Score'),\n",
    "        barmode='group'  \n",
    "    )\n",
    "    \n",
    "    fig = go.Figure(data=data, layout=layout)\n",
    "    fig.show()\n",
    "\n",
    "interact(plot_bar, dataset=widgets.Dropdown(options=datasets, value=dataset_default), type_simclr=widgets.Dropdown(options=type_simclr_options, value=type_simclr_default))\n"
   ]
  },
  {
   "cell_type": "code",
   "execution_count": 14,
   "id": "200ddffe-8853-47e6-86a1-a81f113e7d61",
   "metadata": {
    "scrolled": true
   },
   "outputs": [
    {
     "data": {
      "application/vnd.jupyter.widget-view+json": {
       "model_id": "33a6cfb55d0649b4b466753ed7587b40",
       "version_major": 2,
       "version_minor": 0
      },
      "text/plain": [
       "interactive(children=(Dropdown(description='dataset', index=2, options=('kuhar', 'motionsense', 'uci', 'wisdm'…"
      ]
     },
     "metadata": {},
     "output_type": "display_data"
    },
    {
     "data": {
      "text/plain": [
       "<function __main__.plot_config_paramenters(dataset, type_simclr, config_val, n_transformations, percentage)>"
      ]
     },
     "execution_count": 14,
     "metadata": {},
     "output_type": "execute_result"
    }
   ],
   "source": [
    "import plotly.express as px\n",
    "import pandas as pd\n",
    "\n",
    "configs=['latent_dim','temperature_head','batch_size']\n",
    "def plot_config_paramenters(dataset,type_simclr,config_val,n_transformations,percentage):\n",
    "    data=read_csv(dataset,type_simclr,n_transformations,percentage)\n",
    "    score_no_reducer=get_no_reducer_score(dataset)  \n",
    "    x=f'config/{config_val}'\n",
    "    y='score'\n",
    "    fig = px.box(data, x=x, y=y)\n",
    "    fig.update_layout(xaxis_title=x,yaxis_title=y,\n",
    "            title=f'{dataset} Box Plot of Scores for {x}(Transformation: {n_transformations}, Percentage: {percentage}%)'\n",
    "                )\n",
    "    fig.show()\n",
    "\n",
    "\n",
    "\n",
    "interact(plot_config_paramenters, dataset=widgets.Dropdown(options=datasets, value=dataset_default), type_simclr=widgets.Dropdown(options=type_simclr_options, value=type_simclr_default),config_val=widgets.Dropdown(options=configs, value=configs[0]),n_transformations=widgets.Dropdown(options=transformations, value=transformations[0]), percentage=widgets.Dropdown(options=percentages, value=percentages[0]))\n"
   ]
  },
  {
   "cell_type": "code",
   "execution_count": 15,
   "id": "d0c32869-7503-4a7e-a90b-4d7e0f0e8dce",
   "metadata": {},
   "outputs": [],
   "source": [
    "def fixed_percentage(\n",
    "        datasets=['kuhar', 'motionsense', 'uci', 'wisdm', 'realworld_thigh', 'realworld_waist'],\n",
    "        models=['simcrl_full','SimCLR_linear','simclr'],\n",
    "        markers = ['d', 's', 'p', 'h', 'o'],\n",
    "        percentages=[25, 50, 75, 100, 200],\n",
    "        colors = ['blue', 'orange', 'lightgreen', 'darkgreen', 'purple'],\n",
    "        y_lim = [0, 1],\n",
    "        n_transformations=3\n",
    "        ):\n",
    "    \"\"\"\n",
    "    Plots the best accuracy for each model and dataset for a fixed percentage of the dataset.\n",
    "    \"\"\"\n",
    "    for dataset in datasets:\n",
    "        with open(f'TV_sb_no_reducer/scores/no_reducer_{dataset}.yaml') as f:\n",
    "            no_reducer_score = yaml.load(f, Loader=yaml.FullLoader)\n",
    "            no_reducer_score = no_reducer_score['score']\n",
    "        \n",
    "        for i, percentage in enumerate(percentages):\n",
    "            # Subplots for each dataset\n",
    "            fig, axs = plt.subplots(1, 2, figsize=(15, 8))\n",
    "            plt.suptitle(f'Up to {percentage}% on {dataset}')\n",
    "            max_length = 0\n",
    "            for j, model in enumerate(models):\n",
    "                try:\n",
    "                    data = read_csv(dataset, model, n_transformations, percentage)\n",
    "\n",
    "\n",
    "                \n",
    "                except:\n",
    "                    data = pd.DataFrame({'Unnamed: 0': [], 'score': []})\n",
    "                max_index = data['Unnamed: 0'].max()\n",
    "                if  max_index > max_length:\n",
    "                    max_length = max_index\n",
    "                axs[0].plot(data['Unnamed: 0'], data['score'], markers[j], color=colors[j], markersize=4, label=model)\n",
    "                axs[1].plot(data['score'].cummax(), color=colors[j], linewidth=2, label=model)\n",
    "            axs[0].plot([0, max_length], [no_reducer_score, no_reducer_score], color='red', linewidth=2, label='No reducer')\n",
    "            axs[0].legend(loc='lower center')\n",
    "            axs[0].set_ylabel(f'Best accuracy')\n",
    "            axs[0].set_xlabel('Iterations')\n",
    "            axs[0].grid()\n",
    "            axs[0].set_ylim(y_lim)\n",
    "            axs[0].set_facecolor('#e6f5c9')\n",
    "            axs[1].plot([0, max_length], [no_reducer_score, no_reducer_score], color='red', linewidth=2, label='No reducer')\n",
    "            axs[1].legend(loc='lower center')\n",
    "            axs[1].set_ylabel(f'Best accuracy')\n",
    "            axs[1].set_xlabel('Iterations')\n",
    "            axs[1].grid()\n",
    "            axs[1].set_ylim(y_lim)\n",
    "            axs[1].set_facecolor('#e6f5c9')\n",
    "\n",
    "            plt.show()"
   ]
  },
  {
   "cell_type": "code",
   "execution_count": 16,
   "id": "7bfb24a7-6f3f-4050-bc90-4d7f86541195",
   "metadata": {},
   "outputs": [
    {
     "data": {
      "application/vnd.plotly.v1+json": {
       "config": {
        "plotlyServerURL": "https://plot.ly"
       },
       "data": [
        {
         "hovertemplate": "type_simclr=simclr_full<br>Percentages of original dimensionality=%{x}<br>Ratio: (Best accuracy)/(No reducer)=%{y}<extra></extra>",
         "legendgroup": "simclr_full",
         "line": {
          "color": "#636efa",
          "dash": "solid"
         },
         "marker": {
          "symbol": "circle"
         },
         "mode": "markers+lines",
         "name": "simclr_full",
         "orientation": "v",
         "showlegend": true,
         "type": "scatter",
         "x": [
          25,
          50,
          75,
          100,
          200
         ],
         "xaxis": "x",
         "y": [
          1.0715277777777776,
          1.0659722222222223,
          1.0701388888888888,
          1.0631944444444446,
          1.0645833333333332
         ],
         "yaxis": "y"
        },
        {
         "hovertemplate": "type_simclr=simclr_linear<br>Percentages of original dimensionality=%{x}<br>Ratio: (Best accuracy)/(No reducer)=%{y}<extra></extra>",
         "legendgroup": "simclr_linear",
         "line": {
          "color": "#EF553B",
          "dash": "solid"
         },
         "marker": {
          "symbol": "circle"
         },
         "mode": "markers+lines",
         "name": "simclr_linear",
         "orientation": "v",
         "showlegend": true,
         "type": "scatter",
         "x": [
          25,
          50,
          75,
          100,
          200
         ],
         "xaxis": "x",
         "y": [
          1.0486111111111112,
          1.0718749999999997,
          1.059027777777778,
          1.0486111111111112,
          1.0524305555555555
         ],
         "yaxis": "y"
        },
        {
         "hovertemplate": "type_simclr=simclr<br>Percentages of original dimensionality=%{x}<br>Ratio: (Best accuracy)/(No reducer)=%{y}<extra></extra>",
         "legendgroup": "simclr",
         "line": {
          "color": "#00cc96",
          "dash": "solid"
         },
         "marker": {
          "symbol": "circle"
         },
         "mode": "markers+lines",
         "name": "simclr",
         "orientation": "v",
         "showlegend": true,
         "type": "scatter",
         "x": [
          25,
          50,
          75,
          100,
          200
         ],
         "xaxis": "x",
         "y": [
          0.9670138888888888,
          0.9722222222222222,
          0.970486111111111,
          0.9604166666666666,
          0.9583333333333334
         ],
         "yaxis": "y"
        }
       ],
       "layout": {
        "height": 600,
        "legend": {
         "title": {
          "text": "type_simclr"
         },
         "tracegroupgap": 0
        },
        "template": {
         "data": {
          "bar": [
           {
            "error_x": {
             "color": "#2a3f5f"
            },
            "error_y": {
             "color": "#2a3f5f"
            },
            "marker": {
             "line": {
              "color": "#E5ECF6",
              "width": 0.5
             },
             "pattern": {
              "fillmode": "overlay",
              "size": 10,
              "solidity": 0.2
             }
            },
            "type": "bar"
           }
          ],
          "barpolar": [
           {
            "marker": {
             "line": {
              "color": "#E5ECF6",
              "width": 0.5
             },
             "pattern": {
              "fillmode": "overlay",
              "size": 10,
              "solidity": 0.2
             }
            },
            "type": "barpolar"
           }
          ],
          "carpet": [
           {
            "aaxis": {
             "endlinecolor": "#2a3f5f",
             "gridcolor": "white",
             "linecolor": "white",
             "minorgridcolor": "white",
             "startlinecolor": "#2a3f5f"
            },
            "baxis": {
             "endlinecolor": "#2a3f5f",
             "gridcolor": "white",
             "linecolor": "white",
             "minorgridcolor": "white",
             "startlinecolor": "#2a3f5f"
            },
            "type": "carpet"
           }
          ],
          "choropleth": [
           {
            "colorbar": {
             "outlinewidth": 0,
             "ticks": ""
            },
            "type": "choropleth"
           }
          ],
          "contour": [
           {
            "colorbar": {
             "outlinewidth": 0,
             "ticks": ""
            },
            "colorscale": [
             [
              0,
              "#0d0887"
             ],
             [
              0.1111111111111111,
              "#46039f"
             ],
             [
              0.2222222222222222,
              "#7201a8"
             ],
             [
              0.3333333333333333,
              "#9c179e"
             ],
             [
              0.4444444444444444,
              "#bd3786"
             ],
             [
              0.5555555555555556,
              "#d8576b"
             ],
             [
              0.6666666666666666,
              "#ed7953"
             ],
             [
              0.7777777777777778,
              "#fb9f3a"
             ],
             [
              0.8888888888888888,
              "#fdca26"
             ],
             [
              1,
              "#f0f921"
             ]
            ],
            "type": "contour"
           }
          ],
          "contourcarpet": [
           {
            "colorbar": {
             "outlinewidth": 0,
             "ticks": ""
            },
            "type": "contourcarpet"
           }
          ],
          "heatmap": [
           {
            "colorbar": {
             "outlinewidth": 0,
             "ticks": ""
            },
            "colorscale": [
             [
              0,
              "#0d0887"
             ],
             [
              0.1111111111111111,
              "#46039f"
             ],
             [
              0.2222222222222222,
              "#7201a8"
             ],
             [
              0.3333333333333333,
              "#9c179e"
             ],
             [
              0.4444444444444444,
              "#bd3786"
             ],
             [
              0.5555555555555556,
              "#d8576b"
             ],
             [
              0.6666666666666666,
              "#ed7953"
             ],
             [
              0.7777777777777778,
              "#fb9f3a"
             ],
             [
              0.8888888888888888,
              "#fdca26"
             ],
             [
              1,
              "#f0f921"
             ]
            ],
            "type": "heatmap"
           }
          ],
          "heatmapgl": [
           {
            "colorbar": {
             "outlinewidth": 0,
             "ticks": ""
            },
            "colorscale": [
             [
              0,
              "#0d0887"
             ],
             [
              0.1111111111111111,
              "#46039f"
             ],
             [
              0.2222222222222222,
              "#7201a8"
             ],
             [
              0.3333333333333333,
              "#9c179e"
             ],
             [
              0.4444444444444444,
              "#bd3786"
             ],
             [
              0.5555555555555556,
              "#d8576b"
             ],
             [
              0.6666666666666666,
              "#ed7953"
             ],
             [
              0.7777777777777778,
              "#fb9f3a"
             ],
             [
              0.8888888888888888,
              "#fdca26"
             ],
             [
              1,
              "#f0f921"
             ]
            ],
            "type": "heatmapgl"
           }
          ],
          "histogram": [
           {
            "marker": {
             "pattern": {
              "fillmode": "overlay",
              "size": 10,
              "solidity": 0.2
             }
            },
            "type": "histogram"
           }
          ],
          "histogram2d": [
           {
            "colorbar": {
             "outlinewidth": 0,
             "ticks": ""
            },
            "colorscale": [
             [
              0,
              "#0d0887"
             ],
             [
              0.1111111111111111,
              "#46039f"
             ],
             [
              0.2222222222222222,
              "#7201a8"
             ],
             [
              0.3333333333333333,
              "#9c179e"
             ],
             [
              0.4444444444444444,
              "#bd3786"
             ],
             [
              0.5555555555555556,
              "#d8576b"
             ],
             [
              0.6666666666666666,
              "#ed7953"
             ],
             [
              0.7777777777777778,
              "#fb9f3a"
             ],
             [
              0.8888888888888888,
              "#fdca26"
             ],
             [
              1,
              "#f0f921"
             ]
            ],
            "type": "histogram2d"
           }
          ],
          "histogram2dcontour": [
           {
            "colorbar": {
             "outlinewidth": 0,
             "ticks": ""
            },
            "colorscale": [
             [
              0,
              "#0d0887"
             ],
             [
              0.1111111111111111,
              "#46039f"
             ],
             [
              0.2222222222222222,
              "#7201a8"
             ],
             [
              0.3333333333333333,
              "#9c179e"
             ],
             [
              0.4444444444444444,
              "#bd3786"
             ],
             [
              0.5555555555555556,
              "#d8576b"
             ],
             [
              0.6666666666666666,
              "#ed7953"
             ],
             [
              0.7777777777777778,
              "#fb9f3a"
             ],
             [
              0.8888888888888888,
              "#fdca26"
             ],
             [
              1,
              "#f0f921"
             ]
            ],
            "type": "histogram2dcontour"
           }
          ],
          "mesh3d": [
           {
            "colorbar": {
             "outlinewidth": 0,
             "ticks": ""
            },
            "type": "mesh3d"
           }
          ],
          "parcoords": [
           {
            "line": {
             "colorbar": {
              "outlinewidth": 0,
              "ticks": ""
             }
            },
            "type": "parcoords"
           }
          ],
          "pie": [
           {
            "automargin": true,
            "type": "pie"
           }
          ],
          "scatter": [
           {
            "fillpattern": {
             "fillmode": "overlay",
             "size": 10,
             "solidity": 0.2
            },
            "type": "scatter"
           }
          ],
          "scatter3d": [
           {
            "line": {
             "colorbar": {
              "outlinewidth": 0,
              "ticks": ""
             }
            },
            "marker": {
             "colorbar": {
              "outlinewidth": 0,
              "ticks": ""
             }
            },
            "type": "scatter3d"
           }
          ],
          "scattercarpet": [
           {
            "marker": {
             "colorbar": {
              "outlinewidth": 0,
              "ticks": ""
             }
            },
            "type": "scattercarpet"
           }
          ],
          "scattergeo": [
           {
            "marker": {
             "colorbar": {
              "outlinewidth": 0,
              "ticks": ""
             }
            },
            "type": "scattergeo"
           }
          ],
          "scattergl": [
           {
            "marker": {
             "colorbar": {
              "outlinewidth": 0,
              "ticks": ""
             }
            },
            "type": "scattergl"
           }
          ],
          "scattermapbox": [
           {
            "marker": {
             "colorbar": {
              "outlinewidth": 0,
              "ticks": ""
             }
            },
            "type": "scattermapbox"
           }
          ],
          "scatterpolar": [
           {
            "marker": {
             "colorbar": {
              "outlinewidth": 0,
              "ticks": ""
             }
            },
            "type": "scatterpolar"
           }
          ],
          "scatterpolargl": [
           {
            "marker": {
             "colorbar": {
              "outlinewidth": 0,
              "ticks": ""
             }
            },
            "type": "scatterpolargl"
           }
          ],
          "scatterternary": [
           {
            "marker": {
             "colorbar": {
              "outlinewidth": 0,
              "ticks": ""
             }
            },
            "type": "scatterternary"
           }
          ],
          "surface": [
           {
            "colorbar": {
             "outlinewidth": 0,
             "ticks": ""
            },
            "colorscale": [
             [
              0,
              "#0d0887"
             ],
             [
              0.1111111111111111,
              "#46039f"
             ],
             [
              0.2222222222222222,
              "#7201a8"
             ],
             [
              0.3333333333333333,
              "#9c179e"
             ],
             [
              0.4444444444444444,
              "#bd3786"
             ],
             [
              0.5555555555555556,
              "#d8576b"
             ],
             [
              0.6666666666666666,
              "#ed7953"
             ],
             [
              0.7777777777777778,
              "#fb9f3a"
             ],
             [
              0.8888888888888888,
              "#fdca26"
             ],
             [
              1,
              "#f0f921"
             ]
            ],
            "type": "surface"
           }
          ],
          "table": [
           {
            "cells": {
             "fill": {
              "color": "#EBF0F8"
             },
             "line": {
              "color": "white"
             }
            },
            "header": {
             "fill": {
              "color": "#C8D4E3"
             },
             "line": {
              "color": "white"
             }
            },
            "type": "table"
           }
          ]
         },
         "layout": {
          "annotationdefaults": {
           "arrowcolor": "#2a3f5f",
           "arrowhead": 0,
           "arrowwidth": 1
          },
          "autotypenumbers": "strict",
          "coloraxis": {
           "colorbar": {
            "outlinewidth": 0,
            "ticks": ""
           }
          },
          "colorscale": {
           "diverging": [
            [
             0,
             "#8e0152"
            ],
            [
             0.1,
             "#c51b7d"
            ],
            [
             0.2,
             "#de77ae"
            ],
            [
             0.3,
             "#f1b6da"
            ],
            [
             0.4,
             "#fde0ef"
            ],
            [
             0.5,
             "#f7f7f7"
            ],
            [
             0.6,
             "#e6f5d0"
            ],
            [
             0.7,
             "#b8e186"
            ],
            [
             0.8,
             "#7fbc41"
            ],
            [
             0.9,
             "#4d9221"
            ],
            [
             1,
             "#276419"
            ]
           ],
           "sequential": [
            [
             0,
             "#0d0887"
            ],
            [
             0.1111111111111111,
             "#46039f"
            ],
            [
             0.2222222222222222,
             "#7201a8"
            ],
            [
             0.3333333333333333,
             "#9c179e"
            ],
            [
             0.4444444444444444,
             "#bd3786"
            ],
            [
             0.5555555555555556,
             "#d8576b"
            ],
            [
             0.6666666666666666,
             "#ed7953"
            ],
            [
             0.7777777777777778,
             "#fb9f3a"
            ],
            [
             0.8888888888888888,
             "#fdca26"
            ],
            [
             1,
             "#f0f921"
            ]
           ],
           "sequentialminus": [
            [
             0,
             "#0d0887"
            ],
            [
             0.1111111111111111,
             "#46039f"
            ],
            [
             0.2222222222222222,
             "#7201a8"
            ],
            [
             0.3333333333333333,
             "#9c179e"
            ],
            [
             0.4444444444444444,
             "#bd3786"
            ],
            [
             0.5555555555555556,
             "#d8576b"
            ],
            [
             0.6666666666666666,
             "#ed7953"
            ],
            [
             0.7777777777777778,
             "#fb9f3a"
            ],
            [
             0.8888888888888888,
             "#fdca26"
            ],
            [
             1,
             "#f0f921"
            ]
           ]
          },
          "colorway": [
           "#636efa",
           "#EF553B",
           "#00cc96",
           "#ab63fa",
           "#FFA15A",
           "#19d3f3",
           "#FF6692",
           "#B6E880",
           "#FF97FF",
           "#FECB52"
          ],
          "font": {
           "color": "#2a3f5f"
          },
          "geo": {
           "bgcolor": "white",
           "lakecolor": "white",
           "landcolor": "#E5ECF6",
           "showlakes": true,
           "showland": true,
           "subunitcolor": "white"
          },
          "hoverlabel": {
           "align": "left"
          },
          "hovermode": "closest",
          "mapbox": {
           "style": "light"
          },
          "paper_bgcolor": "white",
          "plot_bgcolor": "#E5ECF6",
          "polar": {
           "angularaxis": {
            "gridcolor": "white",
            "linecolor": "white",
            "ticks": ""
           },
           "bgcolor": "#E5ECF6",
           "radialaxis": {
            "gridcolor": "white",
            "linecolor": "white",
            "ticks": ""
           }
          },
          "scene": {
           "xaxis": {
            "backgroundcolor": "#E5ECF6",
            "gridcolor": "white",
            "gridwidth": 2,
            "linecolor": "white",
            "showbackground": true,
            "ticks": "",
            "zerolinecolor": "white"
           },
           "yaxis": {
            "backgroundcolor": "#E5ECF6",
            "gridcolor": "white",
            "gridwidth": 2,
            "linecolor": "white",
            "showbackground": true,
            "ticks": "",
            "zerolinecolor": "white"
           },
           "zaxis": {
            "backgroundcolor": "#E5ECF6",
            "gridcolor": "white",
            "gridwidth": 2,
            "linecolor": "white",
            "showbackground": true,
            "ticks": "",
            "zerolinecolor": "white"
           }
          },
          "shapedefaults": {
           "line": {
            "color": "#2a3f5f"
           }
          },
          "ternary": {
           "aaxis": {
            "gridcolor": "white",
            "linecolor": "white",
            "ticks": ""
           },
           "baxis": {
            "gridcolor": "white",
            "linecolor": "white",
            "ticks": ""
           },
           "bgcolor": "#E5ECF6",
           "caxis": {
            "gridcolor": "white",
            "linecolor": "white",
            "ticks": ""
           }
          },
          "title": {
           "x": 0.05
          },
          "xaxis": {
           "automargin": true,
           "gridcolor": "white",
           "linecolor": "white",
           "ticks": "",
           "title": {
            "standoff": 15
           },
           "zerolinecolor": "white",
           "zerolinewidth": 2
          },
          "yaxis": {
           "automargin": true,
           "gridcolor": "white",
           "linecolor": "white",
           "ticks": "",
           "title": {
            "standoff": 15
           },
           "zerolinecolor": "white",
           "zerolinewidth": 2
          }
         }
        },
        "title": {
         "text": "uci simclr - Hyperparameters exploration"
        },
        "width": 800,
        "xaxis": {
         "anchor": "y",
         "autorange": true,
         "domain": [
          0,
          1
         ],
         "range": [
          13.867942768754832,
          211.13205723124517
         ],
         "title": {
          "text": "Percentages of original dimensionality"
         },
         "type": "linear"
        },
        "yaxis": {
         "anchor": "x",
         "autorange": true,
         "domain": [
          0,
          1
         ],
         "range": [
          0.9507485661268557,
          1.0794597672064774
         ],
         "title": {
          "text": "Ratio: (Best accuracy)/(No reducer)"
         },
         "type": "linear"
        }
       }
      },
      "image/png": "[encoded data removed]",
      "text/html": [
       "<div>                            <div id=\"1033a8cc-c67d-4aa5-b0e0-abf34c5234b7\" class=\"plotly-graph-div\" style=\"height:600px; width:800px;\"></div>            <script type=\"text/javascript\">                require([\"plotly\"], function(Plotly) {                    window.PLOTLYENV=window.PLOTLYENV || {};                                    if (document.getElementById(\"1033a8cc-c67d-4aa5-b0e0-abf34c5234b7\")) {                    Plotly.newPlot(                        \"1033a8cc-c67d-4aa5-b0e0-abf34c5234b7\",                        [{\"hovertemplate\":\"type_simclr=simclr_full\\u003cbr\\u003ePercentages of original dimensionality=%{x}\\u003cbr\\u003eRatio: (Best accuracy)\\u002f(No reducer)=%{y}\\u003cextra\\u003e\\u003c\\u002fextra\\u003e\",\"legendgroup\":\"simclr_full\",\"line\":{\"color\":\"#636efa\",\"dash\":\"solid\"},\"marker\":{\"symbol\":\"circle\"},\"mode\":\"markers+lines\",\"name\":\"simclr_full\",\"orientation\":\"v\",\"showlegend\":true,\"x\":[25,50,75,100,200],\"xaxis\":\"x\",\"y\":[1.0715277777777776,1.0659722222222223,1.0701388888888888,1.0631944444444446,1.0645833333333332],\"yaxis\":\"y\",\"type\":\"scatter\"},{\"hovertemplate\":\"type_simclr=simclr_linear\\u003cbr\\u003ePercentages of original dimensionality=%{x}\\u003cbr\\u003eRatio: (Best accuracy)\\u002f(No reducer)=%{y}\\u003cextra\\u003e\\u003c\\u002fextra\\u003e\",\"legendgroup\":\"simclr_linear\",\"line\":{\"color\":\"#EF553B\",\"dash\":\"solid\"},\"marker\":{\"symbol\":\"circle\"},\"mode\":\"markers+lines\",\"name\":\"simclr_linear\",\"orientation\":\"v\",\"showlegend\":true,\"x\":[25,50,75,100,200],\"xaxis\":\"x\",\"y\":[1.0486111111111112,1.0718749999999997,1.059027777777778,1.0486111111111112,1.0524305555555555],\"yaxis\":\"y\",\"type\":\"scatter\"},{\"hovertemplate\":\"type_simclr=simclr\\u003cbr\\u003ePercentages of original dimensionality=%{x}\\u003cbr\\u003eRatio: (Best accuracy)\\u002f(No reducer)=%{y}\\u003cextra\\u003e\\u003c\\u002fextra\\u003e\",\"legendgroup\":\"simclr\",\"line\":{\"color\":\"#00cc96\",\"dash\":\"solid\"},\"marker\":{\"symbol\":\"circle\"},\"mode\":\"markers+lines\",\"name\":\"simclr\",\"orientation\":\"v\",\"showlegend\":true,\"x\":[25,50,75,100,200],\"xaxis\":\"x\",\"y\":[0.9670138888888888,0.9722222222222222,0.970486111111111,0.9604166666666666,0.9583333333333334],\"yaxis\":\"y\",\"type\":\"scatter\"}],                        {\"template\":{\"data\":{\"histogram2dcontour\":[{\"type\":\"histogram2dcontour\",\"colorbar\":{\"outlinewidth\":0,\"ticks\":\"\"},\"colorscale\":[[0.0,\"#0d0887\"],[0.1111111111111111,\"#46039f\"],[0.2222222222222222,\"#7201a8\"],[0.3333333333333333,\"#9c179e\"],[0.4444444444444444,\"#bd3786\"],[0.5555555555555556,\"#d8576b\"],[0.6666666666666666,\"#ed7953\"],[0.7777777777777778,\"#fb9f3a\"],[0.8888888888888888,\"#fdca26\"],[1.0,\"#f0f921\"]]}],\"choropleth\":[{\"type\":\"choropleth\",\"colorbar\":{\"outlinewidth\":0,\"ticks\":\"\"}}],\"histogram2d\":[{\"type\":\"histogram2d\",\"colorbar\":{\"outlinewidth\":0,\"ticks\":\"\"},\"colorscale\":[[0.0,\"#0d0887\"],[0.1111111111111111,\"#46039f\"],[0.2222222222222222,\"#7201a8\"],[0.3333333333333333,\"#9c179e\"],[0.4444444444444444,\"#bd3786\"],[0.5555555555555556,\"#d8576b\"],[0.6666666666666666,\"#ed7953\"],[0.7777777777777778,\"#fb9f3a\"],[0.8888888888888888,\"#fdca26\"],[1.0,\"#f0f921\"]]}],\"heatmap\":[{\"type\":\"heatmap\",\"colorbar\":{\"outlinewidth\":0,\"ticks\":\"\"},\"colorscale\":[[0.0,\"#0d0887\"],[0.1111111111111111,\"#46039f\"],[0.2222222222222222,\"#7201a8\"],[0.3333333333333333,\"#9c179e\"],[0.4444444444444444,\"#bd3786\"],[0.5555555555555556,\"#d8576b\"],[0.6666666666666666,\"#ed7953\"],[0.7777777777777778,\"#fb9f3a\"],[0.8888888888888888,\"#fdca26\"],[1.0,\"#f0f921\"]]}],\"heatmapgl\":[{\"type\":\"heatmapgl\",\"colorbar\":{\"outlinewidth\":0,\"ticks\":\"\"},\"colorscale\":[[0.0,\"#0d0887\"],[0.1111111111111111,\"#46039f\"],[0.2222222222222222,\"#7201a8\"],[0.3333333333333333,\"#9c179e\"],[0.4444444444444444,\"#bd3786\"],[0.5555555555555556,\"#d8576b\"],[0.6666666666666666,\"#ed7953\"],[0.7777777777777778,\"#fb9f3a\"],[0.8888888888888888,\"#fdca26\"],[1.0,\"#f0f921\"]]}],\"contourcarpet\":[{\"type\":\"contourcarpet\",\"colorbar\":{\"outlinewidth\":0,\"ticks\":\"\"}}],\"contour\":[{\"type\":\"contour\",\"colorbar\":{\"outlinewidth\":0,\"ticks\":\"\"},\"colorscale\":[[0.0,\"#0d0887\"],[0.1111111111111111,\"#46039f\"],[0.2222222222222222,\"#7201a8\"],[0.3333333333333333,\"#9c179e\"],[0.4444444444444444,\"#bd3786\"],[0.5555555555555556,\"#d8576b\"],[0.6666666666666666,\"#ed7953\"],[0.7777777777777778,\"#fb9f3a\"],[0.8888888888888888,\"#fdca26\"],[1.0,\"#f0f921\"]]}],\"surface\":[{\"type\":\"surface\",\"colorbar\":{\"outlinewidth\":0,\"ticks\":\"\"},\"colorscale\":[[0.0,\"#0d0887\"],[0.1111111111111111,\"#46039f\"],[0.2222222222222222,\"#7201a8\"],[0.3333333333333333,\"#9c179e\"],[0.4444444444444444,\"#bd3786\"],[0.5555555555555556,\"#d8576b\"],[0.6666666666666666,\"#ed7953\"],[0.7777777777777778,\"#fb9f3a\"],[0.8888888888888888,\"#fdca26\"],[1.0,\"#f0f921\"]]}],\"mesh3d\":[{\"type\":\"mesh3d\",\"colorbar\":{\"outlinewidth\":0,\"ticks\":\"\"}}],\"scatter\":[{\"fillpattern\":{\"fillmode\":\"overlay\",\"size\":10,\"solidity\":0.2},\"type\":\"scatter\"}],\"parcoords\":[{\"type\":\"parcoords\",\"line\":{\"colorbar\":{\"outlinewidth\":0,\"ticks\":\"\"}}}],\"scatterpolargl\":[{\"type\":\"scatterpolargl\",\"marker\":{\"colorbar\":{\"outlinewidth\":0,\"ticks\":\"\"}}}],\"bar\":[{\"error_x\":{\"color\":\"#2a3f5f\"},\"error_y\":{\"color\":\"#2a3f5f\"},\"marker\":{\"line\":{\"color\":\"#E5ECF6\",\"width\":0.5},\"pattern\":{\"fillmode\":\"overlay\",\"size\":10,\"solidity\":0.2}},\"type\":\"bar\"}],\"scattergeo\":[{\"type\":\"scattergeo\",\"marker\":{\"colorbar\":{\"outlinewidth\":0,\"ticks\":\"\"}}}],\"scatterpolar\":[{\"type\":\"scatterpolar\",\"marker\":{\"colorbar\":{\"outlinewidth\":0,\"ticks\":\"\"}}}],\"histogram\":[{\"marker\":{\"pattern\":{\"fillmode\":\"overlay\",\"size\":10,\"solidity\":0.2}},\"type\":\"histogram\"}],\"scattergl\":[{\"type\":\"scattergl\",\"marker\":{\"colorbar\":{\"outlinewidth\":0,\"ticks\":\"\"}}}],\"scatter3d\":[{\"type\":\"scatter3d\",\"line\":{\"colorbar\":{\"outlinewidth\":0,\"ticks\":\"\"}},\"marker\":{\"colorbar\":{\"outlinewidth\":0,\"ticks\":\"\"}}}],\"scattermapbox\":[{\"type\":\"scattermapbox\",\"marker\":{\"colorbar\":{\"outlinewidth\":0,\"ticks\":\"\"}}}],\"scatterternary\":[{\"type\":\"scatterternary\",\"marker\":{\"colorbar\":{\"outlinewidth\":0,\"ticks\":\"\"}}}],\"scattercarpet\":[{\"type\":\"scattercarpet\",\"marker\":{\"colorbar\":{\"outlinewidth\":0,\"ticks\":\"\"}}}],\"carpet\":[{\"aaxis\":{\"endlinecolor\":\"#2a3f5f\",\"gridcolor\":\"white\",\"linecolor\":\"white\",\"minorgridcolor\":\"white\",\"startlinecolor\":\"#2a3f5f\"},\"baxis\":{\"endlinecolor\":\"#2a3f5f\",\"gridcolor\":\"white\",\"linecolor\":\"white\",\"minorgridcolor\":\"white\",\"startlinecolor\":\"#2a3f5f\"},\"type\":\"carpet\"}],\"table\":[{\"cells\":{\"fill\":{\"color\":\"#EBF0F8\"},\"line\":{\"color\":\"white\"}},\"header\":{\"fill\":{\"color\":\"#C8D4E3\"},\"line\":{\"color\":\"white\"}},\"type\":\"table\"}],\"barpolar\":[{\"marker\":{\"line\":{\"color\":\"#E5ECF6\",\"width\":0.5},\"pattern\":{\"fillmode\":\"overlay\",\"size\":10,\"solidity\":0.2}},\"type\":\"barpolar\"}],\"pie\":[{\"automargin\":true,\"type\":\"pie\"}]},\"layout\":{\"autotypenumbers\":\"strict\",\"colorway\":[\"#636efa\",\"#EF553B\",\"#00cc96\",\"#ab63fa\",\"#FFA15A\",\"#19d3f3\",\"#FF6692\",\"#B6E880\",\"#FF97FF\",\"#FECB52\"],\"font\":{\"color\":\"#2a3f5f\"},\"hovermode\":\"closest\",\"hoverlabel\":{\"align\":\"left\"},\"paper_bgcolor\":\"white\",\"plot_bgcolor\":\"#E5ECF6\",\"polar\":{\"bgcolor\":\"#E5ECF6\",\"angularaxis\":{\"gridcolor\":\"white\",\"linecolor\":\"white\",\"ticks\":\"\"},\"radialaxis\":{\"gridcolor\":\"white\",\"linecolor\":\"white\",\"ticks\":\"\"}},\"ternary\":{\"bgcolor\":\"#E5ECF6\",\"aaxis\":{\"gridcolor\":\"white\",\"linecolor\":\"white\",\"ticks\":\"\"},\"baxis\":{\"gridcolor\":\"white\",\"linecolor\":\"white\",\"ticks\":\"\"},\"caxis\":{\"gridcolor\":\"white\",\"linecolor\":\"white\",\"ticks\":\"\"}},\"coloraxis\":{\"colorbar\":{\"outlinewidth\":0,\"ticks\":\"\"}},\"colorscale\":{\"sequential\":[[0.0,\"#0d0887\"],[0.1111111111111111,\"#46039f\"],[0.2222222222222222,\"#7201a8\"],[0.3333333333333333,\"#9c179e\"],[0.4444444444444444,\"#bd3786\"],[0.5555555555555556,\"#d8576b\"],[0.6666666666666666,\"#ed7953\"],[0.7777777777777778,\"#fb9f3a\"],[0.8888888888888888,\"#fdca26\"],[1.0,\"#f0f921\"]],\"sequentialminus\":[[0.0,\"#0d0887\"],[0.1111111111111111,\"#46039f\"],[0.2222222222222222,\"#7201a8\"],[0.3333333333333333,\"#9c179e\"],[0.4444444444444444,\"#bd3786\"],[0.5555555555555556,\"#d8576b\"],[0.6666666666666666,\"#ed7953\"],[0.7777777777777778,\"#fb9f3a\"],[0.8888888888888888,\"#fdca26\"],[1.0,\"#f0f921\"]],\"diverging\":[[0,\"#8e0152\"],[0.1,\"#c51b7d\"],[0.2,\"#de77ae\"],[0.3,\"#f1b6da\"],[0.4,\"#fde0ef\"],[0.5,\"#f7f7f7\"],[0.6,\"#e6f5d0\"],[0.7,\"#b8e186\"],[0.8,\"#7fbc41\"],[0.9,\"#4d9221\"],[1,\"#276419\"]]},\"xaxis\":{\"gridcolor\":\"white\",\"linecolor\":\"white\",\"ticks\":\"\",\"title\":{\"standoff\":15},\"zerolinecolor\":\"white\",\"automargin\":true,\"zerolinewidth\":2},\"yaxis\":{\"gridcolor\":\"white\",\"linecolor\":\"white\",\"ticks\":\"\",\"title\":{\"standoff\":15},\"zerolinecolor\":\"white\",\"automargin\":true,\"zerolinewidth\":2},\"scene\":{\"xaxis\":{\"backgroundcolor\":\"#E5ECF6\",\"gridcolor\":\"white\",\"linecolor\":\"white\",\"showbackground\":true,\"ticks\":\"\",\"zerolinecolor\":\"white\",\"gridwidth\":2},\"yaxis\":{\"backgroundcolor\":\"#E5ECF6\",\"gridcolor\":\"white\",\"linecolor\":\"white\",\"showbackground\":true,\"ticks\":\"\",\"zerolinecolor\":\"white\",\"gridwidth\":2},\"zaxis\":{\"backgroundcolor\":\"#E5ECF6\",\"gridcolor\":\"white\",\"linecolor\":\"white\",\"showbackground\":true,\"ticks\":\"\",\"zerolinecolor\":\"white\",\"gridwidth\":2}},\"shapedefaults\":{\"line\":{\"color\":\"#2a3f5f\"}},\"annotationdefaults\":{\"arrowcolor\":\"#2a3f5f\",\"arrowhead\":0,\"arrowwidth\":1},\"geo\":{\"bgcolor\":\"white\",\"landcolor\":\"#E5ECF6\",\"subunitcolor\":\"white\",\"showland\":true,\"showlakes\":true,\"lakecolor\":\"white\"},\"title\":{\"x\":0.05},\"mapbox\":{\"style\":\"light\"}}},\"xaxis\":{\"anchor\":\"y\",\"domain\":[0.0,1.0],\"title\":{\"text\":\"Percentages of original dimensionality\"}},\"yaxis\":{\"anchor\":\"x\",\"domain\":[0.0,1.0],\"title\":{\"text\":\"Ratio: (Best accuracy)\\u002f(No reducer)\"}},\"legend\":{\"title\":{\"text\":\"type_simclr\"},\"tracegroupgap\":0},\"title\":{\"text\":\"uci simclr - Hyperparameters exploration\"},\"height\":600,\"width\":800},                        {\"responsive\": true}                    ).then(function(){\n",
       "                            \n",
       "var gd = document.getElementById('1033a8cc-c67d-4aa5-b0e0-abf34c5234b7');\n",
       "var x = new MutationObserver(function (mutations, observer) {{\n",
       "        var display = window.getComputedStyle(gd).display;\n",
       "        if (!display || display === 'none') {{\n",
       "            console.log([gd, 'removed!']);\n",
       "            Plotly.purge(gd);\n",
       "            observer.disconnect();\n",
       "        }}\n",
       "}});\n",
       "\n",
       "// Listen for the removal of the full notebook cells\n",
       "var notebookContainer = gd.closest('#notebook-container');\n",
       "if (notebookContainer) {{\n",
       "    x.observe(notebookContainer, {childList: true});\n",
       "}}\n",
       "\n",
       "// Listen for the clearing of the current output cell\n",
       "var outputEl = gd.closest('.output');\n",
       "if (outputEl) {{\n",
       "    x.observe(outputEl, {childList: true});\n",
       "}}\n",
       "\n",
       "                        })                };                });            </script>        </div>"
      ]
     },
     "metadata": {},
     "output_type": "display_data"
    }
   ],
   "source": [
    "type_simclr=type_simclr_default\n",
    "def plot_best_score_all(dataset, type_simclr):\n",
    "    fig = go.Figure() \n",
    "    \n",
    "    for percentage in percentages:\n",
    "        best_scores = []  \n",
    "        n_transformations_=0\n",
    "        \n",
    "        max_score = -1  \n",
    "        for i, n_transformations in enumerate(transformations):\n",
    "            data = read_csv(dataset, type_simclr, n_transformations, percentage)\n",
    "            score_no_reducer = get_no_reducer_score(dataset) \n",
    "            try:\n",
    "                max_dataset_score = data['score'].max()\n",
    "                \n",
    "                if max_dataset_score > max_score:\n",
    "                    max_score = max_dataset_score \n",
    "                    max_dataset_score_ = data['score'].cummax()\n",
    "                    n_transformations_ = n_transformations\n",
    "            except:\n",
    "                n_transformations_ = 0\n",
    "                \n",
    "                \n",
    "                \n",
    "            best_scores.append(max_score)\n",
    "        best_transformation[percentage]={}\n",
    "        best_transformation['score_no_reducer']=score_no_reducer        \n",
    "        best_transformation[percentage]['t']=n_transformations_\n",
    "        best_transformation[percentage]['score']=max_score\n",
    "    return best_transformation\n",
    "\n",
    "\n",
    "def plot_lines_all():\n",
    "    data_frames = []\n",
    "    \n",
    "    for i, type_simclr in enumerate(type_simclr_options):\n",
    "        best_scores = []\n",
    "    \n",
    "        for percentage in percentages:\n",
    "            try:\n",
    "                data = plot_best_score_all(dataset, type_simclr)\n",
    "                score_no_reducer = get_no_reducer_score(dataset)\n",
    "                best_scores.append(data[percentage]['score'].max() / score_no_reducer)\n",
    "            except:\n",
    "                print(dataset, type_simclr, percentage)\n",
    "                best_scores.append(0)\n",
    "    \n",
    "            # Create a DataFrame for the current dataset and percentage\n",
    "            df = pd.DataFrame({'type_simclr': [type_simclr], 'Percentage': [percentage], 'Best_Scores': [best_scores[-1]]})\n",
    "            data_frames.append(df)\n",
    "            \n",
    "    # Concatenate all DataFrames into one\n",
    "    data_frame = pd.concat(data_frames, ignore_index=True)\n",
    "    \n",
    "    # Create a Plotly figure\n",
    "    fig = px.line(data_frame, x='Percentage', y='Best_Scores', color='type_simclr',\n",
    "                  labels={'Percentage': 'Percentages of original dimensionality',\n",
    "                          'Best_Scores': 'Ratio: (Best accuracy)/(No reducer)'},\n",
    "                  title=f'{dataset} {type_simclr} - Hyperparameters exploration',\n",
    "                  )\n",
    "    fig.update_layout(\n",
    "        height=600,  # Set your desired height (in pixels)\n",
    "        width=800    # Set your desired width (in pixels)\n",
    "    )\n",
    "    fig.update_traces(mode='markers+lines')\n",
    "    \n",
    "    # Show the figure\n",
    "    fig.show()\n",
    "\n",
    "\n",
    "dataset=dataset_default\n",
    "plot_lines_all()\n"
   ]
  },
  {
   "cell_type": "code",
   "execution_count": 17,
   "id": "dd34c58f-5e0d-4f3a-b5f3-9e41f34ce074",
   "metadata": {},
   "outputs": [
    {
     "ename": "FileNotFoundError",
     "evalue": "[Errno 2] No such file or directory: 'TV_sb_no_reducer/scores/no_reducer_uci.yaml'",
     "output_type": "error",
     "traceback": [
      "\u001b[0;31m---------------------------------------------------------------------------\u001b[0m",
      "\u001b[0;31mFileNotFoundError\u001b[0m                         Traceback (most recent call last)",
      "Cell \u001b[0;32mIn[17], line 1\u001b[0m\n\u001b[0;32m----> 1\u001b[0m \u001b[43mfixed_percentage\u001b[49m\u001b[43m(\u001b[49m\u001b[43mdatasets\u001b[49m\u001b[38;5;241;43m=\u001b[39;49m\u001b[43m[\u001b[49m\u001b[43mdataset_default\u001b[49m\u001b[43m]\u001b[49m\u001b[43m)\u001b[49m\n",
      "Cell \u001b[0;32mIn[15], line 14\u001b[0m, in \u001b[0;36mfixed_percentage\u001b[0;34m(datasets, models, markers, percentages, colors, y_lim, n_transformations)\u001b[0m\n\u001b[1;32m     10\u001b[0m \u001b[38;5;250m\u001b[39m\u001b[38;5;124;03m\"\"\"\u001b[39;00m\n\u001b[1;32m     11\u001b[0m \u001b[38;5;124;03mPlots the best accuracy for each model and dataset for a fixed percentage of the dataset.\u001b[39;00m\n\u001b[1;32m     12\u001b[0m \u001b[38;5;124;03m\"\"\"\u001b[39;00m\n\u001b[1;32m     13\u001b[0m \u001b[38;5;28;01mfor\u001b[39;00m dataset \u001b[38;5;129;01min\u001b[39;00m datasets:\n\u001b[0;32m---> 14\u001b[0m     \u001b[38;5;28;01mwith\u001b[39;00m \u001b[38;5;28;43mopen\u001b[39;49m\u001b[43m(\u001b[49m\u001b[38;5;124;43mf\u001b[39;49m\u001b[38;5;124;43m'\u001b[39;49m\u001b[38;5;124;43mTV_sb_no_reducer/scores/no_reducer_\u001b[39;49m\u001b[38;5;132;43;01m{\u001b[39;49;00m\u001b[43mdataset\u001b[49m\u001b[38;5;132;43;01m}\u001b[39;49;00m\u001b[38;5;124;43m.yaml\u001b[39;49m\u001b[38;5;124;43m'\u001b[39;49m\u001b[43m)\u001b[49m \u001b[38;5;28;01mas\u001b[39;00m f:\n\u001b[1;32m     15\u001b[0m         no_reducer_score \u001b[38;5;241m=\u001b[39m yaml\u001b[38;5;241m.\u001b[39mload(f, Loader\u001b[38;5;241m=\u001b[39myaml\u001b[38;5;241m.\u001b[39mFullLoader)\n\u001b[1;32m     16\u001b[0m         no_reducer_score \u001b[38;5;241m=\u001b[39m no_reducer_score[\u001b[38;5;124m'\u001b[39m\u001b[38;5;124mscore\u001b[39m\u001b[38;5;124m'\u001b[39m]\n",
      "File \u001b[0;32m/usr/local/lib/python3.10/site-packages/IPython/core/interactiveshell.py:286\u001b[0m, in \u001b[0;36m_modified_open\u001b[0;34m(file, *args, **kwargs)\u001b[0m\n\u001b[1;32m    279\u001b[0m \u001b[38;5;28;01mif\u001b[39;00m file \u001b[38;5;129;01min\u001b[39;00m {\u001b[38;5;241m0\u001b[39m, \u001b[38;5;241m1\u001b[39m, \u001b[38;5;241m2\u001b[39m}:\n\u001b[1;32m    280\u001b[0m     \u001b[38;5;28;01mraise\u001b[39;00m \u001b[38;5;167;01mValueError\u001b[39;00m(\n\u001b[1;32m    281\u001b[0m         \u001b[38;5;124mf\u001b[39m\u001b[38;5;124m\"\u001b[39m\u001b[38;5;124mIPython won\u001b[39m\u001b[38;5;124m'\u001b[39m\u001b[38;5;124mt let you open fd=\u001b[39m\u001b[38;5;132;01m{\u001b[39;00mfile\u001b[38;5;132;01m}\u001b[39;00m\u001b[38;5;124m by default \u001b[39m\u001b[38;5;124m\"\u001b[39m\n\u001b[1;32m    282\u001b[0m         \u001b[38;5;124m\"\u001b[39m\u001b[38;5;124mas it is likely to crash IPython. If you know what you are doing, \u001b[39m\u001b[38;5;124m\"\u001b[39m\n\u001b[1;32m    283\u001b[0m         \u001b[38;5;124m\"\u001b[39m\u001b[38;5;124myou can use builtins\u001b[39m\u001b[38;5;124m'\u001b[39m\u001b[38;5;124m open.\u001b[39m\u001b[38;5;124m\"\u001b[39m\n\u001b[1;32m    284\u001b[0m     )\n\u001b[0;32m--> 286\u001b[0m \u001b[38;5;28;01mreturn\u001b[39;00m \u001b[43mio_open\u001b[49m\u001b[43m(\u001b[49m\u001b[43mfile\u001b[49m\u001b[43m,\u001b[49m\u001b[43m \u001b[49m\u001b[38;5;241;43m*\u001b[39;49m\u001b[43margs\u001b[49m\u001b[43m,\u001b[49m\u001b[43m \u001b[49m\u001b[38;5;241;43m*\u001b[39;49m\u001b[38;5;241;43m*\u001b[39;49m\u001b[43mkwargs\u001b[49m\u001b[43m)\u001b[49m\n",
      "\u001b[0;31mFileNotFoundError\u001b[0m: [Errno 2] No such file or directory: 'TV_sb_no_reducer/scores/no_reducer_uci.yaml'"
     ]
    }
   ],
   "source": [
    "fixed_percentage(datasets=[dataset_default])"
   ]
  },
  {
   "cell_type": "code",
   "execution_count": null,
   "id": "3be89faa-9512-4450-bc22-d619afc7c9b2",
   "metadata": {},
   "outputs": [],
   "source": [
    "type_simclr=type_simclr_default\n",
    "def plot_best_score_all(dataset, type_simclr):\n",
    "    fig = go.Figure() \n",
    "    \n",
    "    for percentage in percentages:\n",
    "        best_scores = []  \n",
    "        n_transformations_=0\n",
    "        \n",
    "        max_score = -1  \n",
    "        for i, n_transformations in enumerate(transformations):\n",
    "            data = read_csv(dataset, type_simclr, n_transformations, percentage)\n",
    "            score_no_reducer = get_no_reducer_score(dataset) \n",
    "            try:\n",
    "                max_dataset_score = data['score'].max()\n",
    "                \n",
    "                if max_dataset_score > max_score:\n",
    "                    max_score = max_dataset_score \n",
    "                    max_dataset_score_ = data['score'].cummax()\n",
    "                    n_transformations_ = n_transformations\n",
    "            except:\n",
    "                n_transformations_ = 0\n",
    "                \n",
    "                \n",
    "                \n",
    "            best_scores.append(max_score)\n",
    "        best_transformation[percentage]={}\n",
    "        best_transformation['score_no_reducer']=score_no_reducer        \n",
    "        best_transformation[percentage]['t']=n_transformations_\n",
    "        best_transformation[percentage]['score']=max_score\n",
    "    return best_transformation\n",
    "\n",
    "\n",
    "def plot_lines_all():\n",
    "    data_frames = []\n",
    "    \n",
    "    for i, dataset in enumerate(datasets):\n",
    "        best_scores = []\n",
    "    \n",
    "        for percentage in percentages:\n",
    "            try:\n",
    "                data = plot_best_score_all(dataset, type_simclr)\n",
    "                score_no_reducer = get_no_reducer_score(dataset)\n",
    "                best_scores.append(data[percentage]['score'].max() / score_no_reducer)\n",
    "            except:\n",
    "                print(dataset, type_simclr, percentage)\n",
    "                best_scores.append(0)\n",
    "    \n",
    "            # Create a DataFrame for the current dataset and percentage\n",
    "            df = pd.DataFrame({'Dataset': [dataset], 'Percentage': [percentage], 'Best_Scores': [best_scores[-1]]})\n",
    "            data_frames.append(df)\n",
    "            \n",
    "    # Concatenate all DataFrames into one\n",
    "    data_frame = pd.concat(data_frames, ignore_index=True)\n",
    "    \n",
    "    # Create a Plotly figure\n",
    "    fig = px.line(data_frame, x='Percentage', y='Best_Scores', color='Dataset',\n",
    "                  labels={'Percentage': 'Percentages of original dimensionality',\n",
    "                          'Best_Scores': 'Ratio: (Best accuracy)/(No reducer)'},\n",
    "                  title=f'{type_simclr} - Hyperparameters exploration',\n",
    "                  )\n",
    "    fig.update_layout(\n",
    "        height=600,  # Set your desired height (in pixels)\n",
    "        width=800    # Set your desired width (in pixels)\n",
    "    )\n",
    "    fig.update_traces(mode='markers+lines')\n",
    "    \n",
    "    # Show the figure\n",
    "    fig.show()\n",
    "\n",
    "plot_lines_all()"
   ]
  },
  {
   "cell_type": "code",
   "execution_count": null,
   "id": "f91eff26-3189-4ddc-a595-fd38fda505ca",
   "metadata": {},
   "outputs": [],
   "source": []
  },
  {
   "cell_type": "code",
   "execution_count": null,
   "id": "4889e7f3-1ca1-4219-a2ff-cc8277e12c8e",
   "metadata": {},
   "outputs": [],
   "source": []
  }
 ],
 "metadata": {
  "kernelspec": {
   "display_name": "Python 3 (ipykernel)",
   "language": "python",
   "name": "python3"
  },
  "language_info": {
   "codemirror_mode": {
    "name": "ipython",
    "version": 3
   },
   "file_extension": ".py",
   "mimetype": "text/x-python",
   "name": "python",
   "nbconvert_exporter": "python",
   "pygments_lexer": "ipython3",
   "version": "3.10.13"
  }
 },
 "nbformat": 4,
 "nbformat_minor": 5
}
