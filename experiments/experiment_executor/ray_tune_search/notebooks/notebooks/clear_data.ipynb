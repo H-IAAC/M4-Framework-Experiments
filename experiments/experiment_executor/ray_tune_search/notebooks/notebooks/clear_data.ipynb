{
 "cells": [
  {
   "cell_type": "code",
   "execution_count": 2,
   "id": "08c43c16-2c8e-4d99-9c6a-ba597c594e2a",
   "metadata": {},
   "outputs": [],
   "source": [
    "!pkill -f \"python hsearch_main.py\"\n"
   ]
  },
  {
   "cell_type": "code",
   "execution_count": 3,
   "id": "4caf3b60-dd6e-4557-8f17-55351e234599",
   "metadata": {},
   "outputs": [],
   "source": [
    "import torch\n",
    "torch.cuda.empty_cache()\n"
   ]
  },
  {
   "cell_type": "code",
   "execution_count": 4,
   "id": "a7a5d183-12bd-4e04-9a4e-fa8ccd4ee22c",
   "metadata": {},
   "outputs": [],
   "source": [
    "!rm -r ~/.local/share/Trash/*\n"
   ]
  },
  {
   "cell_type": "code",
   "execution_count": null,
   "id": "494d9e7d-3206-48ba-b815-10cd7156b3c5",
   "metadata": {},
   "outputs": [],
   "source": []
  }
 ],
 "metadata": {
  "kernelspec": {
   "display_name": "Python 3 (ipykernel)",
   "language": "python",
   "name": "python3"
  },
  "language_info": {
   "codemirror_mode": {
    "name": "ipython",
    "version": 3
   },
   "file_extension": ".py",
   "mimetype": "text/x-python",
   "name": "python",
   "nbconvert_exporter": "python",
   "pygments_lexer": "ipython3",
   "version": "3.10.13"
  }
 },
 "nbformat": 4,
 "nbformat_minor": 5
}
