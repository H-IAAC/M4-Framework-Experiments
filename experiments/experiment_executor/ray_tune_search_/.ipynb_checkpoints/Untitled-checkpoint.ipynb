{
 "cells": [
  {
   "cell_type": "code",
   "execution_count": 86,
   "id": "166936e5-94e2-456a-bdc1-d47fc301a116",
   "metadata": {},
   "outputs": [],
   "source": [
    "import yaml\n",
    "\n",
    "def create_explotation_config(folder,latent_dim,transformation):\n",
    "    import librep.estimators.simclr.torch.simclr_utils as sm_ut\n",
    "    transformations=sm_ut.transform_combinations(transformation,transformation+1)\n",
    "    \n",
    "    data=\"\"\"\n",
    "    resources:\n",
    "      gpu: 0.9\n",
    "      cpu: 1.0\n",
    "    search_space: \n",
    "    \n",
    "      min_delta:\n",
    "        tune_function: quniform\n",
    "        tune_parameters: [0.001, 0.9,0.001]\n",
    "        route: reducer/kwargs/min_delta\n",
    "    \n",
    "      temperature_head:\n",
    "        tune_function: quniform\n",
    "        tune_parameters: [0.1, 2.0,0.1]\n",
    "        route: reducer/kwargs/temperature_head\n",
    "    \n",
    "      latent_dim:\n",
    "        tune_function: randint\n",
    "        tune_parameters: [2, 361]\n",
    "        route: reducer/kwargs/n_components\n",
    "    \n",
    "    \n",
    "      batch_size:\n",
    "        tune_function: randint\n",
    "        tune_parameters: [128, 512]\n",
    "        route: reducer/kwargs/batch_size\n",
    "    \n",
    "    \n",
    "    \n",
    "      transform_funcs:\n",
    "        tune_function: choice\n",
    "        tune_parameters: [[[0], [1], [2], [3], [4], [5], [6], [7], [8], [9], [10], [11]]]\n",
    "        route: reducer/kwargs/transform_funcs\n",
    "    \n",
    "    \n",
    "     \n",
    "    \n",
    "    \n",
    "    initial_params:\n",
    "    \n",
    "    \n",
    "    \"\"\"\n",
    "    config_data = data.replace('tune_parameters: [2, 361]',f'tune_parameters: [2,{(latent_dim*360/100)+1}]')\n",
    "    config_data = config_data.replace(f'tune_parameters: [[[0], [1], [2], [3], [4], [5], [6], [7], [8], [9], [10], [11]]]',f'tune_parameters: [{transformations}]')\n",
    "    with open(f'{folder}/exploration_config.yaml', 'w') as file:\n",
    "        file.write(config_data)\n"
   ]
  },
  {
   "cell_type": "code",
   "execution_count": 87,
   "id": "193f3a84-d00b-482f-b82a-df5ac5944d54",
   "metadata": {},
   "outputs": [
    {
     "name": "stdout",
     "output_type": "stream",
     "text": [
      "ok\n"
     ]
    }
   ],
   "source": [
    "def create_linear_base_config(dataset,folder):\n",
    "    estimators = [\n",
    "        {\n",
    "            'algorithm': 'RandomForest',\n",
    "            'kwargs': {\n",
    "                'n_estimators': 100,\n",
    "            },\n",
    "            'name': 'randomforest-100',\n",
    "            'num_runs': 10,\n",
    "        },\n",
    "        {\n",
    "            'algorithm': 'KNN',\n",
    "            'kwargs': {\n",
    "                'n_neighbors': 5,\n",
    "            },\n",
    "            'name': 'KNN-5',\n",
    "            'num_runs': 1,\n",
    "        },\n",
    "        {\n",
    "            'algorithm': 'SVM',\n",
    "            'kwargs': {\n",
    "                'C': 1.0,\n",
    "                'kernel': 'rbf',\n",
    "            },\n",
    "            'name': 'SVM-rbf-C1.0',\n",
    "            'num_runs': 1,\n",
    "        }\n",
    "    ]\n",
    "    \n",
    "    extra = {\n",
    "        'in_use_features': [\n",
    "            'accel-x',\n",
    "            'accel-y',\n",
    "            'accel-z',\n",
    "            'gyro-x',\n",
    "            'gyro-y',\n",
    "            'gyro-z',\n",
    "        ],\n",
    "        'reduce_on': 'all',\n",
    "        'save_reducer': False,\n",
    "        'scale_on': 'train',\n",
    "    }\n",
    "    \n",
    "    reducer = {\n",
    "        'algorithm': 'SimCLR_linear',\n",
    "        'kwargs': {\n",
    "            'dataset': dataset,\n",
    "            'input_shape': [60, 6],\n",
    "            'n_components': 98,\n",
    "            'batch_size_head': 256,\n",
    "            'transform_funcs': [1, 2, 3],\n",
    "            'temperature_head': 0.5,\n",
    "            'epochs_head': 300,\n",
    "            'patience': 10,\n",
    "            'min_delta': 0.001,\n",
    "            'device': 'cuda',\n",
    "            'save_reducer': False,\n",
    "            'save_model': False,\n",
    "            'verbose': 0,\n",
    "            'total_epochs': 50,\n",
    "            'batch_size': 32,\n",
    "            'lr': 0.001,\n",
    "        },\n",
    "        'name': 'SIMCLR_linear',\n",
    "        'use_y': True,\n",
    "    }\n",
    "    \n",
    "    reducer_dataset = [f'{dataset}.standartized_balanced[train]']\n",
    "    test_dataset = [f'{dataset}.standartized_balanced[validation]']\n",
    "    train_dataset = [f'{dataset}.standartized_balanced[train]']\n",
    "    \n",
    "    config = {\n",
    "        'estimators': estimators,\n",
    "        'extra': extra,\n",
    "        'reducer': reducer,\n",
    "        'reducer_dataset': reducer_dataset,\n",
    "        'test_dataset': test_dataset,\n",
    "        'train_dataset': train_dataset,\n",
    "        'version': '1.0',\n",
    "    }\n",
    "    \n",
    "    import yaml\n",
    "    \n",
    "    # Guardar la configuración en un archivo YAML\n",
    "    with open(f'{folder}/base_config.yaml', 'w') as file:\n",
    "        yaml.dump(config, file, default_flow_style=False)\n",
    "\n",
    "def create_folder(folder_name):\n",
    "    import os\n",
    "    if not os.path.exists(folder_name):\n",
    "        os.makedirs(folder_name)    \n",
    "\n",
    "datasets = ['kuhar', 'motionsense', 'uci', 'wisdm', 'realworld_thigh', 'realworld_waist']\n",
    "transformations=[1,2,3,4]\n",
    "percentages = [25, 50, 75, 100, 200]\n",
    "folder_name='experiments/simclr_all/simcrl_linear'\n",
    "create_folder(folder_name)\n",
    "    \n",
    "for dataset in datasets:\n",
    "    create_folder(f'{folder_name}/{dataset}')\n",
    "    for transformation in transformations:\n",
    "        for percentage in percentages:\n",
    "            folder=f'{folder_name}/{dataset}/simcrl_linear_{transformation}T_{dataset}_P{percentage}'\n",
    "            create_folder(folder)\n",
    "            create_explotation_config(folder,percentage,transformation)\n",
    "            create_linear_base_config(dataset,folder)\n",
    "\n",
    "print(\"ok\")"
   ]
  },
  {
   "cell_type": "code",
   "execution_count": 62,
   "id": "05821527-de63-4150-b980-70d4d0372f52",
   "metadata": {},
   "outputs": [
    {
     "data": {
      "text/plain": [
       "720.0"
      ]
     },
     "execution_count": 62,
     "metadata": {},
     "output_type": "execute_result"
    }
   ],
   "source": [
    "200*360/100"
   ]
  },
  {
   "cell_type": "code",
   "execution_count": 3,
   "id": "89c62e13-9ec3-42d5-91b1-de29b2b51361",
   "metadata": {},
   "outputs": [
    {
     "name": "stdout",
     "output_type": "stream",
     "text": [
      "Copiado de archivos completado.\n"
     ]
    }
   ],
   "source": [
    "import os\n",
    "import shutil\n",
    "\n",
    "def criar_exp(dataset_base,dataset_dest):\n",
    "    root_directory = 'experiments/'+dataset_base\n",
    "    destination_directory = 'experiments/'+dataset_dest\n",
    "    \n",
    "    \n",
    "    for root, dirs, files in os.walk(root_directory):\n",
    "        for directory in dirs:\n",
    "            current_directory = os.path.join(root, directory)\n",
    "            directory = directory.replace(\"motion\", \"uci\")\n",
    "    \n",
    "            dest_subfolder = os.path.join(destination_directory, directory)\n",
    "            os.makedirs(dest_subfolder, exist_ok=True)\n",
    "    \n",
    "            # Copia los archivos 'exploration_config.yaml' y 'base_config.yaml' si existen\n",
    "            for filename in ['exploration_config.yaml', 'base_config.yaml']:\n",
    "                source_file = os.path.join(current_directory, filename)\n",
    "                if os.path.isfile(source_file):\n",
    "                    dest_file = os.path.join(dest_subfolder, filename)\n",
    "                    shutil.copy(source_file, dest_file)\n",
    "                    if(filename=='base_config.yaml'):\n",
    "                        print(dest_file)\n",
    "                        with open(dest_file, 'r') as file:\n",
    "                            config_data = file.read()\n",
    "                        config_data = config_data.replace(dataset_base,dataset_dest)\n",
    "    \n",
    "                        with open(dest_file, 'w') as file:\n",
    "                            file.write(config_data)\n",
    "            \n",
    "    \n",
    "    \n",
    "    print(\"Copiado de archivos completado.\")\n",
    "    \n",
    "    \n",
    "criar_exp('motionsense', 'uci')    \n"
   ]
  },
  {
   "cell_type": "code",
   "execution_count": null,
   "id": "9dd44696-d665-4ac3-81a1-ae8a8575dc4b",
   "metadata": {},
   "outputs": [],
   "source": []
  },
  {
   "cell_type": "code",
   "execution_count": 4,
   "id": "40271c97-c47d-4c54-9a43-7337f15811a4",
   "metadata": {},
   "outputs": [
    {
     "ename": "NameError",
     "evalue": "name 'destination_directory' is not defined",
     "output_type": "error",
     "traceback": [
      "\u001b[0;31m---------------------------------------------------------------------------\u001b[0m",
      "\u001b[0;31mNameError\u001b[0m                                 Traceback (most recent call last)",
      "Cell \u001b[0;32mIn[4], line 19\u001b[0m\n\u001b[1;32m     17\u001b[0m root_directory \u001b[38;5;241m=\u001b[39m \u001b[38;5;124m'\u001b[39m\u001b[38;5;124mexperiments/motion\u001b[39m\u001b[38;5;124m'\u001b[39m\n\u001b[1;32m     18\u001b[0m root_directory \u001b[38;5;241m=\u001b[39m \u001b[38;5;124m'\u001b[39m\u001b[38;5;124mexperiments/UCI\u001b[39m\u001b[38;5;124m'\u001b[39m\n\u001b[0;32m---> 19\u001b[0m rename_directories(root_directory,\u001b[43mdestination_directory\u001b[49m)\n",
      "\u001b[0;31mNameError\u001b[0m: name 'destination_directory' is not defined"
     ]
    }
   ],
   "source": [
    "import os\n",
    "\n",
    "def rename_directories(root_dir,destination_directory):\n",
    "    \n",
    "    for dirpath, dirnames, filenames in os.walk(root_dir):\n",
    "        os.makedirs(os.path.dirname(destination_directory), exist_ok=True)\n",
    "        for dirname in dirnames:\n",
    "            print(dirname)\n",
    "            if \"motion\" in dirname:\n",
    "                new_dirname = dirname.replace(\"motion\", \"UCI\")\n",
    "                old_path = os.path.join(dirpath, dirname)\n",
    "                new_path = os.path.join(dirpath, new_dirname)\n",
    "                print(old_path,new_path)\n",
    "                #os.rename(old_path, new_path)\n",
    "\n",
    "# Substitua '/caminho/do/diretorio/raiz' pelo caminho real do diretório raiz\n",
    "root_directory = 'experiments/motion'\n",
    "root_directory = 'experiments/UCI'\n",
    "rename_directories(root_directory,destination_directory)\n"
   ]
  },
  {
   "cell_type": "code",
   "execution_count": 41,
   "id": "8a17eaf2-7a51-4ee4-aa05-64f26ba03a6b",
   "metadata": {},
   "outputs": [],
   "source": [
    "import psutil\n",
    "\n",
    "# Nombre del proceso que deseas buscar\n",
    "process_name = \"hsearch_main.py\"\n",
    "\n",
    "# Obtener la lista de todos los procesos\n",
    "all_processes = psutil.process_iter(attrs=['pid', 'name'])\n",
    "\n",
    "# Filtrar los procesos con el nombre específico\n",
    "target_processes = [p.info for p in all_processes if process_name in p.info['name']]\n",
    "\n",
    "# Imprimir información de los procesos encontrados\n",
    "for process in target_processes:\n",
    "    print(f\"PID: {process['pid']}, Nombre: {process['name']}\")\n"
   ]
  },
  {
   "cell_type": "code",
   "execution_count": 82,
   "id": "08c43c16-2c8e-4d99-9c6a-ba597c594e2a",
   "metadata": {},
   "outputs": [],
   "source": [
    "!pkill -f \"python hsearch_main.py\"\n"
   ]
  },
  {
   "cell_type": "code",
   "execution_count": 83,
   "id": "4caf3b60-dd6e-4557-8f17-55351e234599",
   "metadata": {},
   "outputs": [],
   "source": [
    "import torch\n",
    "torch.cuda.empty_cache()\n"
   ]
  },
  {
   "cell_type": "code",
   "execution_count": 85,
   "id": "a7a5d183-12bd-4e04-9a4e-fa8ccd4ee22c",
   "metadata": {},
   "outputs": [],
   "source": [
    "!rm -r ~/.local/share/Trash/*\n"
   ]
  },
  {
   "cell_type": "code",
   "execution_count": null,
   "id": "1f0e1a6e-6810-426b-a055-188b13ca21a0",
   "metadata": {},
   "outputs": [],
   "source": []
  }
 ],
 "metadata": {
  "kernelspec": {
   "display_name": "Python 3 (ipykernel)",
   "language": "python",
   "name": "python3"
  },
  "language_info": {
   "codemirror_mode": {
    "name": "ipython",
    "version": 3
   },
   "file_extension": ".py",
   "mimetype": "text/x-python",
   "name": "python",
   "nbconvert_exporter": "python",
   "pygments_lexer": "ipython3",
   "version": "3.10.13"
  }
 },
 "nbformat": 4,
 "nbformat_minor": 5
}
