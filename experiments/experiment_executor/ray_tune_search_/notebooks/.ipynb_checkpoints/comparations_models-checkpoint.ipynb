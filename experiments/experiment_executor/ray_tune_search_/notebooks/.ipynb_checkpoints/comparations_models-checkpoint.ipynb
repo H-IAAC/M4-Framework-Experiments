{
 "cells": [
  {
   "cell_type": "code",
   "execution_count": 1,
   "id": "ca64574c-36b9-4323-bf69-a2254f1101ae",
   "metadata": {},
   "outputs": [],
   "source": [
    "import utils as ut\n",
    "from ipywidgets import interact, widgets\n",
    "datasets = ['kuhar', 'motionsense', 'uci', 'wisdm', 'realworld_thigh', 'realworld_waist']\n",
    "dataset_default='uci'"
   ]
  },
  {
   "cell_type": "code",
   "execution_count": 2,
   "id": "117316de-245c-4c72-ad8f-55d78ca03e53",
   "metadata": {},
   "outputs": [
    {
     "data": {
      "application/vnd.jupyter.widget-view+json": {
       "model_id": "bdbc24715cb248f1820e12e9f843e12a",
       "version_major": 2,
       "version_minor": 0
      },
      "text/plain": [
       "interactive(children=(Dropdown(description='dataset', index=2, options=('kuhar', 'motionsense', 'uci', 'wisdm'…"
      ]
     },
     "metadata": {},
     "output_type": "display_data"
    },
    {
     "data": {
      "text/plain": [
       "<function __main__.plot_by_dataset(dataset)>"
      ]
     },
     "execution_count": 2,
     "metadata": {},
     "output_type": "execute_result"
    }
   ],
   "source": [
    "\n",
    "def plot_by_dataset(dataset):\n",
    "    ut.fixed_percentage_models(datasets=[dataset])\n",
    "    \n",
    "interact(plot_by_dataset, dataset=widgets.Dropdown(options=datasets, value=dataset_default))\n"
   ]
  },
  {
   "cell_type": "code",
   "execution_count": null,
   "id": "4d1f6158-5721-4b83-945c-fc0f662d8176",
   "metadata": {},
   "outputs": [],
   "source": []
  },
  {
   "cell_type": "code",
   "execution_count": null,
   "id": "05ed2197-8fb5-4ff0-a16e-dd1a14ff5629",
   "metadata": {},
   "outputs": [],
   "source": []
  }
 ],
 "metadata": {
  "kernelspec": {
   "display_name": "Python 3 (ipykernel)",
   "language": "python",
   "name": "python3"
  },
  "language_info": {
   "codemirror_mode": {
    "name": "ipython",
    "version": 3
   },
   "file_extension": ".py",
   "mimetype": "text/x-python",
   "name": "python",
   "nbconvert_exporter": "python",
   "pygments_lexer": "ipython3",
   "version": "3.10.13"
  }
 },
 "nbformat": 4,
 "nbformat_minor": 5
}
