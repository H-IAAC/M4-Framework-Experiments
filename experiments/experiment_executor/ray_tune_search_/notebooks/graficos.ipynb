{
 "cells": [
  {
   "cell_type": "code",
   "execution_count": 1,
   "id": "606f4676-cf7f-4f58-aaf7-d2c96c30d748",
   "metadata": {},
   "outputs": [],
   "source": [
    "import pandas as pd\n",
    "import numpy as np\n",
    "import matplotlib.pyplot as plt\n",
    "import yaml\n",
    "import pandas as pd\n",
    "import matplotlib.pyplot as plt\n",
    "from ipywidgets import interact, widgets\n",
    "import numpy as np\n",
    "import plotly.express as px\n",
    "import pandas as pd\n",
    "import matplotlib.pyplot as plt\n",
    "import yaml\n",
    "\n",
    "    "
   ]
  },
  {
   "cell_type": "code",
   "execution_count": 2,
   "id": "63360d8c-f5fc-4332-92f3-e3c5ec1e509c",
   "metadata": {},
   "outputs": [],
   "source": [
    "def read_csv(dataset,type_simclr,n_transformations,percentage):\n",
    "    try:\n",
    "        \n",
    "        data = pd.read_csv(f'experiments/simclr_all/{type_simclr}/{dataset}/{type_simclr}_{n_transformations}T_{dataset}_P{percentage}/data.csv')\n",
    "        data.loc[data['score'] < 0,'score'] = 0\n",
    "    except:\n",
    "        print(f'experiments/simclr_all/{type_simclr}/{dataset}/{type_simclr}_{n_transformations}T_{dataset}_P{percentage}/data.csv')\n",
    "        data = pd.DataFrame({'Unnamed: 0': [], 'score': []})\n",
    "    return data\n",
    "\n",
    "def get_no_reducer_score(dataset):\n",
    "    with open(f'TV_sb_no_reducer/scores/no_reducer_{dataset}.yaml') as f:\n",
    "        score = yaml.load(f, Loader=yaml.FullLoader)\n",
    "        score = score['score']\n",
    "        #print(score)\n",
    "    return score"
   ]
  },
  {
   "cell_type": "code",
   "execution_count": 3,
   "id": "e4b4a955-cd07-4fd4-b69a-2503dadef80e",
   "metadata": {},
   "outputs": [
    {
     "data": {
      "text/plain": [
       "0.785952380952381"
      ]
     },
     "execution_count": 3,
     "metadata": {},
     "output_type": "execute_result"
    }
   ],
   "source": [
    "dataset_default = 'motionsense'\n",
    "type_simclr_default='simclr_full'\n",
    "percentage_default=100\n",
    "n_transformations_default=2\n",
    "data=read_csv(dataset_default,type_simclr_default,n_transformations_default,percentage_default)\n",
    "score_no_reducer=get_no_reducer_score(dataset_default)\n",
    "score_no_reducer"
   ]
  },
  {
   "cell_type": "code",
   "execution_count": 4,
   "id": "59e6359e-4588-44f0-82b0-22200c696c69",
   "metadata": {},
   "outputs": [
    {
     "data": {
      "text/html": [
       "<div>\n",
       "<style scoped>\n",
       "    .dataframe tbody tr th:only-of-type {\n",
       "        vertical-align: middle;\n",
       "    }\n",
       "\n",
       "    .dataframe tbody tr th {\n",
       "        vertical-align: top;\n",
       "    }\n",
       "\n",
       "    .dataframe thead th {\n",
       "        text-align: right;\n",
       "    }\n",
       "</style>\n",
       "<table border=\"1\" class=\"dataframe\">\n",
       "  <thead>\n",
       "    <tr style=\"text-align: right;\">\n",
       "      <th></th>\n",
       "      <th>Unnamed: 0</th>\n",
       "      <th>score</th>\n",
       "      <th>randomforest-100-accuracy (mean)</th>\n",
       "      <th>randomforest-100-accuracy (std)</th>\n",
       "      <th>randomforest-100-f1-score macro (mean)</th>\n",
       "      <th>randomforest-100-f1-score macro (std)</th>\n",
       "      <th>randomforest-100-f1-score weighted (mean)</th>\n",
       "      <th>randomforest-100-f1-score weighted (std)</th>\n",
       "      <th>KNN-5-accuracy (mean)</th>\n",
       "      <th>KNN-5-accuracy (std)</th>\n",
       "      <th>...</th>\n",
       "      <th>hostname</th>\n",
       "      <th>node_ip</th>\n",
       "      <th>time_since_restore</th>\n",
       "      <th>iterations_since_restore</th>\n",
       "      <th>checkpoint_dir_name</th>\n",
       "      <th>config/temperature_head</th>\n",
       "      <th>config/latent_dim</th>\n",
       "      <th>config/batch_size</th>\n",
       "      <th>config/transform_funcs</th>\n",
       "      <th>logdir</th>\n",
       "    </tr>\n",
       "  </thead>\n",
       "  <tbody>\n",
       "    <tr>\n",
       "      <th>0</th>\n",
       "      <td>0</td>\n",
       "      <td>0.817857</td>\n",
       "      <td>0.817857</td>\n",
       "      <td>0.005351</td>\n",
       "      <td>0.822601</td>\n",
       "      <td>0.004978</td>\n",
       "      <td>0.822601</td>\n",
       "      <td>0.004978</td>\n",
       "      <td>0.816667</td>\n",
       "      <td>0.0</td>\n",
       "      <td>...</td>\n",
       "      <td>6758e5a243b0</td>\n",
       "      <td>172.17.0.4</td>\n",
       "      <td>31.406437</td>\n",
       "      <td>1</td>\n",
       "      <td>NaN</td>\n",
       "      <td>0.9</td>\n",
       "      <td>87</td>\n",
       "      <td>157</td>\n",
       "      <td>(6, 11)</td>\n",
       "      <td>d25b0ca5</td>\n",
       "    </tr>\n",
       "    <tr>\n",
       "      <th>1</th>\n",
       "      <td>1</td>\n",
       "      <td>0.808571</td>\n",
       "      <td>0.808571</td>\n",
       "      <td>0.004286</td>\n",
       "      <td>0.812175</td>\n",
       "      <td>0.004254</td>\n",
       "      <td>0.812175</td>\n",
       "      <td>0.004254</td>\n",
       "      <td>0.771429</td>\n",
       "      <td>0.0</td>\n",
       "      <td>...</td>\n",
       "      <td>6758e5a243b0</td>\n",
       "      <td>172.17.0.4</td>\n",
       "      <td>24.801843</td>\n",
       "      <td>1</td>\n",
       "      <td>NaN</td>\n",
       "      <td>0.5</td>\n",
       "      <td>120</td>\n",
       "      <td>451</td>\n",
       "      <td>(4, 11)</td>\n",
       "      <td>149d40bd</td>\n",
       "    </tr>\n",
       "    <tr>\n",
       "      <th>2</th>\n",
       "      <td>2</td>\n",
       "      <td>0.811905</td>\n",
       "      <td>0.810000</td>\n",
       "      <td>0.006547</td>\n",
       "      <td>0.812330</td>\n",
       "      <td>0.006433</td>\n",
       "      <td>0.812330</td>\n",
       "      <td>0.006433</td>\n",
       "      <td>0.811905</td>\n",
       "      <td>0.0</td>\n",
       "      <td>...</td>\n",
       "      <td>6758e5a243b0</td>\n",
       "      <td>172.17.0.4</td>\n",
       "      <td>46.354423</td>\n",
       "      <td>1</td>\n",
       "      <td>NaN</td>\n",
       "      <td>0.8</td>\n",
       "      <td>232</td>\n",
       "      <td>298</td>\n",
       "      <td>(9, 10)</td>\n",
       "      <td>234dd5b8</td>\n",
       "    </tr>\n",
       "    <tr>\n",
       "      <th>3</th>\n",
       "      <td>3</td>\n",
       "      <td>0.803095</td>\n",
       "      <td>0.803095</td>\n",
       "      <td>0.005933</td>\n",
       "      <td>0.806419</td>\n",
       "      <td>0.006149</td>\n",
       "      <td>0.806419</td>\n",
       "      <td>0.006149</td>\n",
       "      <td>0.783333</td>\n",
       "      <td>0.0</td>\n",
       "      <td>...</td>\n",
       "      <td>6758e5a243b0</td>\n",
       "      <td>172.17.0.4</td>\n",
       "      <td>38.106040</td>\n",
       "      <td>1</td>\n",
       "      <td>NaN</td>\n",
       "      <td>0.6</td>\n",
       "      <td>187</td>\n",
       "      <td>301</td>\n",
       "      <td>(3, 6)</td>\n",
       "      <td>706b5138</td>\n",
       "    </tr>\n",
       "    <tr>\n",
       "      <th>4</th>\n",
       "      <td>4</td>\n",
       "      <td>0.752381</td>\n",
       "      <td>0.751905</td>\n",
       "      <td>0.003810</td>\n",
       "      <td>0.758125</td>\n",
       "      <td>0.003697</td>\n",
       "      <td>0.758125</td>\n",
       "      <td>0.003697</td>\n",
       "      <td>0.752381</td>\n",
       "      <td>0.0</td>\n",
       "      <td>...</td>\n",
       "      <td>6758e5a243b0</td>\n",
       "      <td>172.17.0.4</td>\n",
       "      <td>15.886814</td>\n",
       "      <td>1</td>\n",
       "      <td>NaN</td>\n",
       "      <td>0.9</td>\n",
       "      <td>4</td>\n",
       "      <td>260</td>\n",
       "      <td>(2, 4)</td>\n",
       "      <td>2025f18d</td>\n",
       "    </tr>\n",
       "    <tr>\n",
       "      <th>...</th>\n",
       "      <td>...</td>\n",
       "      <td>...</td>\n",
       "      <td>...</td>\n",
       "      <td>...</td>\n",
       "      <td>...</td>\n",
       "      <td>...</td>\n",
       "      <td>...</td>\n",
       "      <td>...</td>\n",
       "      <td>...</td>\n",
       "      <td>...</td>\n",
       "      <td>...</td>\n",
       "      <td>...</td>\n",
       "      <td>...</td>\n",
       "      <td>...</td>\n",
       "      <td>...</td>\n",
       "      <td>...</td>\n",
       "      <td>...</td>\n",
       "      <td>...</td>\n",
       "      <td>...</td>\n",
       "      <td>...</td>\n",
       "      <td>...</td>\n",
       "    </tr>\n",
       "    <tr>\n",
       "      <th>1061</th>\n",
       "      <td>1061</td>\n",
       "      <td>0.832857</td>\n",
       "      <td>0.832857</td>\n",
       "      <td>0.006371</td>\n",
       "      <td>0.836405</td>\n",
       "      <td>0.006145</td>\n",
       "      <td>0.836405</td>\n",
       "      <td>0.006145</td>\n",
       "      <td>0.830952</td>\n",
       "      <td>0.0</td>\n",
       "      <td>...</td>\n",
       "      <td>6758e5a243b0</td>\n",
       "      <td>172.17.0.4</td>\n",
       "      <td>31.565620</td>\n",
       "      <td>1</td>\n",
       "      <td>NaN</td>\n",
       "      <td>0.2</td>\n",
       "      <td>108</td>\n",
       "      <td>268</td>\n",
       "      <td>(1, 6)</td>\n",
       "      <td>01a7ba04</td>\n",
       "    </tr>\n",
       "    <tr>\n",
       "      <th>1062</th>\n",
       "      <td>1062</td>\n",
       "      <td>0.842381</td>\n",
       "      <td>0.842381</td>\n",
       "      <td>0.005084</td>\n",
       "      <td>0.845787</td>\n",
       "      <td>0.004882</td>\n",
       "      <td>0.845787</td>\n",
       "      <td>0.004882</td>\n",
       "      <td>0.800000</td>\n",
       "      <td>0.0</td>\n",
       "      <td>...</td>\n",
       "      <td>6758e5a243b0</td>\n",
       "      <td>172.17.0.4</td>\n",
       "      <td>38.337787</td>\n",
       "      <td>1</td>\n",
       "      <td>NaN</td>\n",
       "      <td>0.1</td>\n",
       "      <td>92</td>\n",
       "      <td>261</td>\n",
       "      <td>(0, 5)</td>\n",
       "      <td>d9be199e</td>\n",
       "    </tr>\n",
       "    <tr>\n",
       "      <th>1063</th>\n",
       "      <td>1063</td>\n",
       "      <td>0.838810</td>\n",
       "      <td>0.838810</td>\n",
       "      <td>0.005933</td>\n",
       "      <td>0.842229</td>\n",
       "      <td>0.005859</td>\n",
       "      <td>0.842229</td>\n",
       "      <td>0.005859</td>\n",
       "      <td>0.809524</td>\n",
       "      <td>0.0</td>\n",
       "      <td>...</td>\n",
       "      <td>6758e5a243b0</td>\n",
       "      <td>172.17.0.4</td>\n",
       "      <td>36.164103</td>\n",
       "      <td>1</td>\n",
       "      <td>NaN</td>\n",
       "      <td>0.1</td>\n",
       "      <td>75</td>\n",
       "      <td>248</td>\n",
       "      <td>(6, 8)</td>\n",
       "      <td>52e720c4</td>\n",
       "    </tr>\n",
       "    <tr>\n",
       "      <th>1064</th>\n",
       "      <td>1064</td>\n",
       "      <td>0.799048</td>\n",
       "      <td>0.799048</td>\n",
       "      <td>0.004903</td>\n",
       "      <td>0.805309</td>\n",
       "      <td>0.004645</td>\n",
       "      <td>0.805309</td>\n",
       "      <td>0.004645</td>\n",
       "      <td>0.783333</td>\n",
       "      <td>0.0</td>\n",
       "      <td>...</td>\n",
       "      <td>6758e5a243b0</td>\n",
       "      <td>172.17.0.4</td>\n",
       "      <td>34.058775</td>\n",
       "      <td>1</td>\n",
       "      <td>NaN</td>\n",
       "      <td>0.2</td>\n",
       "      <td>99</td>\n",
       "      <td>315</td>\n",
       "      <td>(2, 5)</td>\n",
       "      <td>566628ab</td>\n",
       "    </tr>\n",
       "    <tr>\n",
       "      <th>1065</th>\n",
       "      <td>1065</td>\n",
       "      <td>0.788095</td>\n",
       "      <td>0.785952</td>\n",
       "      <td>0.005372</td>\n",
       "      <td>0.788480</td>\n",
       "      <td>0.005488</td>\n",
       "      <td>0.788480</td>\n",
       "      <td>0.005488</td>\n",
       "      <td>0.788095</td>\n",
       "      <td>0.0</td>\n",
       "      <td>...</td>\n",
       "      <td>6758e5a243b0</td>\n",
       "      <td>172.17.0.4</td>\n",
       "      <td>30.576210</td>\n",
       "      <td>1</td>\n",
       "      <td>NaN</td>\n",
       "      <td>0.1</td>\n",
       "      <td>81</td>\n",
       "      <td>282</td>\n",
       "      <td>(6, 9)</td>\n",
       "      <td>c4cf282e</td>\n",
       "    </tr>\n",
       "  </tbody>\n",
       "</table>\n",
       "<p>1066 rows × 38 columns</p>\n",
       "</div>"
      ],
      "text/plain": [
       "      Unnamed: 0     score  randomforest-100-accuracy (mean)  \\\n",
       "0              0  0.817857                          0.817857   \n",
       "1              1  0.808571                          0.808571   \n",
       "2              2  0.811905                          0.810000   \n",
       "3              3  0.803095                          0.803095   \n",
       "4              4  0.752381                          0.751905   \n",
       "...          ...       ...                               ...   \n",
       "1061        1061  0.832857                          0.832857   \n",
       "1062        1062  0.842381                          0.842381   \n",
       "1063        1063  0.838810                          0.838810   \n",
       "1064        1064  0.799048                          0.799048   \n",
       "1065        1065  0.788095                          0.785952   \n",
       "\n",
       "      randomforest-100-accuracy (std)  randomforest-100-f1-score macro (mean)  \\\n",
       "0                            0.005351                                0.822601   \n",
       "1                            0.004286                                0.812175   \n",
       "2                            0.006547                                0.812330   \n",
       "3                            0.005933                                0.806419   \n",
       "4                            0.003810                                0.758125   \n",
       "...                               ...                                     ...   \n",
       "1061                         0.006371                                0.836405   \n",
       "1062                         0.005084                                0.845787   \n",
       "1063                         0.005933                                0.842229   \n",
       "1064                         0.004903                                0.805309   \n",
       "1065                         0.005372                                0.788480   \n",
       "\n",
       "      randomforest-100-f1-score macro (std)  \\\n",
       "0                                  0.004978   \n",
       "1                                  0.004254   \n",
       "2                                  0.006433   \n",
       "3                                  0.006149   \n",
       "4                                  0.003697   \n",
       "...                                     ...   \n",
       "1061                               0.006145   \n",
       "1062                               0.004882   \n",
       "1063                               0.005859   \n",
       "1064                               0.004645   \n",
       "1065                               0.005488   \n",
       "\n",
       "      randomforest-100-f1-score weighted (mean)  \\\n",
       "0                                      0.822601   \n",
       "1                                      0.812175   \n",
       "2                                      0.812330   \n",
       "3                                      0.806419   \n",
       "4                                      0.758125   \n",
       "...                                         ...   \n",
       "1061                                   0.836405   \n",
       "1062                                   0.845787   \n",
       "1063                                   0.842229   \n",
       "1064                                   0.805309   \n",
       "1065                                   0.788480   \n",
       "\n",
       "      randomforest-100-f1-score weighted (std)  KNN-5-accuracy (mean)  \\\n",
       "0                                     0.004978               0.816667   \n",
       "1                                     0.004254               0.771429   \n",
       "2                                     0.006433               0.811905   \n",
       "3                                     0.006149               0.783333   \n",
       "4                                     0.003697               0.752381   \n",
       "...                                        ...                    ...   \n",
       "1061                                  0.006145               0.830952   \n",
       "1062                                  0.004882               0.800000   \n",
       "1063                                  0.005859               0.809524   \n",
       "1064                                  0.004645               0.783333   \n",
       "1065                                  0.005488               0.788095   \n",
       "\n",
       "      KNN-5-accuracy (std)  ...      hostname     node_ip  time_since_restore  \\\n",
       "0                      0.0  ...  6758e5a243b0  172.17.0.4           31.406437   \n",
       "1                      0.0  ...  6758e5a243b0  172.17.0.4           24.801843   \n",
       "2                      0.0  ...  6758e5a243b0  172.17.0.4           46.354423   \n",
       "3                      0.0  ...  6758e5a243b0  172.17.0.4           38.106040   \n",
       "4                      0.0  ...  6758e5a243b0  172.17.0.4           15.886814   \n",
       "...                    ...  ...           ...         ...                 ...   \n",
       "1061                   0.0  ...  6758e5a243b0  172.17.0.4           31.565620   \n",
       "1062                   0.0  ...  6758e5a243b0  172.17.0.4           38.337787   \n",
       "1063                   0.0  ...  6758e5a243b0  172.17.0.4           36.164103   \n",
       "1064                   0.0  ...  6758e5a243b0  172.17.0.4           34.058775   \n",
       "1065                   0.0  ...  6758e5a243b0  172.17.0.4           30.576210   \n",
       "\n",
       "      iterations_since_restore  checkpoint_dir_name  config/temperature_head  \\\n",
       "0                            1                  NaN                      0.9   \n",
       "1                            1                  NaN                      0.5   \n",
       "2                            1                  NaN                      0.8   \n",
       "3                            1                  NaN                      0.6   \n",
       "4                            1                  NaN                      0.9   \n",
       "...                        ...                  ...                      ...   \n",
       "1061                         1                  NaN                      0.2   \n",
       "1062                         1                  NaN                      0.1   \n",
       "1063                         1                  NaN                      0.1   \n",
       "1064                         1                  NaN                      0.2   \n",
       "1065                         1                  NaN                      0.1   \n",
       "\n",
       "      config/latent_dim  config/batch_size  config/transform_funcs    logdir  \n",
       "0                    87                157                 (6, 11)  d25b0ca5  \n",
       "1                   120                451                 (4, 11)  149d40bd  \n",
       "2                   232                298                 (9, 10)  234dd5b8  \n",
       "3                   187                301                  (3, 6)  706b5138  \n",
       "4                     4                260                  (2, 4)  2025f18d  \n",
       "...                 ...                ...                     ...       ...  \n",
       "1061                108                268                  (1, 6)  01a7ba04  \n",
       "1062                 92                261                  (0, 5)  d9be199e  \n",
       "1063                 75                248                  (6, 8)  52e720c4  \n",
       "1064                 99                315                  (2, 5)  566628ab  \n",
       "1065                 81                282                  (6, 9)  c4cf282e  \n",
       "\n",
       "[1066 rows x 38 columns]"
      ]
     },
     "execution_count": 4,
     "metadata": {},
     "output_type": "execute_result"
    }
   ],
   "source": [
    "data"
   ]
  },
  {
   "cell_type": "code",
   "execution_count": 5,
   "id": "98992cc6-7aca-4886-b2c2-73a550174a88",
   "metadata": {},
   "outputs": [],
   "source": [
    "datasets = ['kuhar', 'motionsense', 'uci', 'wisdm', 'realworld_thigh', 'realworld_waist']\n",
    "transformations = ['1', '2', '3', '4']\n",
    "percentages = [25, 50, 75, 100, 200]\n",
    "type_simclr_options=['simclr_full','simclr_linear','simclr']\n"
   ]
  },
  {
   "cell_type": "code",
   "execution_count": 6,
   "id": "e3080d95-109c-45ef-baf4-3923c3447118",
   "metadata": {},
   "outputs": [
    {
     "data": {
      "application/vnd.jupyter.widget-view+json": {
       "model_id": "9b17c2150b3a4648aef20bb90c0a9c9d",
       "version_major": 2,
       "version_minor": 0
      },
      "text/plain": [
       "interactive(children=(Dropdown(description='dataset', index=1, options=('kuhar', 'motionsense', 'uci', 'wisdm'…"
      ]
     },
     "metadata": {},
     "output_type": "display_data"
    },
    {
     "data": {
      "text/plain": [
       "<function __main__.plot_best_score(dataset, type_simclr)>"
      ]
     },
     "execution_count": 6,
     "metadata": {},
     "output_type": "execute_result"
    }
   ],
   "source": [
    "import plotly.express as px\n",
    "import plotly.graph_objects as go\n",
    "best_transformation={}\n",
    "def plot_best_score(dataset, type_simclr):\n",
    "    fig = go.Figure() \n",
    "\n",
    "    for percentage in percentages:\n",
    "        best_scores = []  \n",
    "        \n",
    "        max_score = -1  \n",
    "        for i, n_transformations in enumerate(transformations):\n",
    "            data = read_csv(dataset, type_simclr, n_transformations, percentage)\n",
    "            score_no_reducer = get_no_reducer_score(dataset)                \n",
    "            max_dataset_score = data['score'].max()\n",
    "            \n",
    "            if max_dataset_score > max_score:\n",
    "                max_score = max_dataset_score \n",
    "                max_dataset_score_ = data['score'].cummax()\n",
    "                n_transformations_ = n_transformations\n",
    "                \n",
    "            best_scores.append(max_score)\n",
    "        #best_transformation[percentage]=n_transformations_\n",
    "\n",
    "        fig.add_trace(go.Scatter(x=max_dataset_score_.index, y=max_dataset_score_, mode='lines', name=f': {percentage}% {n_transformations_} T'))\n",
    "\n",
    "    fig.add_trace(go.Scatter(x=max_dataset_score_.index, y=[score_no_reducer] * len(max_dataset_score_), mode='lines', line=dict(dash='dash'), name='No reducer'))\n",
    "\n",
    "    fig.update_layout(\n",
    "        title=f'{dataset} Best Scores for Different Transformations',\n",
    "        xaxis_title='Iterations',\n",
    "        yaxis_title='Best accuracy',\n",
    "        showlegend=True\n",
    "    )\n",
    "\n",
    "    fig.show()\n",
    "interact(plot_best_score, dataset=widgets.Dropdown(options=datasets, value=dataset_default), type_simclr=widgets.Dropdown(options=type_simclr_options, value=type_simclr_default))\n"
   ]
  },
  {
   "cell_type": "code",
   "execution_count": 7,
   "id": "32c81f18-9e0c-4d47-93a3-880dd594dfee",
   "metadata": {},
   "outputs": [
    {
     "data": {
      "text/plain": [
       "{}"
      ]
     },
     "execution_count": 7,
     "metadata": {},
     "output_type": "execute_result"
    }
   ],
   "source": [
    "best_transformation"
   ]
  },
  {
   "cell_type": "code",
   "execution_count": 8,
   "id": "844881ed-22c0-4646-970b-480e7a83fdd5",
   "metadata": {},
   "outputs": [
    {
     "data": {
      "application/vnd.jupyter.widget-view+json": {
       "model_id": "9306a2bcf4db47e48730946b3f504c5d",
       "version_major": 2,
       "version_minor": 0
      },
      "text/plain": [
       "interactive(children=(Dropdown(description='dataset', index=1, options=('kuhar', 'motionsense', 'uci', 'wisdm'…"
      ]
     },
     "metadata": {},
     "output_type": "display_data"
    },
    {
     "data": {
      "text/plain": [
       "<function __main__.update_hyperparameters_plot(dataset, type_simclr, transformation, percentage)>"
      ]
     },
     "execution_count": 8,
     "metadata": {},
     "output_type": "execute_result"
    }
   ],
   "source": [
    "\n",
    "def update_hyperparameters_plot(dataset, type_simclr, transformation, percentage):\n",
    "    data = read_csv(dataset, type_simclr, transformation, percentage)\n",
    "    score_no_reducer=get_no_reducer_score(dataset)\n",
    "    fig = px.scatter(data, x='Unnamed: 0', y='score', title=f'{dataset} - hyperparameters exploration', labels={'score': 'Scores'})\n",
    "    fig.update_xaxes(title_text='', showticklabels=False)\n",
    "    fig.update_yaxes(title_text='', showticklabels=False)\n",
    "    fig.add_scatter(x=data['Unnamed: 0'], y=data['score'].cummax(), mode='lines', line=dict(color='blue', width=4), name='MAX (KNN, SVC, RF)')\n",
    "    fig.add_scatter(x=data['Unnamed: 0'], y=[score_no_reducer] * len(data), mode='lines', line=dict(color='red', width=4), name='No reducer')\n",
    "    fig.update_traces(marker=dict(size=4), selector=dict(mode='markers'))\n",
    "\n",
    "    fig.show()\n",
    "\n",
    "\n",
    "# Crear widget interactivo\n",
    "interact(update_hyperparameters_plot, dataset=widgets.Dropdown(options=datasets, value=dataset_default), type_simclr=widgets.Dropdown(options=type_simclr_options, value=type_simclr_default), transformation=widgets.Dropdown(options=transformations, value=transformations[0]), percentage=widgets.Dropdown(options=percentages, value=percentages[0]))\n"
   ]
  },
  {
   "cell_type": "code",
   "execution_count": null,
   "id": "5b982c29-7026-493d-b2b4-ce96700679ee",
   "metadata": {},
   "outputs": [],
   "source": []
  },
  {
   "cell_type": "code",
   "execution_count": 9,
   "id": "152e0a58-c317-4ff2-8c24-cda159248014",
   "metadata": {},
   "outputs": [
    {
     "data": {
      "application/vnd.jupyter.widget-view+json": {
       "model_id": "51613c3be7214838a956113679b87637",
       "version_major": 2,
       "version_minor": 0
      },
      "text/plain": [
       "interactive(children=(Dropdown(description='dataset', index=1, options=('kuhar', 'motionsense', 'uci', 'wisdm'…"
      ]
     },
     "metadata": {},
     "output_type": "display_data"
    },
    {
     "data": {
      "text/plain": [
       "<function __main__.plot_all_perc(dataset, type_simclr)>"
      ]
     },
     "execution_count": 9,
     "metadata": {},
     "output_type": "execute_result"
    }
   ],
   "source": [
    "def get_perc(fig,axs,dataset,percentage,type_simclr,indice_plot,n_transformations):\n",
    "    \n",
    "    data=read_csv(dataset,type_simclr,n_transformations,percentage)\n",
    "    score_no_reducer=get_no_reducer_score(dataset)\n",
    "    axs[indice_plot].set_title(f'Up to  {percentage}% of orig. dim.')\n",
    "    axs[indice_plot].plot(data['Unnamed: 0'], data['score'], '.', color='lightgray', label='scores')\n",
    "    axs[indice_plot].plot(data['score'].cummax(), color='blue', label='MAX (KNN, SVC, RF)')\n",
    "    axs[indice_plot].plot(data['Unnamed: 0'], [score_no_reducer]*len(data), color='red', label='No reducer')\n",
    "    axs[indice_plot].legend(loc='lower center')\n",
    "    axs[indice_plot].set_ylabel(f'Best accuracy on {dataset}_{n_transformations}T')\n",
    "    axs[0].grid()\n",
    "\n",
    "def plot_all_perc(dataset,type_simclr):\n",
    "    plot_per=True\n",
    "    for i, transf in enumerate(transformations):\n",
    "        fig, axs = plt.subplots(1, 5, figsize=(15, 5))\n",
    "    \n",
    "        # Subplots for each dataset\n",
    "        for j, percentage in enumerate(percentages):\n",
    "            get_perc(fig,axs,dataset,percentage,type_simclr,j,transf)\n",
    "\n",
    "interact(plot_all_perc, dataset=widgets.Dropdown(options=datasets, value=dataset_default), type_simclr=widgets.Dropdown(options=type_simclr_options, value=type_simclr_default))\n"
   ]
  },
  {
   "cell_type": "code",
   "execution_count": null,
   "id": "302e37ea-a859-42c3-9359-6de8f493b5a8",
   "metadata": {},
   "outputs": [],
   "source": []
  },
  {
   "cell_type": "code",
   "execution_count": 10,
   "id": "33fbc857-df56-4b48-a565-626a66e55863",
   "metadata": {},
   "outputs": [
    {
     "data": {
      "application/vnd.jupyter.widget-view+json": {
       "model_id": "25c79f7dc3444b149f67424ff0c686b2",
       "version_major": 2,
       "version_minor": 0
      },
      "text/plain": [
       "interactive(children=(Dropdown(description='dataset', index=1, options=('kuhar', 'motionsense', 'uci', 'wisdm'…"
      ]
     },
     "metadata": {},
     "output_type": "display_data"
    },
    {
     "data": {
      "text/plain": [
       "<function __main__.plot_best_acc_by_transf(dataset, type_simclr)>"
      ]
     },
     "execution_count": 10,
     "metadata": {},
     "output_type": "execute_result"
    }
   ],
   "source": [
    "def plot_best_acc_by_transf(dataset,type_simclr):\n",
    "    colors = ['green', 'blue', 'orange', 'gray', 'purple', 'brown']\n",
    "    best_score_all={}\n",
    "    \n",
    "    for i, n_transformations in enumerate(transformations):\n",
    "        best_score_all[n_transformations]=[]\n",
    "        for percentage in percentages:\n",
    "            data=read_csv(dataset,type_simclr,n_transformations,percentage)\n",
    "            score_no_reducer=get_no_reducer_score(dataset)\n",
    "            best_score_all[n_transformations].append(data['score'].max())\n",
    "            plt.plot(data['score'].cummax(), label=f'Percentage: {percentage}%')\n",
    "            plt.plot(data['Unnamed: 0'], [score_no_reducer]*len(data['Unnamed: 0']), '--',color='red', label='No reducer')\n",
    "        \n",
    "        \n",
    "        plt.title(f'{dataset}_{n_transformations}T - hyperparameters exploration')\n",
    "        plt.ylabel('Best accuracy')\n",
    "        plt.xlabel('Iterations')\n",
    "        plt.legend()\n",
    "        plt.grid()\n",
    "        plt.show()\n",
    "    \n",
    "\n",
    "interact(plot_best_acc_by_transf, dataset=widgets.Dropdown(options=datasets, value=dataset_default), type_simclr=widgets.Dropdown(options=type_simclr_options, value=type_simclr_default))\n"
   ]
  },
  {
   "cell_type": "code",
   "execution_count": 11,
   "id": "f4f2e432-2a53-49b7-aa85-7b2d705b2c5d",
   "metadata": {},
   "outputs": [
    {
     "data": {
      "application/vnd.jupyter.widget-view+json": {
       "model_id": "ffac0f7b4c414642949c59ae57502f89",
       "version_major": 2,
       "version_minor": 0
      },
      "text/plain": [
       "interactive(children=(Dropdown(description='dataset', index=1, options=('kuhar', 'motionsense', 'uci', 'wisdm'…"
      ]
     },
     "metadata": {},
     "output_type": "display_data"
    },
    {
     "data": {
      "text/plain": [
       "<function __main__.plot_best_score(dataset, type_simclr)>"
      ]
     },
     "execution_count": 11,
     "metadata": {},
     "output_type": "execute_result"
    }
   ],
   "source": [
    "def plot_best_score(dataset,type_simclr):\n",
    "    for percentage in percentages:\n",
    "        best_scores = []  \n",
    "        max_score = -1  # Initialize with a negative value to ensure any score is an improvement\n",
    "\n",
    "        for i, n_transformations in enumerate(transformations):\n",
    "            data=read_csv(dataset,type_simclr,n_transformations,percentage)\n",
    "            score_no_reducer=get_no_reducer_score(dataset)                \n",
    "            max_dataset_score = data['score'].max()\n",
    "            \n",
    "            if max_dataset_score > max_score:\n",
    "                max_score = max_dataset_score \n",
    "                max_dataset_score_=data['score'].cummax()\n",
    "                n_transformations_=n_transformations\n",
    "                \n",
    "                \n",
    "            best_scores.append(max_score)        \n",
    "        plt.plot(max_dataset_score_, label=f'Percentage: {percentage}% {n_transformations_}')\n",
    "    \n",
    "    \n",
    "    plt.plot( [score_no_reducer] * len(max_dataset_score_), '--', color='red', label='No reducer')\n",
    "    plt.title(f'{dataset} Best Scores for Different Transformations')\n",
    "    plt.ylabel('Best accuracy')\n",
    "    plt.xlabel('Iterations')\n",
    "    plt.legend()\n",
    "    plt.grid()\n",
    "    plt.show()\n",
    "\n",
    "interact(plot_best_score, dataset=widgets.Dropdown(options=datasets, value=dataset_default), type_simclr=widgets.Dropdown(options=type_simclr_options, value=type_simclr_default))\n"
   ]
  },
  {
   "cell_type": "code",
   "execution_count": 12,
   "id": "e593d6ec-124c-4f7a-ba1c-cb793ae95b39",
   "metadata": {},
   "outputs": [
    {
     "data": {
      "application/vnd.jupyter.widget-view+json": {
       "model_id": "d0d5a422bac947eeb45c6f139effd0e8",
       "version_major": 2,
       "version_minor": 0
      },
      "text/plain": [
       "interactive(children=(Dropdown(description='dataset', index=1, options=('kuhar', 'motionsense', 'uci', 'wisdm'…"
      ]
     },
     "metadata": {},
     "output_type": "display_data"
    },
    {
     "data": {
      "text/plain": [
       "<function __main__.plot_by_percentage(dataset, type_simclr)>"
      ]
     },
     "execution_count": 12,
     "metadata": {},
     "output_type": "execute_result"
    }
   ],
   "source": [
    "def plot_by_percentage(dataset,type_simclr):\n",
    "    colors = ['darkgreen', 'blue', 'orange', 'red', 'lightgreen', 'brown']\n",
    "    for i, n_transformations in enumerate(transformations):\n",
    "        best_scores = []\n",
    "        for percentage in percentages:\n",
    "            try:\n",
    "                data=read_csv(dataset,type_simclr,n_transformations,percentage)\n",
    "                score_no_reducer=get_no_reducer_score(dataset)\n",
    "                best_scores.append(data['score'].max())\n",
    "            except:\n",
    "                best_scores.append(0)\n",
    "        plt.plot(percentages, best_scores, 'x', color=colors[i])\n",
    "        plt.plot(percentages, best_scores, '-', label=f'{n_transformations}T', color=colors[i])\n",
    "        \n",
    "    \n",
    "    plt.plot(percentages, [score_no_reducer]*len(percentages), '--', color=colors[i])\n",
    "    plt.plot(np.NaN, np.NaN, '--', color=[0, 0, 0], label='No reducer' )\n",
    "    \n",
    "    plt.title(f'SIMCLR -{dataset} Hyperparameters exploration in percentage of original dimensionality')\n",
    "    plt.ylabel('Best accuracy')\n",
    "    plt.xlabel('Percentages of original dimensionality')\n",
    "    plt.legend(bbox_to_anchor=(1.0, 0.5), fancybox=True, shadow=True, ncol=1, title='Datasets')\n",
    "    plt.grid()\n",
    "    plt.show()\n",
    "\n",
    "interact(plot_by_percentage, dataset=widgets.Dropdown(options=datasets, value=dataset_default), type_simclr=widgets.Dropdown(options=type_simclr_options, value=type_simclr_default))\n"
   ]
  },
  {
   "cell_type": "code",
   "execution_count": 13,
   "id": "de49b272-040a-4a07-ad3e-6eeca2215b2f",
   "metadata": {},
   "outputs": [
    {
     "data": {
      "application/vnd.jupyter.widget-view+json": {
       "model_id": "13788b5ab33d4ed18b79cd4bfbf4b0e3",
       "version_major": 2,
       "version_minor": 0
      },
      "text/plain": [
       "interactive(children=(Dropdown(description='dataset', index=1, options=('kuhar', 'motionsense', 'uci', 'wisdm'…"
      ]
     },
     "metadata": {},
     "output_type": "display_data"
    },
    {
     "data": {
      "text/plain": [
       "<function __main__.plot_bar(dataset, type_simclr)>"
      ]
     },
     "execution_count": 13,
     "metadata": {},
     "output_type": "execute_result"
    }
   ],
   "source": [
    "import plotly.graph_objects as go\n",
    "import pandas as pd\n",
    "\n",
    "def plot_bar(dataset,type_simclr):\n",
    "    best_scores = []\n",
    "    \n",
    "    for n_transformations in transformations:\n",
    "        scores = []\n",
    "        for percentage in percentages:\n",
    "            try:\n",
    "                data=read_csv(dataset,type_simclr,n_transformations,percentage)\n",
    "                score_no_reducer=get_no_reducer_score(dataset)        \n",
    "                data = data.loc[data['score'] > 0]\n",
    "                scores.append(data['score'].max())\n",
    "                \n",
    "\n",
    "            except:\n",
    "                scores.append(0)\n",
    "        \n",
    "        best_scores.append(scores)\n",
    "    \n",
    "    data = []\n",
    "    for i, p in enumerate(percentages):\n",
    "        scores_for_percentage = [scores[i] for scores in best_scores]\n",
    "        trace = go.Bar(\n",
    "            x=transformations,\n",
    "            y=scores_for_percentage,\n",
    "            name=f'Percentage: {p}%'\n",
    "        )\n",
    "        data.append(trace)\n",
    "    \n",
    "    print(best_scores)\n",
    "    layout = go.Layout(\n",
    "        title='Comparison of Transformations by Percentage',\n",
    "        xaxis=dict(title='Transformation'),\n",
    "        yaxis=dict(title='Best Score'),\n",
    "        barmode='group'  \n",
    "    )\n",
    "    \n",
    "    fig = go.Figure(data=data, layout=layout)\n",
    "    fig.show()\n",
    "\n",
    "interact(plot_bar, dataset=widgets.Dropdown(options=datasets, value=dataset_default), type_simclr=widgets.Dropdown(options=type_simclr_options, value=type_simclr_default))\n"
   ]
  },
  {
   "cell_type": "code",
   "execution_count": 14,
   "id": "200ddffe-8853-47e6-86a1-a81f113e7d61",
   "metadata": {
    "scrolled": true
   },
   "outputs": [
    {
     "data": {
      "application/vnd.jupyter.widget-view+json": {
       "model_id": "c90071d92dee499589c741bf8ba9e2ff",
       "version_major": 2,
       "version_minor": 0
      },
      "text/plain": [
       "interactive(children=(Dropdown(description='dataset', index=1, options=('kuhar', 'motionsense', 'uci', 'wisdm'…"
      ]
     },
     "metadata": {},
     "output_type": "display_data"
    },
    {
     "data": {
      "text/plain": [
       "<function __main__.plot_config_paramenters(dataset, type_simclr, config_val, n_transformations, percentage)>"
      ]
     },
     "execution_count": 14,
     "metadata": {},
     "output_type": "execute_result"
    }
   ],
   "source": [
    "import plotly.express as px\n",
    "import pandas as pd\n",
    "\n",
    "configs=['latent_dim','temperature_head','batch_size']\n",
    "def plot_config_paramenters(dataset,type_simclr,config_val,n_transformations,percentage):\n",
    "    data=read_csv(dataset,type_simclr,n_transformations,percentage)\n",
    "    score_no_reducer=get_no_reducer_score(dataset)  \n",
    "    x=f'config/{config_val}'\n",
    "    y='score'\n",
    "    fig = px.box(data, x=x, y=y)\n",
    "    fig.update_layout(xaxis_title=x,yaxis_title=y,\n",
    "            title=f'{dataset} Box Plot of Scores for {x}(Transformation: {n_transformations}, Percentage: {percentage}%)'\n",
    "                )\n",
    "    fig.show()\n",
    "\n",
    "\n",
    "\n",
    "interact(plot_config_paramenters, dataset=widgets.Dropdown(options=datasets, value=dataset_default), type_simclr=widgets.Dropdown(options=type_simclr_options, value=type_simclr_default),config_val=widgets.Dropdown(options=configs, value=configs[0]),n_transformations=widgets.Dropdown(options=transformations, value=transformations[0]), percentage=widgets.Dropdown(options=percentages, value=percentages[0]))\n"
   ]
  },
  {
   "cell_type": "code",
   "execution_count": 22,
   "id": "d0c32869-7503-4a7e-a90b-4d7e0f0e8dce",
   "metadata": {},
   "outputs": [],
   "source": [
    "def fixed_percentage(\n",
    "        datasets=['kuhar', 'motionsense', 'uci', 'wisdm', 'realworld_thigh', 'realworld_waist'],\n",
    "        models=['simcrl_full','SimCLR_linear','simclr'],\n",
    "        markers = ['d', 's', 'p', 'h', 'o'],\n",
    "        percentages=[25, 50, 75, 100, 200],\n",
    "        colors = ['blue', 'orange', 'lightgreen', 'darkgreen', 'purple'],\n",
    "        y_lim = [0, 1],\n",
    "        n_transformations=3\n",
    "        ):\n",
    "    \"\"\"\n",
    "    Plots the best accuracy for each model and dataset for a fixed percentage of the dataset.\n",
    "    \"\"\"\n",
    "    for dataset in datasets:\n",
    "        with open(f'TV_sb_no_reducer/scores/no_reducer_{dataset}.yaml') as f:\n",
    "            no_reducer_score = yaml.load(f, Loader=yaml.FullLoader)\n",
    "            no_reducer_score = no_reducer_score['score']\n",
    "        \n",
    "        for i, percentage in enumerate(percentages):\n",
    "            # Subplots for each dataset\n",
    "            fig, axs = plt.subplots(1, 2, figsize=(15, 8))\n",
    "            plt.suptitle(f'Up to {percentage}% on {dataset}')\n",
    "            max_length = 0\n",
    "            for j, model in enumerate(models):\n",
    "                try:\n",
    "                    data = read_csv(dataset, model, n_transformations, percentage)\n",
    "\n",
    "\n",
    "                \n",
    "                except:\n",
    "                    data = pd.DataFrame({'Unnamed: 0': [], 'score': []})\n",
    "                max_index = data['Unnamed: 0'].max()\n",
    "                if  max_index > max_length:\n",
    "                    max_length = max_index\n",
    "                axs[0].plot(data['Unnamed: 0'], data['score'], markers[j], color=colors[j], markersize=4, label=model)\n",
    "                axs[1].plot(data['score'].cummax(), color=colors[j], linewidth=2, label=model)\n",
    "            axs[0].plot([0, max_length], [no_reducer_score, no_reducer_score], color='red', linewidth=2, label='No reducer')\n",
    "            axs[0].legend(loc='lower center')\n",
    "            axs[0].set_ylabel(f'Best accuracy')\n",
    "            axs[0].set_xlabel('Iterations')\n",
    "            axs[0].grid()\n",
    "            axs[0].set_ylim(y_lim)\n",
    "            axs[0].set_facecolor('#e6f5c9')\n",
    "            axs[1].plot([0, max_length], [no_reducer_score, no_reducer_score], color='red', linewidth=2, label='No reducer')\n",
    "            axs[1].legend(loc='lower center')\n",
    "            axs[1].set_ylabel(f'Best accuracy')\n",
    "            axs[1].set_xlabel('Iterations')\n",
    "            axs[1].grid()\n",
    "            axs[1].set_ylim(y_lim)\n",
    "            axs[1].set_facecolor('#e6f5c9')\n",
    "\n",
    "            plt.show()"
   ]
  },
  {
   "cell_type": "code",
   "execution_count": 23,
   "id": "7bfb24a7-6f3f-4050-bc90-4d7f86541195",
   "metadata": {},
   "outputs": [
    {
     "name": "stdout",
     "output_type": "stream",
     "text": [
      "experiments/simclr_all/simclr/motionsense/simclr_1T_motionsense_P25/data.csv\n",
      "experiments/simclr_all/simclr/motionsense/simclr_2T_motionsense_P25/data.csv\n",
      "experiments/simclr_all/simclr/motionsense/simclr_3T_motionsense_P25/data.csv\n",
      "experiments/simclr_all/simclr/motionsense/simclr_4T_motionsense_P25/data.csv\n",
      "experiments/simclr_all/simclr/motionsense/simclr_1T_motionsense_P50/data.csv\n",
      "experiments/simclr_all/simclr/motionsense/simclr_2T_motionsense_P50/data.csv\n",
      "experiments/simclr_all/simclr/motionsense/simclr_3T_motionsense_P50/data.csv\n",
      "experiments/simclr_all/simclr/motionsense/simclr_4T_motionsense_P50/data.csv\n",
      "experiments/simclr_all/simclr/motionsense/simclr_1T_motionsense_P75/data.csv\n",
      "experiments/simclr_all/simclr/motionsense/simclr_2T_motionsense_P75/data.csv\n",
      "experiments/simclr_all/simclr/motionsense/simclr_3T_motionsense_P75/data.csv\n",
      "experiments/simclr_all/simclr/motionsense/simclr_4T_motionsense_P75/data.csv\n",
      "experiments/simclr_all/simclr/motionsense/simclr_1T_motionsense_P100/data.csv\n",
      "experiments/simclr_all/simclr/motionsense/simclr_2T_motionsense_P100/data.csv\n",
      "experiments/simclr_all/simclr/motionsense/simclr_3T_motionsense_P100/data.csv\n",
      "experiments/simclr_all/simclr/motionsense/simclr_4T_motionsense_P100/data.csv\n",
      "experiments/simclr_all/simclr/motionsense/simclr_1T_motionsense_P200/data.csv\n",
      "experiments/simclr_all/simclr/motionsense/simclr_2T_motionsense_P200/data.csv\n",
      "experiments/simclr_all/simclr/motionsense/simclr_3T_motionsense_P200/data.csv\n",
      "experiments/simclr_all/simclr/motionsense/simclr_4T_motionsense_P200/data.csv\n",
      "motionsense simclr 25\n",
      "experiments/simclr_all/simclr/motionsense/simclr_1T_motionsense_P25/data.csv\n",
      "experiments/simclr_all/simclr/motionsense/simclr_2T_motionsense_P25/data.csv\n",
      "experiments/simclr_all/simclr/motionsense/simclr_3T_motionsense_P25/data.csv\n",
      "experiments/simclr_all/simclr/motionsense/simclr_4T_motionsense_P25/data.csv\n",
      "experiments/simclr_all/simclr/motionsense/simclr_1T_motionsense_P50/data.csv\n",
      "experiments/simclr_all/simclr/motionsense/simclr_2T_motionsense_P50/data.csv\n",
      "experiments/simclr_all/simclr/motionsense/simclr_3T_motionsense_P50/data.csv\n",
      "experiments/simclr_all/simclr/motionsense/simclr_4T_motionsense_P50/data.csv\n",
      "experiments/simclr_all/simclr/motionsense/simclr_1T_motionsense_P75/data.csv\n",
      "experiments/simclr_all/simclr/motionsense/simclr_2T_motionsense_P75/data.csv\n",
      "experiments/simclr_all/simclr/motionsense/simclr_3T_motionsense_P75/data.csv\n",
      "experiments/simclr_all/simclr/motionsense/simclr_4T_motionsense_P75/data.csv\n",
      "experiments/simclr_all/simclr/motionsense/simclr_1T_motionsense_P100/data.csv\n",
      "experiments/simclr_all/simclr/motionsense/simclr_2T_motionsense_P100/data.csv\n",
      "experiments/simclr_all/simclr/motionsense/simclr_3T_motionsense_P100/data.csv\n",
      "experiments/simclr_all/simclr/motionsense/simclr_4T_motionsense_P100/data.csv\n",
      "experiments/simclr_all/simclr/motionsense/simclr_1T_motionsense_P200/data.csv\n",
      "experiments/simclr_all/simclr/motionsense/simclr_2T_motionsense_P200/data.csv\n",
      "experiments/simclr_all/simclr/motionsense/simclr_3T_motionsense_P200/data.csv\n",
      "experiments/simclr_all/simclr/motionsense/simclr_4T_motionsense_P200/data.csv\n",
      "motionsense simclr 50\n",
      "experiments/simclr_all/simclr/motionsense/simclr_1T_motionsense_P25/data.csv\n",
      "experiments/simclr_all/simclr/motionsense/simclr_2T_motionsense_P25/data.csv\n",
      "experiments/simclr_all/simclr/motionsense/simclr_3T_motionsense_P25/data.csv\n",
      "experiments/simclr_all/simclr/motionsense/simclr_4T_motionsense_P25/data.csv\n",
      "experiments/simclr_all/simclr/motionsense/simclr_1T_motionsense_P50/data.csv\n",
      "experiments/simclr_all/simclr/motionsense/simclr_2T_motionsense_P50/data.csv\n",
      "experiments/simclr_all/simclr/motionsense/simclr_3T_motionsense_P50/data.csv\n",
      "experiments/simclr_all/simclr/motionsense/simclr_4T_motionsense_P50/data.csv\n",
      "experiments/simclr_all/simclr/motionsense/simclr_1T_motionsense_P75/data.csv\n",
      "experiments/simclr_all/simclr/motionsense/simclr_2T_motionsense_P75/data.csv\n",
      "experiments/simclr_all/simclr/motionsense/simclr_3T_motionsense_P75/data.csv\n",
      "experiments/simclr_all/simclr/motionsense/simclr_4T_motionsense_P75/data.csv\n",
      "experiments/simclr_all/simclr/motionsense/simclr_1T_motionsense_P100/data.csv\n",
      "experiments/simclr_all/simclr/motionsense/simclr_2T_motionsense_P100/data.csv\n",
      "experiments/simclr_all/simclr/motionsense/simclr_3T_motionsense_P100/data.csv\n",
      "experiments/simclr_all/simclr/motionsense/simclr_4T_motionsense_P100/data.csv\n",
      "experiments/simclr_all/simclr/motionsense/simclr_1T_motionsense_P200/data.csv\n",
      "experiments/simclr_all/simclr/motionsense/simclr_2T_motionsense_P200/data.csv\n",
      "experiments/simclr_all/simclr/motionsense/simclr_3T_motionsense_P200/data.csv\n",
      "experiments/simclr_all/simclr/motionsense/simclr_4T_motionsense_P200/data.csv\n",
      "motionsense simclr 75\n",
      "experiments/simclr_all/simclr/motionsense/simclr_1T_motionsense_P25/data.csv\n",
      "experiments/simclr_all/simclr/motionsense/simclr_2T_motionsense_P25/data.csv\n",
      "experiments/simclr_all/simclr/motionsense/simclr_3T_motionsense_P25/data.csv\n",
      "experiments/simclr_all/simclr/motionsense/simclr_4T_motionsense_P25/data.csv\n",
      "experiments/simclr_all/simclr/motionsense/simclr_1T_motionsense_P50/data.csv\n",
      "experiments/simclr_all/simclr/motionsense/simclr_2T_motionsense_P50/data.csv\n",
      "experiments/simclr_all/simclr/motionsense/simclr_3T_motionsense_P50/data.csv\n",
      "experiments/simclr_all/simclr/motionsense/simclr_4T_motionsense_P50/data.csv\n",
      "experiments/simclr_all/simclr/motionsense/simclr_1T_motionsense_P75/data.csv\n",
      "experiments/simclr_all/simclr/motionsense/simclr_2T_motionsense_P75/data.csv\n",
      "experiments/simclr_all/simclr/motionsense/simclr_3T_motionsense_P75/data.csv\n",
      "experiments/simclr_all/simclr/motionsense/simclr_4T_motionsense_P75/data.csv\n",
      "experiments/simclr_all/simclr/motionsense/simclr_1T_motionsense_P100/data.csv\n",
      "experiments/simclr_all/simclr/motionsense/simclr_2T_motionsense_P100/data.csv\n",
      "experiments/simclr_all/simclr/motionsense/simclr_3T_motionsense_P100/data.csv\n",
      "experiments/simclr_all/simclr/motionsense/simclr_4T_motionsense_P100/data.csv\n",
      "experiments/simclr_all/simclr/motionsense/simclr_1T_motionsense_P200/data.csv\n",
      "experiments/simclr_all/simclr/motionsense/simclr_2T_motionsense_P200/data.csv\n",
      "experiments/simclr_all/simclr/motionsense/simclr_3T_motionsense_P200/data.csv\n",
      "experiments/simclr_all/simclr/motionsense/simclr_4T_motionsense_P200/data.csv\n",
      "motionsense simclr 100\n",
      "experiments/simclr_all/simclr/motionsense/simclr_1T_motionsense_P25/data.csv\n",
      "experiments/simclr_all/simclr/motionsense/simclr_2T_motionsense_P25/data.csv\n",
      "experiments/simclr_all/simclr/motionsense/simclr_3T_motionsense_P25/data.csv\n",
      "experiments/simclr_all/simclr/motionsense/simclr_4T_motionsense_P25/data.csv\n",
      "experiments/simclr_all/simclr/motionsense/simclr_1T_motionsense_P50/data.csv\n",
      "experiments/simclr_all/simclr/motionsense/simclr_2T_motionsense_P50/data.csv\n",
      "experiments/simclr_all/simclr/motionsense/simclr_3T_motionsense_P50/data.csv\n",
      "experiments/simclr_all/simclr/motionsense/simclr_4T_motionsense_P50/data.csv\n",
      "experiments/simclr_all/simclr/motionsense/simclr_1T_motionsense_P75/data.csv\n",
      "experiments/simclr_all/simclr/motionsense/simclr_2T_motionsense_P75/data.csv\n",
      "experiments/simclr_all/simclr/motionsense/simclr_3T_motionsense_P75/data.csv\n",
      "experiments/simclr_all/simclr/motionsense/simclr_4T_motionsense_P75/data.csv\n",
      "experiments/simclr_all/simclr/motionsense/simclr_1T_motionsense_P100/data.csv\n",
      "experiments/simclr_all/simclr/motionsense/simclr_2T_motionsense_P100/data.csv\n",
      "experiments/simclr_all/simclr/motionsense/simclr_3T_motionsense_P100/data.csv\n",
      "experiments/simclr_all/simclr/motionsense/simclr_4T_motionsense_P100/data.csv\n",
      "experiments/simclr_all/simclr/motionsense/simclr_1T_motionsense_P200/data.csv\n",
      "experiments/simclr_all/simclr/motionsense/simclr_2T_motionsense_P200/data.csv\n",
      "experiments/simclr_all/simclr/motionsense/simclr_3T_motionsense_P200/data.csv\n",
      "experiments/simclr_all/simclr/motionsense/simclr_4T_motionsense_P200/data.csv\n",
      "motionsense simclr 200\n"
     ]
    },
    {
     "data": {
      "application/vnd.plotly.v1+json": {
       "config": {
        "plotlyServerURL": "https://plot.ly"
       },
       "data": [
        {
         "hovertemplate": "type_simclr=simclr_full<br>Percentages of original dimensionality=%{x}<br>Ratio: (Best accuracy)/(No reducer)=%{y}<extra></extra>",
         "legendgroup": "simclr_full",
         "line": {
          "color": "#636efa",
          "dash": "solid"
         },
         "marker": {
          "symbol": "circle"
         },
         "mode": "markers+lines",
         "name": "simclr_full",
         "orientation": "v",
         "showlegend": true,
         "type": "scatter",
         "x": [
          25,
          50,
          75,
          100,
          200
         ],
         "xaxis": "x",
         "y": [
          1.12299303241442,
          1.1102696152681006,
          1.1157225083308089,
          1.1354135110572554,
          1.119963647379582
         ],
         "yaxis": "y"
        },
        {
         "hovertemplate": "type_simclr=simclr_linear<br>Percentages of original dimensionality=%{x}<br>Ratio: (Best accuracy)/(No reducer)=%{y}<extra></extra>",
         "legendgroup": "simclr_linear",
         "line": {
          "color": "#EF553B",
          "dash": "solid"
         },
         "marker": {
          "symbol": "circle"
         },
         "mode": "markers+lines",
         "name": "simclr_linear",
         "orientation": "v",
         "showlegend": true,
         "type": "scatter",
         "x": [
          25,
          50,
          75,
          100,
          200
         ],
         "xaxis": "x",
         "y": [
          1.1263253559527415,
          1.1220842169039686,
          1.136019388064223,
          1.136019388064223,
          1.1320811875189336
         ],
         "yaxis": "y"
        },
        {
         "hovertemplate": "type_simclr=simclr<br>Percentages of original dimensionality=%{x}<br>Ratio: (Best accuracy)/(No reducer)=%{y}<extra></extra>",
         "legendgroup": "simclr",
         "line": {
          "color": "#00cc96",
          "dash": "solid"
         },
         "marker": {
          "symbol": "circle"
         },
         "mode": "markers+lines",
         "name": "simclr",
         "orientation": "v",
         "showlegend": true,
         "type": "scatter",
         "x": [
          25,
          50,
          75,
          100,
          200
         ],
         "xaxis": "x",
         "y": [
          0,
          0,
          0,
          0,
          0
         ],
         "yaxis": "y"
        }
       ],
       "layout": {
        "height": 600,
        "legend": {
         "title": {
          "text": "type_simclr"
         },
         "tracegroupgap": 0
        },
        "template": {
         "data": {
          "bar": [
           {
            "error_x": {
             "color": "#2a3f5f"
            },
            "error_y": {
             "color": "#2a3f5f"
            },
            "marker": {
             "line": {
              "color": "#E5ECF6",
              "width": 0.5
             },
             "pattern": {
              "fillmode": "overlay",
              "size": 10,
              "solidity": 0.2
             }
            },
            "type": "bar"
           }
          ],
          "barpolar": [
           {
            "marker": {
             "line": {
              "color": "#E5ECF6",
              "width": 0.5
             },
             "pattern": {
              "fillmode": "overlay",
              "size": 10,
              "solidity": 0.2
             }
            },
            "type": "barpolar"
           }
          ],
          "carpet": [
           {
            "aaxis": {
             "endlinecolor": "#2a3f5f",
             "gridcolor": "white",
             "linecolor": "white",
             "minorgridcolor": "white",
             "startlinecolor": "#2a3f5f"
            },
            "baxis": {
             "endlinecolor": "#2a3f5f",
             "gridcolor": "white",
             "linecolor": "white",
             "minorgridcolor": "white",
             "startlinecolor": "#2a3f5f"
            },
            "type": "carpet"
           }
          ],
          "choropleth": [
           {
            "colorbar": {
             "outlinewidth": 0,
             "ticks": ""
            },
            "type": "choropleth"
           }
          ],
          "contour": [
           {
            "colorbar": {
             "outlinewidth": 0,
             "ticks": ""
            },
            "colorscale": [
             [
              0,
              "#0d0887"
             ],
             [
              0.1111111111111111,
              "#46039f"
             ],
             [
              0.2222222222222222,
              "#7201a8"
             ],
             [
              0.3333333333333333,
              "#9c179e"
             ],
             [
              0.4444444444444444,
              "#bd3786"
             ],
             [
              0.5555555555555556,
              "#d8576b"
             ],
             [
              0.6666666666666666,
              "#ed7953"
             ],
             [
              0.7777777777777778,
              "#fb9f3a"
             ],
             [
              0.8888888888888888,
              "#fdca26"
             ],
             [
              1,
              "#f0f921"
             ]
            ],
            "type": "contour"
           }
          ],
          "contourcarpet": [
           {
            "colorbar": {
             "outlinewidth": 0,
             "ticks": ""
            },
            "type": "contourcarpet"
           }
          ],
          "heatmap": [
           {
            "colorbar": {
             "outlinewidth": 0,
             "ticks": ""
            },
            "colorscale": [
             [
              0,
              "#0d0887"
             ],
             [
              0.1111111111111111,
              "#46039f"
             ],
             [
              0.2222222222222222,
              "#7201a8"
             ],
             [
              0.3333333333333333,
              "#9c179e"
             ],
             [
              0.4444444444444444,
              "#bd3786"
             ],
             [
              0.5555555555555556,
              "#d8576b"
             ],
             [
              0.6666666666666666,
              "#ed7953"
             ],
             [
              0.7777777777777778,
              "#fb9f3a"
             ],
             [
              0.8888888888888888,
              "#fdca26"
             ],
             [
              1,
              "#f0f921"
             ]
            ],
            "type": "heatmap"
           }
          ],
          "heatmapgl": [
           {
            "colorbar": {
             "outlinewidth": 0,
             "ticks": ""
            },
            "colorscale": [
             [
              0,
              "#0d0887"
             ],
             [
              0.1111111111111111,
              "#46039f"
             ],
             [
              0.2222222222222222,
              "#7201a8"
             ],
             [
              0.3333333333333333,
              "#9c179e"
             ],
             [
              0.4444444444444444,
              "#bd3786"
             ],
             [
              0.5555555555555556,
              "#d8576b"
             ],
             [
              0.6666666666666666,
              "#ed7953"
             ],
             [
              0.7777777777777778,
              "#fb9f3a"
             ],
             [
              0.8888888888888888,
              "#fdca26"
             ],
             [
              1,
              "#f0f921"
             ]
            ],
            "type": "heatmapgl"
           }
          ],
          "histogram": [
           {
            "marker": {
             "pattern": {
              "fillmode": "overlay",
              "size": 10,
              "solidity": 0.2
             }
            },
            "type": "histogram"
           }
          ],
          "histogram2d": [
           {
            "colorbar": {
             "outlinewidth": 0,
             "ticks": ""
            },
            "colorscale": [
             [
              0,
              "#0d0887"
             ],
             [
              0.1111111111111111,
              "#46039f"
             ],
             [
              0.2222222222222222,
              "#7201a8"
             ],
             [
              0.3333333333333333,
              "#9c179e"
             ],
             [
              0.4444444444444444,
              "#bd3786"
             ],
             [
              0.5555555555555556,
              "#d8576b"
             ],
             [
              0.6666666666666666,
              "#ed7953"
             ],
             [
              0.7777777777777778,
              "#fb9f3a"
             ],
             [
              0.8888888888888888,
              "#fdca26"
             ],
             [
              1,
              "#f0f921"
             ]
            ],
            "type": "histogram2d"
           }
          ],
          "histogram2dcontour": [
           {
            "colorbar": {
             "outlinewidth": 0,
             "ticks": ""
            },
            "colorscale": [
             [
              0,
              "#0d0887"
             ],
             [
              0.1111111111111111,
              "#46039f"
             ],
             [
              0.2222222222222222,
              "#7201a8"
             ],
             [
              0.3333333333333333,
              "#9c179e"
             ],
             [
              0.4444444444444444,
              "#bd3786"
             ],
             [
              0.5555555555555556,
              "#d8576b"
             ],
             [
              0.6666666666666666,
              "#ed7953"
             ],
             [
              0.7777777777777778,
              "#fb9f3a"
             ],
             [
              0.8888888888888888,
              "#fdca26"
             ],
             [
              1,
              "#f0f921"
             ]
            ],
            "type": "histogram2dcontour"
           }
          ],
          "mesh3d": [
           {
            "colorbar": {
             "outlinewidth": 0,
             "ticks": ""
            },
            "type": "mesh3d"
           }
          ],
          "parcoords": [
           {
            "line": {
             "colorbar": {
              "outlinewidth": 0,
              "ticks": ""
             }
            },
            "type": "parcoords"
           }
          ],
          "pie": [
           {
            "automargin": true,
            "type": "pie"
           }
          ],
          "scatter": [
           {
            "fillpattern": {
             "fillmode": "overlay",
             "size": 10,
             "solidity": 0.2
            },
            "type": "scatter"
           }
          ],
          "scatter3d": [
           {
            "line": {
             "colorbar": {
              "outlinewidth": 0,
              "ticks": ""
             }
            },
            "marker": {
             "colorbar": {
              "outlinewidth": 0,
              "ticks": ""
             }
            },
            "type": "scatter3d"
           }
          ],
          "scattercarpet": [
           {
            "marker": {
             "colorbar": {
              "outlinewidth": 0,
              "ticks": ""
             }
            },
            "type": "scattercarpet"
           }
          ],
          "scattergeo": [
           {
            "marker": {
             "colorbar": {
              "outlinewidth": 0,
              "ticks": ""
             }
            },
            "type": "scattergeo"
           }
          ],
          "scattergl": [
           {
            "marker": {
             "colorbar": {
              "outlinewidth": 0,
              "ticks": ""
             }
            },
            "type": "scattergl"
           }
          ],
          "scattermapbox": [
           {
            "marker": {
             "colorbar": {
              "outlinewidth": 0,
              "ticks": ""
             }
            },
            "type": "scattermapbox"
           }
          ],
          "scatterpolar": [
           {
            "marker": {
             "colorbar": {
              "outlinewidth": 0,
              "ticks": ""
             }
            },
            "type": "scatterpolar"
           }
          ],
          "scatterpolargl": [
           {
            "marker": {
             "colorbar": {
              "outlinewidth": 0,
              "ticks": ""
             }
            },
            "type": "scatterpolargl"
           }
          ],
          "scatterternary": [
           {
            "marker": {
             "colorbar": {
              "outlinewidth": 0,
              "ticks": ""
             }
            },
            "type": "scatterternary"
           }
          ],
          "surface": [
           {
            "colorbar": {
             "outlinewidth": 0,
             "ticks": ""
            },
            "colorscale": [
             [
              0,
              "#0d0887"
             ],
             [
              0.1111111111111111,
              "#46039f"
             ],
             [
              0.2222222222222222,
              "#7201a8"
             ],
             [
              0.3333333333333333,
              "#9c179e"
             ],
             [
              0.4444444444444444,
              "#bd3786"
             ],
             [
              0.5555555555555556,
              "#d8576b"
             ],
             [
              0.6666666666666666,
              "#ed7953"
             ],
             [
              0.7777777777777778,
              "#fb9f3a"
             ],
             [
              0.8888888888888888,
              "#fdca26"
             ],
             [
              1,
              "#f0f921"
             ]
            ],
            "type": "surface"
           }
          ],
          "table": [
           {
            "cells": {
             "fill": {
              "color": "#EBF0F8"
             },
             "line": {
              "color": "white"
             }
            },
            "header": {
             "fill": {
              "color": "#C8D4E3"
             },
             "line": {
              "color": "white"
             }
            },
            "type": "table"
           }
          ]
         },
         "layout": {
          "annotationdefaults": {
           "arrowcolor": "#2a3f5f",
           "arrowhead": 0,
           "arrowwidth": 1
          },
          "autotypenumbers": "strict",
          "coloraxis": {
           "colorbar": {
            "outlinewidth": 0,
            "ticks": ""
           }
          },
          "colorscale": {
           "diverging": [
            [
             0,
             "#8e0152"
            ],
            [
             0.1,
             "#c51b7d"
            ],
            [
             0.2,
             "#de77ae"
            ],
            [
             0.3,
             "#f1b6da"
            ],
            [
             0.4,
             "#fde0ef"
            ],
            [
             0.5,
             "#f7f7f7"
            ],
            [
             0.6,
             "#e6f5d0"
            ],
            [
             0.7,
             "#b8e186"
            ],
            [
             0.8,
             "#7fbc41"
            ],
            [
             0.9,
             "#4d9221"
            ],
            [
             1,
             "#276419"
            ]
           ],
           "sequential": [
            [
             0,
             "#0d0887"
            ],
            [
             0.1111111111111111,
             "#46039f"
            ],
            [
             0.2222222222222222,
             "#7201a8"
            ],
            [
             0.3333333333333333,
             "#9c179e"
            ],
            [
             0.4444444444444444,
             "#bd3786"
            ],
            [
             0.5555555555555556,
             "#d8576b"
            ],
            [
             0.6666666666666666,
             "#ed7953"
            ],
            [
             0.7777777777777778,
             "#fb9f3a"
            ],
            [
             0.8888888888888888,
             "#fdca26"
            ],
            [
             1,
             "#f0f921"
            ]
           ],
           "sequentialminus": [
            [
             0,
             "#0d0887"
            ],
            [
             0.1111111111111111,
             "#46039f"
            ],
            [
             0.2222222222222222,
             "#7201a8"
            ],
            [
             0.3333333333333333,
             "#9c179e"
            ],
            [
             0.4444444444444444,
             "#bd3786"
            ],
            [
             0.5555555555555556,
             "#d8576b"
            ],
            [
             0.6666666666666666,
             "#ed7953"
            ],
            [
             0.7777777777777778,
             "#fb9f3a"
            ],
            [
             0.8888888888888888,
             "#fdca26"
            ],
            [
             1,
             "#f0f921"
            ]
           ]
          },
          "colorway": [
           "#636efa",
           "#EF553B",
           "#00cc96",
           "#ab63fa",
           "#FFA15A",
           "#19d3f3",
           "#FF6692",
           "#B6E880",
           "#FF97FF",
           "#FECB52"
          ],
          "font": {
           "color": "#2a3f5f"
          },
          "geo": {
           "bgcolor": "white",
           "lakecolor": "white",
           "landcolor": "#E5ECF6",
           "showlakes": true,
           "showland": true,
           "subunitcolor": "white"
          },
          "hoverlabel": {
           "align": "left"
          },
          "hovermode": "closest",
          "mapbox": {
           "style": "light"
          },
          "paper_bgcolor": "white",
          "plot_bgcolor": "#E5ECF6",
          "polar": {
           "angularaxis": {
            "gridcolor": "white",
            "linecolor": "white",
            "ticks": ""
           },
           "bgcolor": "#E5ECF6",
           "radialaxis": {
            "gridcolor": "white",
            "linecolor": "white",
            "ticks": ""
           }
          },
          "scene": {
           "xaxis": {
            "backgroundcolor": "#E5ECF6",
            "gridcolor": "white",
            "gridwidth": 2,
            "linecolor": "white",
            "showbackground": true,
            "ticks": "",
            "zerolinecolor": "white"
           },
           "yaxis": {
            "backgroundcolor": "#E5ECF6",
            "gridcolor": "white",
            "gridwidth": 2,
            "linecolor": "white",
            "showbackground": true,
            "ticks": "",
            "zerolinecolor": "white"
           },
           "zaxis": {
            "backgroundcolor": "#E5ECF6",
            "gridcolor": "white",
            "gridwidth": 2,
            "linecolor": "white",
            "showbackground": true,
            "ticks": "",
            "zerolinecolor": "white"
           }
          },
          "shapedefaults": {
           "line": {
            "color": "#2a3f5f"
           }
          },
          "ternary": {
           "aaxis": {
            "gridcolor": "white",
            "linecolor": "white",
            "ticks": ""
           },
           "baxis": {
            "gridcolor": "white",
            "linecolor": "white",
            "ticks": ""
           },
           "bgcolor": "#E5ECF6",
           "caxis": {
            "gridcolor": "white",
            "linecolor": "white",
            "ticks": ""
           }
          },
          "title": {
           "x": 0.05
          },
          "xaxis": {
           "automargin": true,
           "gridcolor": "white",
           "linecolor": "white",
           "ticks": "",
           "title": {
            "standoff": 15
           },
           "zerolinecolor": "white",
           "zerolinewidth": 2
          },
          "yaxis": {
           "automargin": true,
           "gridcolor": "white",
           "linecolor": "white",
           "ticks": "",
           "title": {
            "standoff": 15
           },
           "zerolinecolor": "white",
           "zerolinewidth": 2
          }
         }
        },
        "title": {
         "text": "motionsense simclr - Hyperparameters exploration"
        },
        "width": 800,
        "xaxis": {
         "anchor": "y",
         "autorange": true,
         "domain": [
          0,
          1
         ],
         "range": [
          13.867942768754832,
          211.13205723124517
         ],
         "title": {
          "text": "Percentages of original dimensionality"
         },
         "type": "linear"
        },
        "yaxis": {
         "anchor": "x",
         "autorange": true,
         "domain": [
          0,
          1
         ],
         "range": [
          -0.07588793483020113,
          1.2119073228944242
         ],
         "title": {
          "text": "Ratio: (Best accuracy)/(No reducer)"
         },
         "type": "linear"
        }
       }
      },
      "image/png": "[encoded data removed]",
      "text/html": [
       "<div>                            <div id=\"4a2c67d6-f507-42b1-a8e0-134f422282a7\" class=\"plotly-graph-div\" style=\"height:600px; width:800px;\"></div>            <script type=\"text/javascript\">                require([\"plotly\"], function(Plotly) {                    window.PLOTLYENV=window.PLOTLYENV || {};                                    if (document.getElementById(\"4a2c67d6-f507-42b1-a8e0-134f422282a7\")) {                    Plotly.newPlot(                        \"4a2c67d6-f507-42b1-a8e0-134f422282a7\",                        [{\"hovertemplate\":\"type_simclr=simclr_full\\u003cbr\\u003ePercentages of original dimensionality=%{x}\\u003cbr\\u003eRatio: (Best accuracy)\\u002f(No reducer)=%{y}\\u003cextra\\u003e\\u003c\\u002fextra\\u003e\",\"legendgroup\":\"simclr_full\",\"line\":{\"color\":\"#636efa\",\"dash\":\"solid\"},\"marker\":{\"symbol\":\"circle\"},\"mode\":\"markers+lines\",\"name\":\"simclr_full\",\"orientation\":\"v\",\"showlegend\":true,\"x\":[25,50,75,100,200],\"xaxis\":\"x\",\"y\":[1.12299303241442,1.1102696152681006,1.1157225083308089,1.1354135110572554,1.119963647379582],\"yaxis\":\"y\",\"type\":\"scatter\"},{\"hovertemplate\":\"type_simclr=simclr_linear\\u003cbr\\u003ePercentages of original dimensionality=%{x}\\u003cbr\\u003eRatio: (Best accuracy)\\u002f(No reducer)=%{y}\\u003cextra\\u003e\\u003c\\u002fextra\\u003e\",\"legendgroup\":\"simclr_linear\",\"line\":{\"color\":\"#EF553B\",\"dash\":\"solid\"},\"marker\":{\"symbol\":\"circle\"},\"mode\":\"markers+lines\",\"name\":\"simclr_linear\",\"orientation\":\"v\",\"showlegend\":true,\"x\":[25,50,75,100,200],\"xaxis\":\"x\",\"y\":[1.1263253559527415,1.1220842169039686,1.136019388064223,1.136019388064223,1.1320811875189336],\"yaxis\":\"y\",\"type\":\"scatter\"},{\"hovertemplate\":\"type_simclr=simclr\\u003cbr\\u003ePercentages of original dimensionality=%{x}\\u003cbr\\u003eRatio: (Best accuracy)\\u002f(No reducer)=%{y}\\u003cextra\\u003e\\u003c\\u002fextra\\u003e\",\"legendgroup\":\"simclr\",\"line\":{\"color\":\"#00cc96\",\"dash\":\"solid\"},\"marker\":{\"symbol\":\"circle\"},\"mode\":\"markers+lines\",\"name\":\"simclr\",\"orientation\":\"v\",\"showlegend\":true,\"x\":[25,50,75,100,200],\"xaxis\":\"x\",\"y\":[0.0,0.0,0.0,0.0,0.0],\"yaxis\":\"y\",\"type\":\"scatter\"}],                        {\"template\":{\"data\":{\"histogram2dcontour\":[{\"type\":\"histogram2dcontour\",\"colorbar\":{\"outlinewidth\":0,\"ticks\":\"\"},\"colorscale\":[[0.0,\"#0d0887\"],[0.1111111111111111,\"#46039f\"],[0.2222222222222222,\"#7201a8\"],[0.3333333333333333,\"#9c179e\"],[0.4444444444444444,\"#bd3786\"],[0.5555555555555556,\"#d8576b\"],[0.6666666666666666,\"#ed7953\"],[0.7777777777777778,\"#fb9f3a\"],[0.8888888888888888,\"#fdca26\"],[1.0,\"#f0f921\"]]}],\"choropleth\":[{\"type\":\"choropleth\",\"colorbar\":{\"outlinewidth\":0,\"ticks\":\"\"}}],\"histogram2d\":[{\"type\":\"histogram2d\",\"colorbar\":{\"outlinewidth\":0,\"ticks\":\"\"},\"colorscale\":[[0.0,\"#0d0887\"],[0.1111111111111111,\"#46039f\"],[0.2222222222222222,\"#7201a8\"],[0.3333333333333333,\"#9c179e\"],[0.4444444444444444,\"#bd3786\"],[0.5555555555555556,\"#d8576b\"],[0.6666666666666666,\"#ed7953\"],[0.7777777777777778,\"#fb9f3a\"],[0.8888888888888888,\"#fdca26\"],[1.0,\"#f0f921\"]]}],\"heatmap\":[{\"type\":\"heatmap\",\"colorbar\":{\"outlinewidth\":0,\"ticks\":\"\"},\"colorscale\":[[0.0,\"#0d0887\"],[0.1111111111111111,\"#46039f\"],[0.2222222222222222,\"#7201a8\"],[0.3333333333333333,\"#9c179e\"],[0.4444444444444444,\"#bd3786\"],[0.5555555555555556,\"#d8576b\"],[0.6666666666666666,\"#ed7953\"],[0.7777777777777778,\"#fb9f3a\"],[0.8888888888888888,\"#fdca26\"],[1.0,\"#f0f921\"]]}],\"heatmapgl\":[{\"type\":\"heatmapgl\",\"colorbar\":{\"outlinewidth\":0,\"ticks\":\"\"},\"colorscale\":[[0.0,\"#0d0887\"],[0.1111111111111111,\"#46039f\"],[0.2222222222222222,\"#7201a8\"],[0.3333333333333333,\"#9c179e\"],[0.4444444444444444,\"#bd3786\"],[0.5555555555555556,\"#d8576b\"],[0.6666666666666666,\"#ed7953\"],[0.7777777777777778,\"#fb9f3a\"],[0.8888888888888888,\"#fdca26\"],[1.0,\"#f0f921\"]]}],\"contourcarpet\":[{\"type\":\"contourcarpet\",\"colorbar\":{\"outlinewidth\":0,\"ticks\":\"\"}}],\"contour\":[{\"type\":\"contour\",\"colorbar\":{\"outlinewidth\":0,\"ticks\":\"\"},\"colorscale\":[[0.0,\"#0d0887\"],[0.1111111111111111,\"#46039f\"],[0.2222222222222222,\"#7201a8\"],[0.3333333333333333,\"#9c179e\"],[0.4444444444444444,\"#bd3786\"],[0.5555555555555556,\"#d8576b\"],[0.6666666666666666,\"#ed7953\"],[0.7777777777777778,\"#fb9f3a\"],[0.8888888888888888,\"#fdca26\"],[1.0,\"#f0f921\"]]}],\"surface\":[{\"type\":\"surface\",\"colorbar\":{\"outlinewidth\":0,\"ticks\":\"\"},\"colorscale\":[[0.0,\"#0d0887\"],[0.1111111111111111,\"#46039f\"],[0.2222222222222222,\"#7201a8\"],[0.3333333333333333,\"#9c179e\"],[0.4444444444444444,\"#bd3786\"],[0.5555555555555556,\"#d8576b\"],[0.6666666666666666,\"#ed7953\"],[0.7777777777777778,\"#fb9f3a\"],[0.8888888888888888,\"#fdca26\"],[1.0,\"#f0f921\"]]}],\"mesh3d\":[{\"type\":\"mesh3d\",\"colorbar\":{\"outlinewidth\":0,\"ticks\":\"\"}}],\"scatter\":[{\"fillpattern\":{\"fillmode\":\"overlay\",\"size\":10,\"solidity\":0.2},\"type\":\"scatter\"}],\"parcoords\":[{\"type\":\"parcoords\",\"line\":{\"colorbar\":{\"outlinewidth\":0,\"ticks\":\"\"}}}],\"scatterpolargl\":[{\"type\":\"scatterpolargl\",\"marker\":{\"colorbar\":{\"outlinewidth\":0,\"ticks\":\"\"}}}],\"bar\":[{\"error_x\":{\"color\":\"#2a3f5f\"},\"error_y\":{\"color\":\"#2a3f5f\"},\"marker\":{\"line\":{\"color\":\"#E5ECF6\",\"width\":0.5},\"pattern\":{\"fillmode\":\"overlay\",\"size\":10,\"solidity\":0.2}},\"type\":\"bar\"}],\"scattergeo\":[{\"type\":\"scattergeo\",\"marker\":{\"colorbar\":{\"outlinewidth\":0,\"ticks\":\"\"}}}],\"scatterpolar\":[{\"type\":\"scatterpolar\",\"marker\":{\"colorbar\":{\"outlinewidth\":0,\"ticks\":\"\"}}}],\"histogram\":[{\"marker\":{\"pattern\":{\"fillmode\":\"overlay\",\"size\":10,\"solidity\":0.2}},\"type\":\"histogram\"}],\"scattergl\":[{\"type\":\"scattergl\",\"marker\":{\"colorbar\":{\"outlinewidth\":0,\"ticks\":\"\"}}}],\"scatter3d\":[{\"type\":\"scatter3d\",\"line\":{\"colorbar\":{\"outlinewidth\":0,\"ticks\":\"\"}},\"marker\":{\"colorbar\":{\"outlinewidth\":0,\"ticks\":\"\"}}}],\"scattermapbox\":[{\"type\":\"scattermapbox\",\"marker\":{\"colorbar\":{\"outlinewidth\":0,\"ticks\":\"\"}}}],\"scatterternary\":[{\"type\":\"scatterternary\",\"marker\":{\"colorbar\":{\"outlinewidth\":0,\"ticks\":\"\"}}}],\"scattercarpet\":[{\"type\":\"scattercarpet\",\"marker\":{\"colorbar\":{\"outlinewidth\":0,\"ticks\":\"\"}}}],\"carpet\":[{\"aaxis\":{\"endlinecolor\":\"#2a3f5f\",\"gridcolor\":\"white\",\"linecolor\":\"white\",\"minorgridcolor\":\"white\",\"startlinecolor\":\"#2a3f5f\"},\"baxis\":{\"endlinecolor\":\"#2a3f5f\",\"gridcolor\":\"white\",\"linecolor\":\"white\",\"minorgridcolor\":\"white\",\"startlinecolor\":\"#2a3f5f\"},\"type\":\"carpet\"}],\"table\":[{\"cells\":{\"fill\":{\"color\":\"#EBF0F8\"},\"line\":{\"color\":\"white\"}},\"header\":{\"fill\":{\"color\":\"#C8D4E3\"},\"line\":{\"color\":\"white\"}},\"type\":\"table\"}],\"barpolar\":[{\"marker\":{\"line\":{\"color\":\"#E5ECF6\",\"width\":0.5},\"pattern\":{\"fillmode\":\"overlay\",\"size\":10,\"solidity\":0.2}},\"type\":\"barpolar\"}],\"pie\":[{\"automargin\":true,\"type\":\"pie\"}]},\"layout\":{\"autotypenumbers\":\"strict\",\"colorway\":[\"#636efa\",\"#EF553B\",\"#00cc96\",\"#ab63fa\",\"#FFA15A\",\"#19d3f3\",\"#FF6692\",\"#B6E880\",\"#FF97FF\",\"#FECB52\"],\"font\":{\"color\":\"#2a3f5f\"},\"hovermode\":\"closest\",\"hoverlabel\":{\"align\":\"left\"},\"paper_bgcolor\":\"white\",\"plot_bgcolor\":\"#E5ECF6\",\"polar\":{\"bgcolor\":\"#E5ECF6\",\"angularaxis\":{\"gridcolor\":\"white\",\"linecolor\":\"white\",\"ticks\":\"\"},\"radialaxis\":{\"gridcolor\":\"white\",\"linecolor\":\"white\",\"ticks\":\"\"}},\"ternary\":{\"bgcolor\":\"#E5ECF6\",\"aaxis\":{\"gridcolor\":\"white\",\"linecolor\":\"white\",\"ticks\":\"\"},\"baxis\":{\"gridcolor\":\"white\",\"linecolor\":\"white\",\"ticks\":\"\"},\"caxis\":{\"gridcolor\":\"white\",\"linecolor\":\"white\",\"ticks\":\"\"}},\"coloraxis\":{\"colorbar\":{\"outlinewidth\":0,\"ticks\":\"\"}},\"colorscale\":{\"sequential\":[[0.0,\"#0d0887\"],[0.1111111111111111,\"#46039f\"],[0.2222222222222222,\"#7201a8\"],[0.3333333333333333,\"#9c179e\"],[0.4444444444444444,\"#bd3786\"],[0.5555555555555556,\"#d8576b\"],[0.6666666666666666,\"#ed7953\"],[0.7777777777777778,\"#fb9f3a\"],[0.8888888888888888,\"#fdca26\"],[1.0,\"#f0f921\"]],\"sequentialminus\":[[0.0,\"#0d0887\"],[0.1111111111111111,\"#46039f\"],[0.2222222222222222,\"#7201a8\"],[0.3333333333333333,\"#9c179e\"],[0.4444444444444444,\"#bd3786\"],[0.5555555555555556,\"#d8576b\"],[0.6666666666666666,\"#ed7953\"],[0.7777777777777778,\"#fb9f3a\"],[0.8888888888888888,\"#fdca26\"],[1.0,\"#f0f921\"]],\"diverging\":[[0,\"#8e0152\"],[0.1,\"#c51b7d\"],[0.2,\"#de77ae\"],[0.3,\"#f1b6da\"],[0.4,\"#fde0ef\"],[0.5,\"#f7f7f7\"],[0.6,\"#e6f5d0\"],[0.7,\"#b8e186\"],[0.8,\"#7fbc41\"],[0.9,\"#4d9221\"],[1,\"#276419\"]]},\"xaxis\":{\"gridcolor\":\"white\",\"linecolor\":\"white\",\"ticks\":\"\",\"title\":{\"standoff\":15},\"zerolinecolor\":\"white\",\"automargin\":true,\"zerolinewidth\":2},\"yaxis\":{\"gridcolor\":\"white\",\"linecolor\":\"white\",\"ticks\":\"\",\"title\":{\"standoff\":15},\"zerolinecolor\":\"white\",\"automargin\":true,\"zerolinewidth\":2},\"scene\":{\"xaxis\":{\"backgroundcolor\":\"#E5ECF6\",\"gridcolor\":\"white\",\"linecolor\":\"white\",\"showbackground\":true,\"ticks\":\"\",\"zerolinecolor\":\"white\",\"gridwidth\":2},\"yaxis\":{\"backgroundcolor\":\"#E5ECF6\",\"gridcolor\":\"white\",\"linecolor\":\"white\",\"showbackground\":true,\"ticks\":\"\",\"zerolinecolor\":\"white\",\"gridwidth\":2},\"zaxis\":{\"backgroundcolor\":\"#E5ECF6\",\"gridcolor\":\"white\",\"linecolor\":\"white\",\"showbackground\":true,\"ticks\":\"\",\"zerolinecolor\":\"white\",\"gridwidth\":2}},\"shapedefaults\":{\"line\":{\"color\":\"#2a3f5f\"}},\"annotationdefaults\":{\"arrowcolor\":\"#2a3f5f\",\"arrowhead\":0,\"arrowwidth\":1},\"geo\":{\"bgcolor\":\"white\",\"landcolor\":\"#E5ECF6\",\"subunitcolor\":\"white\",\"showland\":true,\"showlakes\":true,\"lakecolor\":\"white\"},\"title\":{\"x\":0.05},\"mapbox\":{\"style\":\"light\"}}},\"xaxis\":{\"anchor\":\"y\",\"domain\":[0.0,1.0],\"title\":{\"text\":\"Percentages of original dimensionality\"}},\"yaxis\":{\"anchor\":\"x\",\"domain\":[0.0,1.0],\"title\":{\"text\":\"Ratio: (Best accuracy)\\u002f(No reducer)\"}},\"legend\":{\"title\":{\"text\":\"type_simclr\"},\"tracegroupgap\":0},\"title\":{\"text\":\"motionsense simclr - Hyperparameters exploration\"},\"height\":600,\"width\":800},                        {\"responsive\": true}                    ).then(function(){\n",
       "                            \n",
       "var gd = document.getElementById('4a2c67d6-f507-42b1-a8e0-134f422282a7');\n",
       "var x = new MutationObserver(function (mutations, observer) {{\n",
       "        var display = window.getComputedStyle(gd).display;\n",
       "        if (!display || display === 'none') {{\n",
       "            console.log([gd, 'removed!']);\n",
       "            Plotly.purge(gd);\n",
       "            observer.disconnect();\n",
       "        }}\n",
       "}});\n",
       "\n",
       "// Listen for the removal of the full notebook cells\n",
       "var notebookContainer = gd.closest('#notebook-container');\n",
       "if (notebookContainer) {{\n",
       "    x.observe(notebookContainer, {childList: true});\n",
       "}}\n",
       "\n",
       "// Listen for the clearing of the current output cell\n",
       "var outputEl = gd.closest('.output');\n",
       "if (outputEl) {{\n",
       "    x.observe(outputEl, {childList: true});\n",
       "}}\n",
       "\n",
       "                        })                };                });            </script>        </div>"
      ]
     },
     "metadata": {},
     "output_type": "display_data"
    }
   ],
   "source": [
    "type_simclr=type_simclr_default\n",
    "def plot_best_score_all(dataset, type_simclr):\n",
    "    fig = go.Figure() \n",
    "    \n",
    "    for percentage in percentages:\n",
    "        best_scores = []  \n",
    "        n_transformations_=0\n",
    "        \n",
    "        max_score = -1  \n",
    "        for i, n_transformations in enumerate(transformations):\n",
    "            data = read_csv(dataset, type_simclr, n_transformations, percentage)\n",
    "            score_no_reducer = get_no_reducer_score(dataset) \n",
    "            try:\n",
    "                max_dataset_score = data['score'].max()\n",
    "                \n",
    "                if max_dataset_score > max_score:\n",
    "                    max_score = max_dataset_score \n",
    "                    max_dataset_score_ = data['score'].cummax()\n",
    "                    n_transformations_ = n_transformations\n",
    "            except:\n",
    "                n_transformations_ = 0\n",
    "                \n",
    "                \n",
    "                \n",
    "            best_scores.append(max_score)\n",
    "        best_transformation[percentage]={}\n",
    "        best_transformation['score_no_reducer']=score_no_reducer        \n",
    "        best_transformation[percentage]['t']=n_transformations_\n",
    "        best_transformation[percentage]['score']=max_score\n",
    "    return best_transformation\n",
    "\n",
    "\n",
    "def plot_lines_all():\n",
    "    data_frames = []\n",
    "    \n",
    "    for i, type_simclr in enumerate(type_simclr_options):\n",
    "        best_scores = []\n",
    "    \n",
    "        for percentage in percentages:\n",
    "            try:\n",
    "                data = plot_best_score_all(dataset, type_simclr)\n",
    "                score_no_reducer = get_no_reducer_score(dataset)\n",
    "                best_scores.append(data[percentage]['score'].max() / score_no_reducer)\n",
    "            except:\n",
    "                print(dataset, type_simclr, percentage)\n",
    "                best_scores.append(0)\n",
    "    \n",
    "            # Create a DataFrame for the current dataset and percentage\n",
    "            df = pd.DataFrame({'type_simclr': [type_simclr], 'Percentage': [percentage], 'Best_Scores': [best_scores[-1]]})\n",
    "            data_frames.append(df)\n",
    "            \n",
    "    # Concatenate all DataFrames into one\n",
    "    data_frame = pd.concat(data_frames, ignore_index=True)\n",
    "    \n",
    "    # Create a Plotly figure\n",
    "    fig = px.line(data_frame, x='Percentage', y='Best_Scores', color='type_simclr',\n",
    "                  labels={'Percentage': 'Percentages of original dimensionality',\n",
    "                          'Best_Scores': 'Ratio: (Best accuracy)/(No reducer)'},\n",
    "                  title=f'{dataset} {type_simclr} - Hyperparameters exploration',\n",
    "                  )\n",
    "    fig.update_layout(\n",
    "        height=600,  # Set your desired height (in pixels)\n",
    "        width=800    # Set your desired width (in pixels)\n",
    "    )\n",
    "    fig.update_traces(mode='markers+lines')\n",
    "    \n",
    "    # Show the figure\n",
    "    fig.show()\n",
    "\n",
    "\n",
    "dataset=dataset_default\n",
    "plot_lines_all()\n"
   ]
  },
  {
   "cell_type": "code",
   "execution_count": 21,
   "id": "dd34c58f-5e0d-4f3a-b5f3-9e41f34ce074",
   "metadata": {},
   "outputs": [
    {
     "name": "stdout",
     "output_type": "stream",
     "text": [
      "experiments/simclr_all/simcrl_full/motionsense/simcrl_full_3T_motionsense_P25/data.csv\n",
      "experiments/simclr_all/SimCLR_linear/motionsense/SimCLR_linear_3T_motionsense_P25/data.csv\n",
      "experiments/simclr_all/simclr/motionsense/simclr_3T_motionsense_P25/data.csv\n"
     ]
    },
    {
     "data": {
      "image/png": "[encoded data removed]",
      "text/plain": [
       "<Figure size 1500x800 with 2 Axes>"
      ]
     },
     "metadata": {},
     "output_type": "display_data"
    },
    {
     "name": "stdout",
     "output_type": "stream",
     "text": [
      "experiments/simclr_all/simcrl_full/motionsense/simcrl_full_3T_motionsense_P50/data.csv\n",
      "experiments/simclr_all/SimCLR_linear/motionsense/SimCLR_linear_3T_motionsense_P50/data.csv\n",
      "experiments/simclr_all/simclr/motionsense/simclr_3T_motionsense_P50/data.csv\n"
     ]
    },
    {
     "data": {
      "image/png": "[encoded data removed]",
      "text/plain": [
       "<Figure size 1500x800 with 2 Axes>"
      ]
     },
     "metadata": {},
     "output_type": "display_data"
    },
    {
     "name": "stdout",
     "output_type": "stream",
     "text": [
      "experiments/simclr_all/simcrl_full/motionsense/simcrl_full_3T_motionsense_P75/data.csv\n",
      "experiments/simclr_all/SimCLR_linear/motionsense/SimCLR_linear_3T_motionsense_P75/data.csv\n",
      "experiments/simclr_all/simclr/motionsense/simclr_3T_motionsense_P75/data.csv\n"
     ]
    },
    {
     "data": {
      "image/png": "[encoded data removed]",
      "text/plain": [
       "<Figure size 1500x800 with 2 Axes>"
      ]
     },
     "metadata": {},
     "output_type": "display_data"
    },
    {
     "name": "stdout",
     "output_type": "stream",
     "text": [
      "experiments/simclr_all/simcrl_full/motionsense/simcrl_full_3T_motionsense_P100/data.csv\n",
      "experiments/simclr_all/SimCLR_linear/motionsense/SimCLR_linear_3T_motionsense_P100/data.csv\n",
      "experiments/simclr_all/simclr/motionsense/simclr_3T_motionsense_P100/data.csv\n"
     ]
    },
    {
     "data": {
      "image/png": "[encoded data removed]",
      "text/plain": [
       "<Figure size 1500x800 with 2 Axes>"
      ]
     },
     "metadata": {},
     "output_type": "display_data"
    },
    {
     "name": "stdout",
     "output_type": "stream",
     "text": [
      "experiments/simclr_all/simcrl_full/motionsense/simcrl_full_3T_motionsense_P200/data.csv\n",
      "experiments/simclr_all/SimCLR_linear/motionsense/SimCLR_linear_3T_motionsense_P200/data.csv\n",
      "experiments/simclr_all/simclr/motionsense/simclr_3T_motionsense_P200/data.csv\n"
     ]
    },
    {
     "data": {
      "image/png": "[encoded data removed]",
      "text/plain": [
       "<Figure size 1500x800 with 2 Axes>"
      ]
     },
     "metadata": {},
     "output_type": "display_data"
    }
   ],
   "source": [
    "fixed_percentage(datasets=[dataset_default])"
   ]
  },
  {
   "cell_type": "code",
   "execution_count": 18,
   "id": "3be89faa-9512-4450-bc22-d619afc7c9b2",
   "metadata": {},
   "outputs": [
    {
     "name": "stdout",
     "output_type": "stream",
     "text": [
      "experiments/simclr_all/simclr_full/wisdm/simclr_full_2T_wisdm_P25/data.csv\n",
      "experiments/simclr_all/simclr_full/wisdm/simclr_full_3T_wisdm_P25/data.csv\n",
      "experiments/simclr_all/simclr_full/wisdm/simclr_full_4T_wisdm_P25/data.csv\n",
      "experiments/simclr_all/simclr_full/wisdm/simclr_full_2T_wisdm_P50/data.csv\n",
      "experiments/simclr_all/simclr_full/wisdm/simclr_full_3T_wisdm_P50/data.csv\n",
      "experiments/simclr_all/simclr_full/wisdm/simclr_full_4T_wisdm_P50/data.csv\n",
      "experiments/simclr_all/simclr_full/wisdm/simclr_full_2T_wisdm_P75/data.csv\n",
      "experiments/simclr_all/simclr_full/wisdm/simclr_full_3T_wisdm_P75/data.csv\n",
      "experiments/simclr_all/simclr_full/wisdm/simclr_full_4T_wisdm_P75/data.csv\n",
      "experiments/simclr_all/simclr_full/wisdm/simclr_full_2T_wisdm_P100/data.csv\n",
      "experiments/simclr_all/simclr_full/wisdm/simclr_full_3T_wisdm_P100/data.csv\n",
      "experiments/simclr_all/simclr_full/wisdm/simclr_full_4T_wisdm_P100/data.csv\n",
      "experiments/simclr_all/simclr_full/wisdm/simclr_full_1T_wisdm_P200/data.csv\n",
      "experiments/simclr_all/simclr_full/wisdm/simclr_full_2T_wisdm_P200/data.csv\n",
      "experiments/simclr_all/simclr_full/wisdm/simclr_full_3T_wisdm_P200/data.csv\n",
      "experiments/simclr_all/simclr_full/wisdm/simclr_full_4T_wisdm_P200/data.csv\n",
      "experiments/simclr_all/simclr_full/wisdm/simclr_full_2T_wisdm_P25/data.csv\n",
      "experiments/simclr_all/simclr_full/wisdm/simclr_full_3T_wisdm_P25/data.csv\n",
      "experiments/simclr_all/simclr_full/wisdm/simclr_full_4T_wisdm_P25/data.csv\n",
      "experiments/simclr_all/simclr_full/wisdm/simclr_full_2T_wisdm_P50/data.csv\n",
      "experiments/simclr_all/simclr_full/wisdm/simclr_full_3T_wisdm_P50/data.csv\n",
      "experiments/simclr_all/simclr_full/wisdm/simclr_full_4T_wisdm_P50/data.csv\n",
      "experiments/simclr_all/simclr_full/wisdm/simclr_full_2T_wisdm_P75/data.csv\n",
      "experiments/simclr_all/simclr_full/wisdm/simclr_full_3T_wisdm_P75/data.csv\n",
      "experiments/simclr_all/simclr_full/wisdm/simclr_full_4T_wisdm_P75/data.csv\n",
      "experiments/simclr_all/simclr_full/wisdm/simclr_full_2T_wisdm_P100/data.csv\n",
      "experiments/simclr_all/simclr_full/wisdm/simclr_full_3T_wisdm_P100/data.csv\n",
      "experiments/simclr_all/simclr_full/wisdm/simclr_full_4T_wisdm_P100/data.csv\n",
      "experiments/simclr_all/simclr_full/wisdm/simclr_full_1T_wisdm_P200/data.csv\n",
      "experiments/simclr_all/simclr_full/wisdm/simclr_full_2T_wisdm_P200/data.csv\n",
      "experiments/simclr_all/simclr_full/wisdm/simclr_full_3T_wisdm_P200/data.csv\n",
      "experiments/simclr_all/simclr_full/wisdm/simclr_full_4T_wisdm_P200/data.csv\n",
      "experiments/simclr_all/simclr_full/wisdm/simclr_full_2T_wisdm_P25/data.csv\n",
      "experiments/simclr_all/simclr_full/wisdm/simclr_full_3T_wisdm_P25/data.csv\n",
      "experiments/simclr_all/simclr_full/wisdm/simclr_full_4T_wisdm_P25/data.csv\n",
      "experiments/simclr_all/simclr_full/wisdm/simclr_full_2T_wisdm_P50/data.csv\n",
      "experiments/simclr_all/simclr_full/wisdm/simclr_full_3T_wisdm_P50/data.csv\n",
      "experiments/simclr_all/simclr_full/wisdm/simclr_full_4T_wisdm_P50/data.csv\n",
      "experiments/simclr_all/simclr_full/wisdm/simclr_full_2T_wisdm_P75/data.csv\n",
      "experiments/simclr_all/simclr_full/wisdm/simclr_full_3T_wisdm_P75/data.csv\n",
      "experiments/simclr_all/simclr_full/wisdm/simclr_full_4T_wisdm_P75/data.csv\n",
      "experiments/simclr_all/simclr_full/wisdm/simclr_full_2T_wisdm_P100/data.csv\n",
      "experiments/simclr_all/simclr_full/wisdm/simclr_full_3T_wisdm_P100/data.csv\n",
      "experiments/simclr_all/simclr_full/wisdm/simclr_full_4T_wisdm_P100/data.csv\n",
      "experiments/simclr_all/simclr_full/wisdm/simclr_full_1T_wisdm_P200/data.csv\n",
      "experiments/simclr_all/simclr_full/wisdm/simclr_full_2T_wisdm_P200/data.csv\n",
      "experiments/simclr_all/simclr_full/wisdm/simclr_full_3T_wisdm_P200/data.csv\n",
      "experiments/simclr_all/simclr_full/wisdm/simclr_full_4T_wisdm_P200/data.csv\n",
      "experiments/simclr_all/simclr_full/wisdm/simclr_full_2T_wisdm_P25/data.csv\n",
      "experiments/simclr_all/simclr_full/wisdm/simclr_full_3T_wisdm_P25/data.csv\n",
      "experiments/simclr_all/simclr_full/wisdm/simclr_full_4T_wisdm_P25/data.csv\n",
      "experiments/simclr_all/simclr_full/wisdm/simclr_full_2T_wisdm_P50/data.csv\n",
      "experiments/simclr_all/simclr_full/wisdm/simclr_full_3T_wisdm_P50/data.csv\n",
      "experiments/simclr_all/simclr_full/wisdm/simclr_full_4T_wisdm_P50/data.csv\n",
      "experiments/simclr_all/simclr_full/wisdm/simclr_full_2T_wisdm_P75/data.csv\n",
      "experiments/simclr_all/simclr_full/wisdm/simclr_full_3T_wisdm_P75/data.csv\n",
      "experiments/simclr_all/simclr_full/wisdm/simclr_full_4T_wisdm_P75/data.csv\n",
      "experiments/simclr_all/simclr_full/wisdm/simclr_full_2T_wisdm_P100/data.csv\n",
      "experiments/simclr_all/simclr_full/wisdm/simclr_full_3T_wisdm_P100/data.csv\n",
      "experiments/simclr_all/simclr_full/wisdm/simclr_full_4T_wisdm_P100/data.csv\n",
      "experiments/simclr_all/simclr_full/wisdm/simclr_full_1T_wisdm_P200/data.csv\n",
      "experiments/simclr_all/simclr_full/wisdm/simclr_full_2T_wisdm_P200/data.csv\n",
      "experiments/simclr_all/simclr_full/wisdm/simclr_full_3T_wisdm_P200/data.csv\n",
      "experiments/simclr_all/simclr_full/wisdm/simclr_full_4T_wisdm_P200/data.csv\n",
      "experiments/simclr_all/simclr_full/wisdm/simclr_full_2T_wisdm_P25/data.csv\n",
      "experiments/simclr_all/simclr_full/wisdm/simclr_full_3T_wisdm_P25/data.csv\n",
      "experiments/simclr_all/simclr_full/wisdm/simclr_full_4T_wisdm_P25/data.csv\n",
      "experiments/simclr_all/simclr_full/wisdm/simclr_full_2T_wisdm_P50/data.csv\n",
      "experiments/simclr_all/simclr_full/wisdm/simclr_full_3T_wisdm_P50/data.csv\n",
      "experiments/simclr_all/simclr_full/wisdm/simclr_full_4T_wisdm_P50/data.csv\n",
      "experiments/simclr_all/simclr_full/wisdm/simclr_full_2T_wisdm_P75/data.csv\n",
      "experiments/simclr_all/simclr_full/wisdm/simclr_full_3T_wisdm_P75/data.csv\n",
      "experiments/simclr_all/simclr_full/wisdm/simclr_full_4T_wisdm_P75/data.csv\n",
      "experiments/simclr_all/simclr_full/wisdm/simclr_full_2T_wisdm_P100/data.csv\n",
      "experiments/simclr_all/simclr_full/wisdm/simclr_full_3T_wisdm_P100/data.csv\n",
      "experiments/simclr_all/simclr_full/wisdm/simclr_full_4T_wisdm_P100/data.csv\n",
      "experiments/simclr_all/simclr_full/wisdm/simclr_full_1T_wisdm_P200/data.csv\n",
      "experiments/simclr_all/simclr_full/wisdm/simclr_full_2T_wisdm_P200/data.csv\n",
      "experiments/simclr_all/simclr_full/wisdm/simclr_full_3T_wisdm_P200/data.csv\n",
      "experiments/simclr_all/simclr_full/wisdm/simclr_full_4T_wisdm_P200/data.csv\n",
      "wisdm simclr_full 200\n",
      "experiments/simclr_all/simclr_full/realworld_waist/simclr_full_4T_realworld_waist_P200/data.csv\n",
      "experiments/simclr_all/simclr_full/realworld_waist/simclr_full_4T_realworld_waist_P200/data.csv\n",
      "experiments/simclr_all/simclr_full/realworld_waist/simclr_full_4T_realworld_waist_P200/data.csv\n",
      "experiments/simclr_all/simclr_full/realworld_waist/simclr_full_4T_realworld_waist_P200/data.csv\n",
      "experiments/simclr_all/simclr_full/realworld_waist/simclr_full_4T_realworld_waist_P200/data.csv\n"
     ]
    },
    {
     "data": {
      "application/vnd.plotly.v1+json": {
       "config": {
        "plotlyServerURL": "https://plot.ly"
       },
       "data": [
        {
         "hovertemplate": "Dataset=kuhar<br>Percentages of original dimensionality=%{x}<br>Ratio: (Best accuracy)/(No reducer)=%{y}<extra></extra>",
         "legendgroup": "kuhar",
         "line": {
          "color": "#636efa",
          "dash": "solid"
         },
         "marker": {
          "symbol": "circle"
         },
         "mode": "markers+lines",
         "name": "kuhar",
         "orientation": "v",
         "showlegend": true,
         "type": "scatter",
         "x": [
          25,
          50,
          75,
          100,
          200
         ],
         "xaxis": "x",
         "y": [
          1.031479538300105,
          1.05631339629241,
          1.0468695348023784,
          1.0297306750612103,
          1.0146904512067156
         ],
         "yaxis": "y"
        },
        {
         "hovertemplate": "Dataset=motionsense<br>Percentages of original dimensionality=%{x}<br>Ratio: (Best accuracy)/(No reducer)=%{y}<extra></extra>",
         "legendgroup": "motionsense",
         "line": {
          "color": "#EF553B",
          "dash": "solid"
         },
         "marker": {
          "symbol": "circle"
         },
         "mode": "markers+lines",
         "name": "motionsense",
         "orientation": "v",
         "showlegend": true,
         "type": "scatter",
         "x": [
          25,
          50,
          75,
          100,
          200
         ],
         "xaxis": "x",
         "y": [
          1.12299303241442,
          1.1102696152681006,
          1.1157225083308089,
          1.1354135110572554,
          1.119963647379582
         ],
         "yaxis": "y"
        },
        {
         "hovertemplate": "Dataset=uci<br>Percentages of original dimensionality=%{x}<br>Ratio: (Best accuracy)/(No reducer)=%{y}<extra></extra>",
         "legendgroup": "uci",
         "line": {
          "color": "#00cc96",
          "dash": "solid"
         },
         "marker": {
          "symbol": "circle"
         },
         "mode": "markers+lines",
         "name": "uci",
         "orientation": "v",
         "showlegend": true,
         "type": "scatter",
         "x": [
          25,
          50,
          75,
          100,
          200
         ],
         "xaxis": "x",
         "y": [
          1.0715277777777776,
          1.0659722222222223,
          1.0701388888888888,
          1.0631944444444446,
          1.0645833333333332
         ],
         "yaxis": "y"
        },
        {
         "hovertemplate": "Dataset=wisdm<br>Percentages of original dimensionality=%{x}<br>Ratio: (Best accuracy)/(No reducer)=%{y}<extra></extra>",
         "legendgroup": "wisdm",
         "line": {
          "color": "#ab63fa",
          "dash": "solid"
         },
         "marker": {
          "symbol": "circle"
         },
         "mode": "markers+lines",
         "name": "wisdm",
         "orientation": "v",
         "showlegend": true,
         "type": "scatter",
         "x": [
          25,
          50,
          75,
          100,
          200
         ],
         "xaxis": "x",
         "y": [
          0,
          0,
          0,
          0,
          0
         ],
         "yaxis": "y"
        },
        {
         "hovertemplate": "Dataset=realworld_thigh<br>Percentages of original dimensionality=%{x}<br>Ratio: (Best accuracy)/(No reducer)=%{y}<extra></extra>",
         "legendgroup": "realworld_thigh",
         "line": {
          "color": "#FFA15A",
          "dash": "solid"
         },
         "marker": {
          "symbol": "circle"
         },
         "mode": "markers+lines",
         "name": "realworld_thigh",
         "orientation": "v",
         "showlegend": true,
         "type": "scatter",
         "x": [
          25,
          50,
          75,
          100,
          200
         ],
         "xaxis": "x",
         "y": [
          1.1894680763871814,
          1.1886238832882552,
          1.1903122694861077,
          1.1869354970904025,
          1.187779690189329
         ],
         "yaxis": "y"
        },
        {
         "hovertemplate": "Dataset=realworld_waist<br>Percentages of original dimensionality=%{x}<br>Ratio: (Best accuracy)/(No reducer)=%{y}<extra></extra>",
         "legendgroup": "realworld_waist",
         "line": {
          "color": "#19d3f3",
          "dash": "solid"
         },
         "marker": {
          "symbol": "circle"
         },
         "mode": "markers+lines",
         "name": "realworld_waist",
         "orientation": "v",
         "showlegend": true,
         "type": "scatter",
         "x": [
          25,
          50,
          75,
          100,
          200
         ],
         "xaxis": "x",
         "y": [
          1.1387461459403907,
          1.1277834874957178,
          1.12846865364851,
          1.13189448441247,
          1.1277834874957178
         ],
         "yaxis": "y"
        }
       ],
       "layout": {
        "height": 600,
        "legend": {
         "title": {
          "text": "Dataset"
         },
         "tracegroupgap": 0
        },
        "template": {
         "data": {
          "bar": [
           {
            "error_x": {
             "color": "#2a3f5f"
            },
            "error_y": {
             "color": "#2a3f5f"
            },
            "marker": {
             "line": {
              "color": "#E5ECF6",
              "width": 0.5
             },
             "pattern": {
              "fillmode": "overlay",
              "size": 10,
              "solidity": 0.2
             }
            },
            "type": "bar"
           }
          ],
          "barpolar": [
           {
            "marker": {
             "line": {
              "color": "#E5ECF6",
              "width": 0.5
             },
             "pattern": {
              "fillmode": "overlay",
              "size": 10,
              "solidity": 0.2
             }
            },
            "type": "barpolar"
           }
          ],
          "carpet": [
           {
            "aaxis": {
             "endlinecolor": "#2a3f5f",
             "gridcolor": "white",
             "linecolor": "white",
             "minorgridcolor": "white",
             "startlinecolor": "#2a3f5f"
            },
            "baxis": {
             "endlinecolor": "#2a3f5f",
             "gridcolor": "white",
             "linecolor": "white",
             "minorgridcolor": "white",
             "startlinecolor": "#2a3f5f"
            },
            "type": "carpet"
           }
          ],
          "choropleth": [
           {
            "colorbar": {
             "outlinewidth": 0,
             "ticks": ""
            },
            "type": "choropleth"
           }
          ],
          "contour": [
           {
            "colorbar": {
             "outlinewidth": 0,
             "ticks": ""
            },
            "colorscale": [
             [
              0,
              "#0d0887"
             ],
             [
              0.1111111111111111,
              "#46039f"
             ],
             [
              0.2222222222222222,
              "#7201a8"
             ],
             [
              0.3333333333333333,
              "#9c179e"
             ],
             [
              0.4444444444444444,
              "#bd3786"
             ],
             [
              0.5555555555555556,
              "#d8576b"
             ],
             [
              0.6666666666666666,
              "#ed7953"
             ],
             [
              0.7777777777777778,
              "#fb9f3a"
             ],
             [
              0.8888888888888888,
              "#fdca26"
             ],
             [
              1,
              "#f0f921"
             ]
            ],
            "type": "contour"
           }
          ],
          "contourcarpet": [
           {
            "colorbar": {
             "outlinewidth": 0,
             "ticks": ""
            },
            "type": "contourcarpet"
           }
          ],
          "heatmap": [
           {
            "colorbar": {
             "outlinewidth": 0,
             "ticks": ""
            },
            "colorscale": [
             [
              0,
              "#0d0887"
             ],
             [
              0.1111111111111111,
              "#46039f"
             ],
             [
              0.2222222222222222,
              "#7201a8"
             ],
             [
              0.3333333333333333,
              "#9c179e"
             ],
             [
              0.4444444444444444,
              "#bd3786"
             ],
             [
              0.5555555555555556,
              "#d8576b"
             ],
             [
              0.6666666666666666,
              "#ed7953"
             ],
             [
              0.7777777777777778,
              "#fb9f3a"
             ],
             [
              0.8888888888888888,
              "#fdca26"
             ],
             [
              1,
              "#f0f921"
             ]
            ],
            "type": "heatmap"
           }
          ],
          "heatmapgl": [
           {
            "colorbar": {
             "outlinewidth": 0,
             "ticks": ""
            },
            "colorscale": [
             [
              0,
              "#0d0887"
             ],
             [
              0.1111111111111111,
              "#46039f"
             ],
             [
              0.2222222222222222,
              "#7201a8"
             ],
             [
              0.3333333333333333,
              "#9c179e"
             ],
             [
              0.4444444444444444,
              "#bd3786"
             ],
             [
              0.5555555555555556,
              "#d8576b"
             ],
             [
              0.6666666666666666,
              "#ed7953"
             ],
             [
              0.7777777777777778,
              "#fb9f3a"
             ],
             [
              0.8888888888888888,
              "#fdca26"
             ],
             [
              1,
              "#f0f921"
             ]
            ],
            "type": "heatmapgl"
           }
          ],
          "histogram": [
           {
            "marker": {
             "pattern": {
              "fillmode": "overlay",
              "size": 10,
              "solidity": 0.2
             }
            },
            "type": "histogram"
           }
          ],
          "histogram2d": [
           {
            "colorbar": {
             "outlinewidth": 0,
             "ticks": ""
            },
            "colorscale": [
             [
              0,
              "#0d0887"
             ],
             [
              0.1111111111111111,
              "#46039f"
             ],
             [
              0.2222222222222222,
              "#7201a8"
             ],
             [
              0.3333333333333333,
              "#9c179e"
             ],
             [
              0.4444444444444444,
              "#bd3786"
             ],
             [
              0.5555555555555556,
              "#d8576b"
             ],
             [
              0.6666666666666666,
              "#ed7953"
             ],
             [
              0.7777777777777778,
              "#fb9f3a"
             ],
             [
              0.8888888888888888,
              "#fdca26"
             ],
             [
              1,
              "#f0f921"
             ]
            ],
            "type": "histogram2d"
           }
          ],
          "histogram2dcontour": [
           {
            "colorbar": {
             "outlinewidth": 0,
             "ticks": ""
            },
            "colorscale": [
             [
              0,
              "#0d0887"
             ],
             [
              0.1111111111111111,
              "#46039f"
             ],
             [
              0.2222222222222222,
              "#7201a8"
             ],
             [
              0.3333333333333333,
              "#9c179e"
             ],
             [
              0.4444444444444444,
              "#bd3786"
             ],
             [
              0.5555555555555556,
              "#d8576b"
             ],
             [
              0.6666666666666666,
              "#ed7953"
             ],
             [
              0.7777777777777778,
              "#fb9f3a"
             ],
             [
              0.8888888888888888,
              "#fdca26"
             ],
             [
              1,
              "#f0f921"
             ]
            ],
            "type": "histogram2dcontour"
           }
          ],
          "mesh3d": [
           {
            "colorbar": {
             "outlinewidth": 0,
             "ticks": ""
            },
            "type": "mesh3d"
           }
          ],
          "parcoords": [
           {
            "line": {
             "colorbar": {
              "outlinewidth": 0,
              "ticks": ""
             }
            },
            "type": "parcoords"
           }
          ],
          "pie": [
           {
            "automargin": true,
            "type": "pie"
           }
          ],
          "scatter": [
           {
            "fillpattern": {
             "fillmode": "overlay",
             "size": 10,
             "solidity": 0.2
            },
            "type": "scatter"
           }
          ],
          "scatter3d": [
           {
            "line": {
             "colorbar": {
              "outlinewidth": 0,
              "ticks": ""
             }
            },
            "marker": {
             "colorbar": {
              "outlinewidth": 0,
              "ticks": ""
             }
            },
            "type": "scatter3d"
           }
          ],
          "scattercarpet": [
           {
            "marker": {
             "colorbar": {
              "outlinewidth": 0,
              "ticks": ""
             }
            },
            "type": "scattercarpet"
           }
          ],
          "scattergeo": [
           {
            "marker": {
             "colorbar": {
              "outlinewidth": 0,
              "ticks": ""
             }
            },
            "type": "scattergeo"
           }
          ],
          "scattergl": [
           {
            "marker": {
             "colorbar": {
              "outlinewidth": 0,
              "ticks": ""
             }
            },
            "type": "scattergl"
           }
          ],
          "scattermapbox": [
           {
            "marker": {
             "colorbar": {
              "outlinewidth": 0,
              "ticks": ""
             }
            },
            "type": "scattermapbox"
           }
          ],
          "scatterpolar": [
           {
            "marker": {
             "colorbar": {
              "outlinewidth": 0,
              "ticks": ""
             }
            },
            "type": "scatterpolar"
           }
          ],
          "scatterpolargl": [
           {
            "marker": {
             "colorbar": {
              "outlinewidth": 0,
              "ticks": ""
             }
            },
            "type": "scatterpolargl"
           }
          ],
          "scatterternary": [
           {
            "marker": {
             "colorbar": {
              "outlinewidth": 0,
              "ticks": ""
             }
            },
            "type": "scatterternary"
           }
          ],
          "surface": [
           {
            "colorbar": {
             "outlinewidth": 0,
             "ticks": ""
            },
            "colorscale": [
             [
              0,
              "#0d0887"
             ],
             [
              0.1111111111111111,
              "#46039f"
             ],
             [
              0.2222222222222222,
              "#7201a8"
             ],
             [
              0.3333333333333333,
              "#9c179e"
             ],
             [
              0.4444444444444444,
              "#bd3786"
             ],
             [
              0.5555555555555556,
              "#d8576b"
             ],
             [
              0.6666666666666666,
              "#ed7953"
             ],
             [
              0.7777777777777778,
              "#fb9f3a"
             ],
             [
              0.8888888888888888,
              "#fdca26"
             ],
             [
              1,
              "#f0f921"
             ]
            ],
            "type": "surface"
           }
          ],
          "table": [
           {
            "cells": {
             "fill": {
              "color": "#EBF0F8"
             },
             "line": {
              "color": "white"
             }
            },
            "header": {
             "fill": {
              "color": "#C8D4E3"
             },
             "line": {
              "color": "white"
             }
            },
            "type": "table"
           }
          ]
         },
         "layout": {
          "annotationdefaults": {
           "arrowcolor": "#2a3f5f",
           "arrowhead": 0,
           "arrowwidth": 1
          },
          "autotypenumbers": "strict",
          "coloraxis": {
           "colorbar": {
            "outlinewidth": 0,
            "ticks": ""
           }
          },
          "colorscale": {
           "diverging": [
            [
             0,
             "#8e0152"
            ],
            [
             0.1,
             "#c51b7d"
            ],
            [
             0.2,
             "#de77ae"
            ],
            [
             0.3,
             "#f1b6da"
            ],
            [
             0.4,
             "#fde0ef"
            ],
            [
             0.5,
             "#f7f7f7"
            ],
            [
             0.6,
             "#e6f5d0"
            ],
            [
             0.7,
             "#b8e186"
            ],
            [
             0.8,
             "#7fbc41"
            ],
            [
             0.9,
             "#4d9221"
            ],
            [
             1,
             "#276419"
            ]
           ],
           "sequential": [
            [
             0,
             "#0d0887"
            ],
            [
             0.1111111111111111,
             "#46039f"
            ],
            [
             0.2222222222222222,
             "#7201a8"
            ],
            [
             0.3333333333333333,
             "#9c179e"
            ],
            [
             0.4444444444444444,
             "#bd3786"
            ],
            [
             0.5555555555555556,
             "#d8576b"
            ],
            [
             0.6666666666666666,
             "#ed7953"
            ],
            [
             0.7777777777777778,
             "#fb9f3a"
            ],
            [
             0.8888888888888888,
             "#fdca26"
            ],
            [
             1,
             "#f0f921"
            ]
           ],
           "sequentialminus": [
            [
             0,
             "#0d0887"
            ],
            [
             0.1111111111111111,
             "#46039f"
            ],
            [
             0.2222222222222222,
             "#7201a8"
            ],
            [
             0.3333333333333333,
             "#9c179e"
            ],
            [
             0.4444444444444444,
             "#bd3786"
            ],
            [
             0.5555555555555556,
             "#d8576b"
            ],
            [
             0.6666666666666666,
             "#ed7953"
            ],
            [
             0.7777777777777778,
             "#fb9f3a"
            ],
            [
             0.8888888888888888,
             "#fdca26"
            ],
            [
             1,
             "#f0f921"
            ]
           ]
          },
          "colorway": [
           "#636efa",
           "#EF553B",
           "#00cc96",
           "#ab63fa",
           "#FFA15A",
           "#19d3f3",
           "#FF6692",
           "#B6E880",
           "#FF97FF",
           "#FECB52"
          ],
          "font": {
           "color": "#2a3f5f"
          },
          "geo": {
           "bgcolor": "white",
           "lakecolor": "white",
           "landcolor": "#E5ECF6",
           "showlakes": true,
           "showland": true,
           "subunitcolor": "white"
          },
          "hoverlabel": {
           "align": "left"
          },
          "hovermode": "closest",
          "mapbox": {
           "style": "light"
          },
          "paper_bgcolor": "white",
          "plot_bgcolor": "#E5ECF6",
          "polar": {
           "angularaxis": {
            "gridcolor": "white",
            "linecolor": "white",
            "ticks": ""
           },
           "bgcolor": "#E5ECF6",
           "radialaxis": {
            "gridcolor": "white",
            "linecolor": "white",
            "ticks": ""
           }
          },
          "scene": {
           "xaxis": {
            "backgroundcolor": "#E5ECF6",
            "gridcolor": "white",
            "gridwidth": 2,
            "linecolor": "white",
            "showbackground": true,
            "ticks": "",
            "zerolinecolor": "white"
           },
           "yaxis": {
            "backgroundcolor": "#E5ECF6",
            "gridcolor": "white",
            "gridwidth": 2,
            "linecolor": "white",
            "showbackground": true,
            "ticks": "",
            "zerolinecolor": "white"
           },
           "zaxis": {
            "backgroundcolor": "#E5ECF6",
            "gridcolor": "white",
            "gridwidth": 2,
            "linecolor": "white",
            "showbackground": true,
            "ticks": "",
            "zerolinecolor": "white"
           }
          },
          "shapedefaults": {
           "line": {
            "color": "#2a3f5f"
           }
          },
          "ternary": {
           "aaxis": {
            "gridcolor": "white",
            "linecolor": "white",
            "ticks": ""
           },
           "baxis": {
            "gridcolor": "white",
            "linecolor": "white",
            "ticks": ""
           },
           "bgcolor": "#E5ECF6",
           "caxis": {
            "gridcolor": "white",
            "linecolor": "white",
            "ticks": ""
           }
          },
          "title": {
           "x": 0.05
          },
          "xaxis": {
           "automargin": true,
           "gridcolor": "white",
           "linecolor": "white",
           "ticks": "",
           "title": {
            "standoff": 15
           },
           "zerolinecolor": "white",
           "zerolinewidth": 2
          },
          "yaxis": {
           "automargin": true,
           "gridcolor": "white",
           "linecolor": "white",
           "ticks": "",
           "title": {
            "standoff": 15
           },
           "zerolinecolor": "white",
           "zerolinewidth": 2
          }
         }
        },
        "title": {
         "text": "simclr_full - Hyperparameters exploration"
        },
        "width": 800,
        "xaxis": {
         "anchor": "y",
         "autorange": true,
         "domain": [
          0,
          1
         ],
         "range": [
          13.832738803012285,
          211.1672611969877
         ],
         "title": {
          "text": "Percentages of original dimensionality"
         },
         "type": "linear"
        },
        "yaxis": {
         "anchor": "x",
         "autorange": true,
         "domain": [
          0,
          1
         ],
         "range": [
          -0.07951478723287764,
          1.2698270567189853
         ],
         "title": {
          "text": "Ratio: (Best accuracy)/(No reducer)"
         },
         "type": "linear"
        }
       }
      },
      "image/png": "[encoded data removed]",
      "text/html": [
       "<div>                            <div id=\"e2fc64b5-e872-45bc-aae9-340d51d69189\" class=\"plotly-graph-div\" style=\"height:600px; width:800px;\"></div>            <script type=\"text/javascript\">                require([\"plotly\"], function(Plotly) {                    window.PLOTLYENV=window.PLOTLYENV || {};                                    if (document.getElementById(\"e2fc64b5-e872-45bc-aae9-340d51d69189\")) {                    Plotly.newPlot(                        \"e2fc64b5-e872-45bc-aae9-340d51d69189\",                        [{\"hovertemplate\":\"Dataset=kuhar\\u003cbr\\u003ePercentages of original dimensionality=%{x}\\u003cbr\\u003eRatio: (Best accuracy)\\u002f(No reducer)=%{y}\\u003cextra\\u003e\\u003c\\u002fextra\\u003e\",\"legendgroup\":\"kuhar\",\"line\":{\"color\":\"#636efa\",\"dash\":\"solid\"},\"marker\":{\"symbol\":\"circle\"},\"mode\":\"markers+lines\",\"name\":\"kuhar\",\"orientation\":\"v\",\"showlegend\":true,\"x\":[25,50,75,100,200],\"xaxis\":\"x\",\"y\":[1.031479538300105,1.05631339629241,1.0468695348023784,1.0297306750612103,1.0146904512067156],\"yaxis\":\"y\",\"type\":\"scatter\"},{\"hovertemplate\":\"Dataset=motionsense\\u003cbr\\u003ePercentages of original dimensionality=%{x}\\u003cbr\\u003eRatio: (Best accuracy)\\u002f(No reducer)=%{y}\\u003cextra\\u003e\\u003c\\u002fextra\\u003e\",\"legendgroup\":\"motionsense\",\"line\":{\"color\":\"#EF553B\",\"dash\":\"solid\"},\"marker\":{\"symbol\":\"circle\"},\"mode\":\"markers+lines\",\"name\":\"motionsense\",\"orientation\":\"v\",\"showlegend\":true,\"x\":[25,50,75,100,200],\"xaxis\":\"x\",\"y\":[1.12299303241442,1.1102696152681006,1.1157225083308089,1.1354135110572554,1.119963647379582],\"yaxis\":\"y\",\"type\":\"scatter\"},{\"hovertemplate\":\"Dataset=uci\\u003cbr\\u003ePercentages of original dimensionality=%{x}\\u003cbr\\u003eRatio: (Best accuracy)\\u002f(No reducer)=%{y}\\u003cextra\\u003e\\u003c\\u002fextra\\u003e\",\"legendgroup\":\"uci\",\"line\":{\"color\":\"#00cc96\",\"dash\":\"solid\"},\"marker\":{\"symbol\":\"circle\"},\"mode\":\"markers+lines\",\"name\":\"uci\",\"orientation\":\"v\",\"showlegend\":true,\"x\":[25,50,75,100,200],\"xaxis\":\"x\",\"y\":[1.0715277777777776,1.0659722222222223,1.0701388888888888,1.0631944444444446,1.0645833333333332],\"yaxis\":\"y\",\"type\":\"scatter\"},{\"hovertemplate\":\"Dataset=wisdm\\u003cbr\\u003ePercentages of original dimensionality=%{x}\\u003cbr\\u003eRatio: (Best accuracy)\\u002f(No reducer)=%{y}\\u003cextra\\u003e\\u003c\\u002fextra\\u003e\",\"legendgroup\":\"wisdm\",\"line\":{\"color\":\"#ab63fa\",\"dash\":\"solid\"},\"marker\":{\"symbol\":\"circle\"},\"mode\":\"markers+lines\",\"name\":\"wisdm\",\"orientation\":\"v\",\"showlegend\":true,\"x\":[25,50,75,100,200],\"xaxis\":\"x\",\"y\":[0.0,0.0,0.0,0.0,0.0],\"yaxis\":\"y\",\"type\":\"scatter\"},{\"hovertemplate\":\"Dataset=realworld_thigh\\u003cbr\\u003ePercentages of original dimensionality=%{x}\\u003cbr\\u003eRatio: (Best accuracy)\\u002f(No reducer)=%{y}\\u003cextra\\u003e\\u003c\\u002fextra\\u003e\",\"legendgroup\":\"realworld_thigh\",\"line\":{\"color\":\"#FFA15A\",\"dash\":\"solid\"},\"marker\":{\"symbol\":\"circle\"},\"mode\":\"markers+lines\",\"name\":\"realworld_thigh\",\"orientation\":\"v\",\"showlegend\":true,\"x\":[25,50,75,100,200],\"xaxis\":\"x\",\"y\":[1.1894680763871814,1.1886238832882552,1.1903122694861077,1.1869354970904025,1.187779690189329],\"yaxis\":\"y\",\"type\":\"scatter\"},{\"hovertemplate\":\"Dataset=realworld_waist\\u003cbr\\u003ePercentages of original dimensionality=%{x}\\u003cbr\\u003eRatio: (Best accuracy)\\u002f(No reducer)=%{y}\\u003cextra\\u003e\\u003c\\u002fextra\\u003e\",\"legendgroup\":\"realworld_waist\",\"line\":{\"color\":\"#19d3f3\",\"dash\":\"solid\"},\"marker\":{\"symbol\":\"circle\"},\"mode\":\"markers+lines\",\"name\":\"realworld_waist\",\"orientation\":\"v\",\"showlegend\":true,\"x\":[25,50,75,100,200],\"xaxis\":\"x\",\"y\":[1.1387461459403907,1.1277834874957178,1.12846865364851,1.13189448441247,1.1277834874957178],\"yaxis\":\"y\",\"type\":\"scatter\"}],                        {\"template\":{\"data\":{\"histogram2dcontour\":[{\"type\":\"histogram2dcontour\",\"colorbar\":{\"outlinewidth\":0,\"ticks\":\"\"},\"colorscale\":[[0.0,\"#0d0887\"],[0.1111111111111111,\"#46039f\"],[0.2222222222222222,\"#7201a8\"],[0.3333333333333333,\"#9c179e\"],[0.4444444444444444,\"#bd3786\"],[0.5555555555555556,\"#d8576b\"],[0.6666666666666666,\"#ed7953\"],[0.7777777777777778,\"#fb9f3a\"],[0.8888888888888888,\"#fdca26\"],[1.0,\"#f0f921\"]]}],\"choropleth\":[{\"type\":\"choropleth\",\"colorbar\":{\"outlinewidth\":0,\"ticks\":\"\"}}],\"histogram2d\":[{\"type\":\"histogram2d\",\"colorbar\":{\"outlinewidth\":0,\"ticks\":\"\"},\"colorscale\":[[0.0,\"#0d0887\"],[0.1111111111111111,\"#46039f\"],[0.2222222222222222,\"#7201a8\"],[0.3333333333333333,\"#9c179e\"],[0.4444444444444444,\"#bd3786\"],[0.5555555555555556,\"#d8576b\"],[0.6666666666666666,\"#ed7953\"],[0.7777777777777778,\"#fb9f3a\"],[0.8888888888888888,\"#fdca26\"],[1.0,\"#f0f921\"]]}],\"heatmap\":[{\"type\":\"heatmap\",\"colorbar\":{\"outlinewidth\":0,\"ticks\":\"\"},\"colorscale\":[[0.0,\"#0d0887\"],[0.1111111111111111,\"#46039f\"],[0.2222222222222222,\"#7201a8\"],[0.3333333333333333,\"#9c179e\"],[0.4444444444444444,\"#bd3786\"],[0.5555555555555556,\"#d8576b\"],[0.6666666666666666,\"#ed7953\"],[0.7777777777777778,\"#fb9f3a\"],[0.8888888888888888,\"#fdca26\"],[1.0,\"#f0f921\"]]}],\"heatmapgl\":[{\"type\":\"heatmapgl\",\"colorbar\":{\"outlinewidth\":0,\"ticks\":\"\"},\"colorscale\":[[0.0,\"#0d0887\"],[0.1111111111111111,\"#46039f\"],[0.2222222222222222,\"#7201a8\"],[0.3333333333333333,\"#9c179e\"],[0.4444444444444444,\"#bd3786\"],[0.5555555555555556,\"#d8576b\"],[0.6666666666666666,\"#ed7953\"],[0.7777777777777778,\"#fb9f3a\"],[0.8888888888888888,\"#fdca26\"],[1.0,\"#f0f921\"]]}],\"contourcarpet\":[{\"type\":\"contourcarpet\",\"colorbar\":{\"outlinewidth\":0,\"ticks\":\"\"}}],\"contour\":[{\"type\":\"contour\",\"colorbar\":{\"outlinewidth\":0,\"ticks\":\"\"},\"colorscale\":[[0.0,\"#0d0887\"],[0.1111111111111111,\"#46039f\"],[0.2222222222222222,\"#7201a8\"],[0.3333333333333333,\"#9c179e\"],[0.4444444444444444,\"#bd3786\"],[0.5555555555555556,\"#d8576b\"],[0.6666666666666666,\"#ed7953\"],[0.7777777777777778,\"#fb9f3a\"],[0.8888888888888888,\"#fdca26\"],[1.0,\"#f0f921\"]]}],\"surface\":[{\"type\":\"surface\",\"colorbar\":{\"outlinewidth\":0,\"ticks\":\"\"},\"colorscale\":[[0.0,\"#0d0887\"],[0.1111111111111111,\"#46039f\"],[0.2222222222222222,\"#7201a8\"],[0.3333333333333333,\"#9c179e\"],[0.4444444444444444,\"#bd3786\"],[0.5555555555555556,\"#d8576b\"],[0.6666666666666666,\"#ed7953\"],[0.7777777777777778,\"#fb9f3a\"],[0.8888888888888888,\"#fdca26\"],[1.0,\"#f0f921\"]]}],\"mesh3d\":[{\"type\":\"mesh3d\",\"colorbar\":{\"outlinewidth\":0,\"ticks\":\"\"}}],\"scatter\":[{\"fillpattern\":{\"fillmode\":\"overlay\",\"size\":10,\"solidity\":0.2},\"type\":\"scatter\"}],\"parcoords\":[{\"type\":\"parcoords\",\"line\":{\"colorbar\":{\"outlinewidth\":0,\"ticks\":\"\"}}}],\"scatterpolargl\":[{\"type\":\"scatterpolargl\",\"marker\":{\"colorbar\":{\"outlinewidth\":0,\"ticks\":\"\"}}}],\"bar\":[{\"error_x\":{\"color\":\"#2a3f5f\"},\"error_y\":{\"color\":\"#2a3f5f\"},\"marker\":{\"line\":{\"color\":\"#E5ECF6\",\"width\":0.5},\"pattern\":{\"fillmode\":\"overlay\",\"size\":10,\"solidity\":0.2}},\"type\":\"bar\"}],\"scattergeo\":[{\"type\":\"scattergeo\",\"marker\":{\"colorbar\":{\"outlinewidth\":0,\"ticks\":\"\"}}}],\"scatterpolar\":[{\"type\":\"scatterpolar\",\"marker\":{\"colorbar\":{\"outlinewidth\":0,\"ticks\":\"\"}}}],\"histogram\":[{\"marker\":{\"pattern\":{\"fillmode\":\"overlay\",\"size\":10,\"solidity\":0.2}},\"type\":\"histogram\"}],\"scattergl\":[{\"type\":\"scattergl\",\"marker\":{\"colorbar\":{\"outlinewidth\":0,\"ticks\":\"\"}}}],\"scatter3d\":[{\"type\":\"scatter3d\",\"line\":{\"colorbar\":{\"outlinewidth\":0,\"ticks\":\"\"}},\"marker\":{\"colorbar\":{\"outlinewidth\":0,\"ticks\":\"\"}}}],\"scattermapbox\":[{\"type\":\"scattermapbox\",\"marker\":{\"colorbar\":{\"outlinewidth\":0,\"ticks\":\"\"}}}],\"scatterternary\":[{\"type\":\"scatterternary\",\"marker\":{\"colorbar\":{\"outlinewidth\":0,\"ticks\":\"\"}}}],\"scattercarpet\":[{\"type\":\"scattercarpet\",\"marker\":{\"colorbar\":{\"outlinewidth\":0,\"ticks\":\"\"}}}],\"carpet\":[{\"aaxis\":{\"endlinecolor\":\"#2a3f5f\",\"gridcolor\":\"white\",\"linecolor\":\"white\",\"minorgridcolor\":\"white\",\"startlinecolor\":\"#2a3f5f\"},\"baxis\":{\"endlinecolor\":\"#2a3f5f\",\"gridcolor\":\"white\",\"linecolor\":\"white\",\"minorgridcolor\":\"white\",\"startlinecolor\":\"#2a3f5f\"},\"type\":\"carpet\"}],\"table\":[{\"cells\":{\"fill\":{\"color\":\"#EBF0F8\"},\"line\":{\"color\":\"white\"}},\"header\":{\"fill\":{\"color\":\"#C8D4E3\"},\"line\":{\"color\":\"white\"}},\"type\":\"table\"}],\"barpolar\":[{\"marker\":{\"line\":{\"color\":\"#E5ECF6\",\"width\":0.5},\"pattern\":{\"fillmode\":\"overlay\",\"size\":10,\"solidity\":0.2}},\"type\":\"barpolar\"}],\"pie\":[{\"automargin\":true,\"type\":\"pie\"}]},\"layout\":{\"autotypenumbers\":\"strict\",\"colorway\":[\"#636efa\",\"#EF553B\",\"#00cc96\",\"#ab63fa\",\"#FFA15A\",\"#19d3f3\",\"#FF6692\",\"#B6E880\",\"#FF97FF\",\"#FECB52\"],\"font\":{\"color\":\"#2a3f5f\"},\"hovermode\":\"closest\",\"hoverlabel\":{\"align\":\"left\"},\"paper_bgcolor\":\"white\",\"plot_bgcolor\":\"#E5ECF6\",\"polar\":{\"bgcolor\":\"#E5ECF6\",\"angularaxis\":{\"gridcolor\":\"white\",\"linecolor\":\"white\",\"ticks\":\"\"},\"radialaxis\":{\"gridcolor\":\"white\",\"linecolor\":\"white\",\"ticks\":\"\"}},\"ternary\":{\"bgcolor\":\"#E5ECF6\",\"aaxis\":{\"gridcolor\":\"white\",\"linecolor\":\"white\",\"ticks\":\"\"},\"baxis\":{\"gridcolor\":\"white\",\"linecolor\":\"white\",\"ticks\":\"\"},\"caxis\":{\"gridcolor\":\"white\",\"linecolor\":\"white\",\"ticks\":\"\"}},\"coloraxis\":{\"colorbar\":{\"outlinewidth\":0,\"ticks\":\"\"}},\"colorscale\":{\"sequential\":[[0.0,\"#0d0887\"],[0.1111111111111111,\"#46039f\"],[0.2222222222222222,\"#7201a8\"],[0.3333333333333333,\"#9c179e\"],[0.4444444444444444,\"#bd3786\"],[0.5555555555555556,\"#d8576b\"],[0.6666666666666666,\"#ed7953\"],[0.7777777777777778,\"#fb9f3a\"],[0.8888888888888888,\"#fdca26\"],[1.0,\"#f0f921\"]],\"sequentialminus\":[[0.0,\"#0d0887\"],[0.1111111111111111,\"#46039f\"],[0.2222222222222222,\"#7201a8\"],[0.3333333333333333,\"#9c179e\"],[0.4444444444444444,\"#bd3786\"],[0.5555555555555556,\"#d8576b\"],[0.6666666666666666,\"#ed7953\"],[0.7777777777777778,\"#fb9f3a\"],[0.8888888888888888,\"#fdca26\"],[1.0,\"#f0f921\"]],\"diverging\":[[0,\"#8e0152\"],[0.1,\"#c51b7d\"],[0.2,\"#de77ae\"],[0.3,\"#f1b6da\"],[0.4,\"#fde0ef\"],[0.5,\"#f7f7f7\"],[0.6,\"#e6f5d0\"],[0.7,\"#b8e186\"],[0.8,\"#7fbc41\"],[0.9,\"#4d9221\"],[1,\"#276419\"]]},\"xaxis\":{\"gridcolor\":\"white\",\"linecolor\":\"white\",\"ticks\":\"\",\"title\":{\"standoff\":15},\"zerolinecolor\":\"white\",\"automargin\":true,\"zerolinewidth\":2},\"yaxis\":{\"gridcolor\":\"white\",\"linecolor\":\"white\",\"ticks\":\"\",\"title\":{\"standoff\":15},\"zerolinecolor\":\"white\",\"automargin\":true,\"zerolinewidth\":2},\"scene\":{\"xaxis\":{\"backgroundcolor\":\"#E5ECF6\",\"gridcolor\":\"white\",\"linecolor\":\"white\",\"showbackground\":true,\"ticks\":\"\",\"zerolinecolor\":\"white\",\"gridwidth\":2},\"yaxis\":{\"backgroundcolor\":\"#E5ECF6\",\"gridcolor\":\"white\",\"linecolor\":\"white\",\"showbackground\":true,\"ticks\":\"\",\"zerolinecolor\":\"white\",\"gridwidth\":2},\"zaxis\":{\"backgroundcolor\":\"#E5ECF6\",\"gridcolor\":\"white\",\"linecolor\":\"white\",\"showbackground\":true,\"ticks\":\"\",\"zerolinecolor\":\"white\",\"gridwidth\":2}},\"shapedefaults\":{\"line\":{\"color\":\"#2a3f5f\"}},\"annotationdefaults\":{\"arrowcolor\":\"#2a3f5f\",\"arrowhead\":0,\"arrowwidth\":1},\"geo\":{\"bgcolor\":\"white\",\"landcolor\":\"#E5ECF6\",\"subunitcolor\":\"white\",\"showland\":true,\"showlakes\":true,\"lakecolor\":\"white\"},\"title\":{\"x\":0.05},\"mapbox\":{\"style\":\"light\"}}},\"xaxis\":{\"anchor\":\"y\",\"domain\":[0.0,1.0],\"title\":{\"text\":\"Percentages of original dimensionality\"}},\"yaxis\":{\"anchor\":\"x\",\"domain\":[0.0,1.0],\"title\":{\"text\":\"Ratio: (Best accuracy)\\u002f(No reducer)\"}},\"legend\":{\"title\":{\"text\":\"Dataset\"},\"tracegroupgap\":0},\"title\":{\"text\":\"simclr_full - Hyperparameters exploration\"},\"height\":600,\"width\":800},                        {\"responsive\": true}                    ).then(function(){\n",
       "                            \n",
       "var gd = document.getElementById('e2fc64b5-e872-45bc-aae9-340d51d69189');\n",
       "var x = new MutationObserver(function (mutations, observer) {{\n",
       "        var display = window.getComputedStyle(gd).display;\n",
       "        if (!display || display === 'none') {{\n",
       "            console.log([gd, 'removed!']);\n",
       "            Plotly.purge(gd);\n",
       "            observer.disconnect();\n",
       "        }}\n",
       "}});\n",
       "\n",
       "// Listen for the removal of the full notebook cells\n",
       "var notebookContainer = gd.closest('#notebook-container');\n",
       "if (notebookContainer) {{\n",
       "    x.observe(notebookContainer, {childList: true});\n",
       "}}\n",
       "\n",
       "// Listen for the clearing of the current output cell\n",
       "var outputEl = gd.closest('.output');\n",
       "if (outputEl) {{\n",
       "    x.observe(outputEl, {childList: true});\n",
       "}}\n",
       "\n",
       "                        })                };                });            </script>        </div>"
      ]
     },
     "metadata": {},
     "output_type": "display_data"
    }
   ],
   "source": [
    "type_simclr=type_simclr_default\n",
    "def plot_best_score_all(dataset, type_simclr):\n",
    "    fig = go.Figure() \n",
    "    \n",
    "    for percentage in percentages:\n",
    "        best_scores = []  \n",
    "        n_transformations_=0\n",
    "        \n",
    "        max_score = -1  \n",
    "        for i, n_transformations in enumerate(transformations):\n",
    "            data = read_csv(dataset, type_simclr, n_transformations, percentage)\n",
    "            score_no_reducer = get_no_reducer_score(dataset) \n",
    "            try:\n",
    "                max_dataset_score = data['score'].max()\n",
    "                \n",
    "                if max_dataset_score > max_score:\n",
    "                    max_score = max_dataset_score \n",
    "                    max_dataset_score_ = data['score'].cummax()\n",
    "                    n_transformations_ = n_transformations\n",
    "            except:\n",
    "                n_transformations_ = 0\n",
    "                \n",
    "                \n",
    "                \n",
    "            best_scores.append(max_score)\n",
    "        best_transformation[percentage]={}\n",
    "        best_transformation['score_no_reducer']=score_no_reducer        \n",
    "        best_transformation[percentage]['t']=n_transformations_\n",
    "        best_transformation[percentage]['score']=max_score\n",
    "    return best_transformation\n",
    "\n",
    "\n",
    "def plot_lines_all():\n",
    "    data_frames = []\n",
    "    \n",
    "    for i, dataset in enumerate(datasets):\n",
    "        best_scores = []\n",
    "    \n",
    "        for percentage in percentages:\n",
    "            try:\n",
    "                data = plot_best_score_all(dataset, type_simclr)\n",
    "                score_no_reducer = get_no_reducer_score(dataset)\n",
    "                best_scores.append(data[percentage]['score'].max() / score_no_reducer)\n",
    "            except:\n",
    "                print(dataset, type_simclr, percentage)\n",
    "                best_scores.append(0)\n",
    "    \n",
    "            # Create a DataFrame for the current dataset and percentage\n",
    "            df = pd.DataFrame({'Dataset': [dataset], 'Percentage': [percentage], 'Best_Scores': [best_scores[-1]]})\n",
    "            data_frames.append(df)\n",
    "            \n",
    "    # Concatenate all DataFrames into one\n",
    "    data_frame = pd.concat(data_frames, ignore_index=True)\n",
    "    \n",
    "    # Create a Plotly figure\n",
    "    fig = px.line(data_frame, x='Percentage', y='Best_Scores', color='Dataset',\n",
    "                  labels={'Percentage': 'Percentages of original dimensionality',\n",
    "                          'Best_Scores': 'Ratio: (Best accuracy)/(No reducer)'},\n",
    "                  title=f'{type_simclr} - Hyperparameters exploration',\n",
    "                  )\n",
    "    fig.update_layout(\n",
    "        height=600,  # Set your desired height (in pixels)\n",
    "        width=800    # Set your desired width (in pixels)\n",
    "    )\n",
    "    fig.update_traces(mode='markers+lines')\n",
    "    \n",
    "    # Show the figure\n",
    "    fig.show()\n",
    "\n",
    "plot_lines_all()"
   ]
  },
  {
   "cell_type": "code",
   "execution_count": null,
   "id": "f91eff26-3189-4ddc-a595-fd38fda505ca",
   "metadata": {},
   "outputs": [],
   "source": []
  },
  {
   "cell_type": "code",
   "execution_count": null,
   "id": "4889e7f3-1ca1-4219-a2ff-cc8277e12c8e",
   "metadata": {},
   "outputs": [],
   "source": []
  }
 ],
 "metadata": {
  "kernelspec": {
   "display_name": "Python 3 (ipykernel)",
   "language": "python",
   "name": "python3"
  },
  "language_info": {
   "codemirror_mode": {
    "name": "ipython",
    "version": 3
   },
   "file_extension": ".py",
   "mimetype": "text/x-python",
   "name": "python",
   "nbconvert_exporter": "python",
   "pygments_lexer": "ipython3",
   "version": "3.10.13"
  }
 },
 "nbformat": 4,
 "nbformat_minor": 5
}
